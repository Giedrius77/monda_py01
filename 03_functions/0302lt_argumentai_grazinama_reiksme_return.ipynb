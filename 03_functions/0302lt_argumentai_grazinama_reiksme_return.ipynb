{
 "cells": [
  {
   "cell_type": "markdown",
   "metadata": {},
   "source": [
    "# Funkcija su `return` grąžinimo reikšme\n",
    "\n",
    "Funkcija su `return` grąžinimo reikšme yra kaip mašina, kuri gauna įvestį ir išspjauna rezultatą. Ši funkcija apdoroja įvairius duomenis ir grąžina tai, ką ji sukūrė, kad galėtumėte tai naudoti kitur savo programoje.\n",
    "\n",
    "- Grąžinama reikšmė gali būti bet koks objektas: skaičius, simbolių eilutė, sąrašas, duomenų struktūra ar kito tipo informacija.\n",
    "- Grąžinimas yra būtinas, kai norite, kad funkcijos darbo vaisius būtų panaudotas kitur jūsų programoje.\n",
    "- `return` pareiškimas nurodo, ką funkcija grąžins. Tai kaip bilietas iš mašinos, kurį pasiimate po to, kai ji sukūrė kažką naudingo.\n",
    "- Jei funkcija sugeneruoja daugiau nei vieną rezultatą, juos galima pateikti kaip sąrašą arba tuplės formoje.\n",
    "- Funkcijos ir kintamaojo pavadinimai NEgali buti vienodi, sugadins funjcija !!!\n",
    "\n",
    "Elementarus pavyzdys:"
   ]
  },
  {
   "cell_type": "code",
   "execution_count": 1,
   "metadata": {},
   "outputs": [],
   "source": [
    "def kvadratu(x):\n",
    "    return x ** 2"
   ]
  },
  {
   "cell_type": "markdown",
   "metadata": {},
   "source": [
    "Šioje funkcijoje ji priima skaičių `x` kaip `argumentą`, apskaičiuoja jo kvadratą ir grąžina rezultatą."
   ]
  },
  {
   "cell_type": "code",
   "execution_count": 4,
   "metadata": {},
   "outputs": [
    {
     "name": "stdout",
     "output_type": "stream",
     "text": [
      "25\n"
     ]
    }
   ],
   "source": [
    "rezultatas = kvadratu(5)\n",
    "print(rezultatas)  # Rezultatas: 25"
   ]
  },
  {
   "cell_type": "markdown",
   "metadata": {},
   "source": [
    "Ši `kvadratu` funkcija yra iškviesta su argumentu 5, ir jos grąžinta reikšmė 25 priskiriama kintamajam `rezultatas`, kuris vėliau atspausdinamas naudojant print funkciją.\n",
    "\n",
    "Kitas pavyzdys:"
   ]
  },
  {
   "cell_type": "code",
   "execution_count": 6,
   "metadata": {},
   "outputs": [
    {
     "name": "stdout",
     "output_type": "stream",
     "text": [
      "12\n"
     ]
    }
   ],
   "source": [
    "# PIRMAS budas - 5 eilutes\n",
    "def sudeti(x, y):\n",
    "    rezultatas = x + y\n",
    "    return rezultatas # be return, neaktyvuos matematonio veiksmo\n",
    "\n",
    "atsakymas = sudeti(10, 2) # naudojama kai reikia naujo kintamojo\n",
    "print(atsakymas)  # Rezultatas: 12"
   ]
  },
  {
   "cell_type": "code",
   "execution_count": 6,
   "metadata": {},
   "outputs": [
    {
     "name": "stdout",
     "output_type": "stream",
     "text": [
      "12\n"
     ]
    }
   ],
   "source": [
    "# ANTRAS budas - 4 eilutes\n",
    "def sudeti(x, y):\n",
    "    return x + y\n",
    "\n",
    "atsakymas = sudeti(10, 2) # naudojama kai reikia naujo kintamojo\n",
    "print(atsakymas)  # Rezultatas: 12"
   ]
  },
  {
   "cell_type": "code",
   "execution_count": 4,
   "metadata": {},
   "outputs": [
    {
     "name": "stdout",
     "output_type": "stream",
     "text": [
      "12\n"
     ]
    }
   ],
   "source": [
    "# TRECIAS budas - 3 eilutes, kai nereikia naujo kintamojo veiksmui \n",
    "def sudeti(x, y):\n",
    "    return x + y # return aktyvuoja veiksmus, gali buti ir be naujo kintamojo\n",
    "\n",
    "print(sudeti(10, 2))  # Rezultatas: 12"
   ]
  },
  {
   "cell_type": "markdown",
   "metadata": {},
   "source": [
    "Ši funkcija, `sudeti`, priima du argumentus (`x` ir `y`), juos sudeda ir grąžina sumą naudodama `return` pareiškimą. `sudeti` funkcija yra iškviesta su argumentais 10 ir 2, ir rezultatas 12 yra atspausdinamas."
   ]
  },
  {
   "cell_type": "markdown",
   "metadata": {},
   "source": [
    "### Greitas uždavinys 1\n",
    "\n",
    "Skaičiaus kėlimas laipsniu\n",
    "\n",
    "1. Parašykite funkciją `laipsniu`, kuri priima du argumentus - skaičių ir laipsnį, ir grąžina skaičių pakelta laipsniu. \n",
    "1. iškvieskite šią funkciją su konkrečiu skaičiumi ir atspausdinkite rezultatą."
   ]
  },
  {
   "cell_type": "code",
   "execution_count": 8,
   "metadata": {},
   "outputs": [
    {
     "name": "stdout",
     "output_type": "stream",
     "text": [
      "125\n"
     ]
    }
   ],
   "source": [
    "# destytojo pavyzdys kuris atitinka salyga: Greitas uzdavinys 1\n",
    "\n",
    "def pakelti_laipsniu(skaicius, laipsnis):\n",
    "    return skaicius ** laipsnis\n",
    "\n",
    "# Call the function and print the result\n",
    "print(pakelti_laipsniu(5, 3))  # Expected output: 125"
   ]
  },
  {
   "cell_type": "code",
   "execution_count": 9,
   "metadata": {},
   "outputs": [
    {
     "name": "stdout",
     "output_type": "stream",
     "text": [
      "125\n"
     ]
    }
   ],
   "source": [
    "def pakelti_laipsniu(skaicius, laipsnis):\n",
    "    atsakymas = skaicius ** laipsnis\n",
    "    return atsakymas # return aktyvuoja veiksmus\n",
    "\n",
    "naujas_kintamasia = pakelti_laipsniu(5, 3)\n",
    "print(naujas_kintamasia)"
   ]
  },
  {
   "cell_type": "code",
   "execution_count": 4,
   "metadata": {},
   "outputs": [
    {
     "name": "stdout",
     "output_type": "stream",
     "text": [
      "32768\n"
     ]
    }
   ],
   "source": [
    "# jusu kodo vieta\n",
    "\n",
    "# ilgesne versija, bet ji uzdavinys is senos salygos\n",
    "\n",
    "def apskaiciuoti_kvadrata(skaicius):\n",
    "    rezultatas = skaicius ** 5 # su vienu argumentu, tad 5 reiks keisti individualiai \n",
    "    return rezultatas\n",
    "\n",
    "atsakymas = apskaiciuoti_kvadrata(8)\n",
    "print(atsakymas)"
   ]
  },
  {
   "cell_type": "code",
   "execution_count": 5,
   "metadata": {},
   "outputs": [
    {
     "name": "stdout",
     "output_type": "stream",
     "text": [
      "512\n"
     ]
    }
   ],
   "source": [
    "# trumpesne versija, bet ji uzdavinys is senos salygos\n",
    "\n",
    "def apskaiciuoti_kvadrata(skaicius):\n",
    "    return skaicius ** 3 # return aktyvuoja veiksmus\n",
    "\n",
    "atsakymas = apskaiciuoti_kvadrata(8)\n",
    "print(atsakymas)"
   ]
  },
  {
   "cell_type": "markdown",
   "metadata": {},
   "source": [
    "---\n",
    "\n",
    "## Daugiau negu vieno kintamojo grąžinimas per tuple arba sąrašą (list)\n",
    "\n",
    "Jei reikia grąžinti kelias reikšmes iš funkcijos, galite jas sudėti į tulpą arba sąrašą. \n",
    "\n",
    "**Pavyzdys naudojant tuplą**:"
   ]
  },
  {
   "cell_type": "code",
   "execution_count": 10,
   "metadata": {},
   "outputs": [],
   "source": [
    "def suma_ir_sandauga(a, b):\n",
    "    suma = a + b\n",
    "    sandauga = a * b\n",
    "    return (suma, sandauga) # return aktyvuoja veiksmus"
   ]
  },
  {
   "cell_type": "markdown",
   "metadata": {},
   "source": [
    "Funkciją galima iškviesti ir grąžintas reikšmes išpakuoti taip:"
   ]
  },
  {
   "cell_type": "code",
   "execution_count": 11,
   "metadata": {},
   "outputs": [
    {
     "name": "stdout",
     "output_type": "stream",
     "text": [
      "(9, 20)\n"
     ]
    }
   ],
   "source": [
    "print(suma_ir_sandauga(4, 5))"
   ]
  },
  {
   "cell_type": "code",
   "execution_count": 12,
   "metadata": {},
   "outputs": [],
   "source": [
    "def suma_ir_sandauga(a, b):\n",
    "    suma = a + b\n",
    "    sandauga = a * b\n",
    "    return (suma, sandauga) # return aktyvuoja veiksmus"
   ]
  },
  {
   "cell_type": "code",
   "execution_count": 13,
   "metadata": {},
   "outputs": [
    {
     "name": "stdout",
     "output_type": "stream",
     "text": [
      "(5, 6)\n",
      "5 6\n",
      "5\n",
      "6\n"
     ]
    }
   ],
   "source": [
    "rezultatas = suma_ir_sandauga(2, 3) # priskiriame nauja kintamaji kad galetumem panaudoti kitiems veiksmams \n",
    "print(rezultatas)  # Rezultatas: (5, 6)\n",
    "print(rezultatas[0], rezultatas[1]) # 0 - atspausdins suma, nes pagal eile bus pirmas veiksmas, t.y index 0, 1 - atspausdins sandauga, nes index 1\n",
    "\n",
    "suma, sandauga = suma_ir_sandauga(2, 3) # priskiriame nauja kintamaji su jau esamais kad galetumem panaudoti kitiems veiksmams ar juos issaukti atskirai\n",
    "print(suma)     # Rezultatas: 5\n",
    "print(sandauga) # Rezultatas: 6"
   ]
  },
  {
   "cell_type": "markdown",
   "metadata": {},
   "source": [
    "- Pirmajame iškvietime funkcija grąžina tuplą (`5`, `6`), kurį priskiria kintamajam `rezultatas`. \n",
    "- Antrajame iškvietime reikšmės išpakuojamos į atskirus kintamuosius `suma` ir `sandauga`."
   ]
  },
  {
   "cell_type": "markdown",
   "metadata": {},
   "source": [
    "### Greitas uždavinys 2\n",
    "\n",
    "Parašykite funkciją dvejų argumentų sumos, skirtumo ir sandaugos radimui\n",
    "\n",
    "1. Sukurkite funkciją, kuri priima du skaičius kaip argumentus, juos sudeda, atima, sudaugina ir grąžina visus rezultatus kaip tuplę. \n",
    "1. Iškvieskite funkciją ir parodykite rezultatą."
   ]
  },
  {
   "cell_type": "code",
   "execution_count": 27,
   "metadata": {},
   "outputs": [
    {
     "name": "stdout",
     "output_type": "stream",
     "text": [
      "Atsakymas: (12, -4, 32, 0.5)\n",
      "32 \n",
      "\n",
      "8, -2, 15, 0.6\n",
      "8___-2___15___0.6\n"
     ]
    }
   ],
   "source": [
    "# jusu kodo vieta\n",
    "\n",
    "def suma(a, b):\n",
    "    pridetis = a + b\n",
    "    atimtis = a - b\n",
    "    daugyba = a * b\n",
    "    dalyba = a / b\n",
    "    return (pridetis, atimtis, daugyba, dalyba) # return aktyvuoja veiksmus\n",
    "\n",
    "rezultatas = suma(4, 8)\n",
    "print(\"Atsakymas:\", rezultatas) # atspausdins visus return veiksmus kaip TUPLE\n",
    "print(rezultatas[2], '\\n') # 2 - atspausdins daugyba, nes pagal eile bus trecias veiksmas, t.y index 2\n",
    "\n",
    "# priskiriame nauja kintamaji su jau esamais kad galetumem panaudoti kitiems veiksmams ar juos issaukti atskirai\n",
    "pridetis, atimtis, daugyba, dalyba = suma(3, 5)\n",
    "print(f\"{pridetis}, {atimtis}, {daugyba}, {dalyba}\")\n",
    "print(pridetis, atimtis, daugyba, dalyba, sep='___')"
   ]
  },
  {
   "cell_type": "code",
   "execution_count": 30,
   "metadata": {},
   "outputs": [
    {
     "name": "stdout",
     "output_type": "stream",
     "text": [
      "Atsakymas: (12, -4, 0.5)\n"
     ]
    }
   ],
   "source": [
    "def suma(a, b):\n",
    "    pridetis = a + b\n",
    "    atimtis = a - b\n",
    "    daugyba = a * b\n",
    "    dalyba = a / b\n",
    "    return (pridetis, atimtis, dalyba) # neaktyvuota daugyba\n",
    "\n",
    "rezultatas = suma(4, 8)\n",
    "print(\"Atsakymas:\", rezultatas) # atspausdins tik kas aktyvuota - 'return'"
   ]
  },
  {
   "cell_type": "code",
   "execution_count": 32,
   "metadata": {},
   "outputs": [
    {
     "name": "stdout",
     "output_type": "stream",
     "text": [
      "8___-2___0.6___\n"
     ]
    }
   ],
   "source": [
    "def suma(a, b):\n",
    "    pridetis = a + b\n",
    "    atimtis = a - b\n",
    "    daugyba = a * b\n",
    "    dalyba = a / b\n",
    "    return (pridetis, atimtis, dalyba, _) # neaktyvuota daugyba, ismes klaida, reikia priskirti veiksma arba su underscore \n",
    "\n",
    "pridetis, atimtis, daugyba, dalyba = suma(3, 5)\n",
    "print(pridetis, atimtis, daugyba, dalyba, sep='___') # daugyba neivyks"
   ]
  },
  {
   "cell_type": "markdown",
   "metadata": {},
   "source": [
    "---\n",
    "\n",
    "## Taip pat galima grąžinti sąrašą:\n",
    "\n",
    "ir grąžinami sąrašo (ar tuplės) elementai taip pat gali būti sąrašai ar kitos duomenų stuktūros.\n",
    "\n",
    "Pavyzdžiui, parašysime funkciją, kuri grąžins sąrašą dvejų sąrašų:"
   ]
  },
  {
   "cell_type": "code",
   "execution_count": 56,
   "metadata": {},
   "outputs": [],
   "source": [
    "def teigiami_ir_neigiami_skaiciai(skaiciai):\n",
    "    teigiami = []\n",
    "    neigiami = []\n",
    "    for skaicius in skaiciai:\n",
    "        if skaicius >= 0:\n",
    "            teigiami.append(skaicius)\n",
    "        else:\n",
    "            neigiami.append(skaicius)\n",
    "    return [teigiami, neigiami]"
   ]
  },
  {
   "cell_type": "markdown",
   "metadata": {},
   "source": [
    "Šiame pavyzdyje funkcija `teigiami_ir_neigiami_skaiciai` grąžina du sąrašus: `teigiami` ir `neigiami`, kurie turi teigiamus ir neigiamus skaičius iš įvesties sąrašo."
   ]
  },
  {
   "cell_type": "code",
   "execution_count": 57,
   "metadata": {},
   "outputs": [
    {
     "name": "stdout",
     "output_type": "stream",
     "text": [
      "[[2, 5], [-4, -1, -2]]\n"
     ]
    }
   ],
   "source": [
    "skaiciai = [2, -4, 5, -1, -2]\n",
    "rezultatas = teigiami_ir_neigiami_skaiciai(skaiciai)\n",
    "print(rezultatas)  # Rezultatas: [[2, 5], [-4, -1, -2]] atspausdins SARASA"
   ]
  },
  {
   "cell_type": "code",
   "execution_count": 58,
   "metadata": {},
   "outputs": [
    {
     "name": "stdout",
     "output_type": "stream",
     "text": [
      "[[4, 5, 8, 65, 0, 4.4], [-9, -88, -0.5, -1]]\n"
     ]
    }
   ],
   "source": [
    "# be argumento/kintamojo\n",
    "rezultatas = teigiami_ir_neigiami_skaiciai([4, 5, 8, -9, 65, -88, -0.5, -1, 0, 4.4]) # naujas sarasa atitinka argumenta - skaiciai\n",
    "print(rezultatas) # Rezultatas: atskyri SARASAI sarase su for salygomis"
   ]
  },
  {
   "cell_type": "code",
   "execution_count": 59,
   "metadata": {},
   "outputs": [
    {
     "name": "stdout",
     "output_type": "stream",
     "text": [
      "[-4, -1, -2]\n",
      "[2, 5]\n"
     ]
    }
   ],
   "source": [
    "teigiami, neigiami = teigiami_ir_neigiami_skaiciai(skaiciai)\n",
    "print(neigiami) # atspausdins pagal iskelta FOR salyga\n",
    "print(teigiami)"
   ]
  },
  {
   "cell_type": "code",
   "execution_count": 60,
   "metadata": {},
   "outputs": [
    {
     "name": "stdout",
     "output_type": "stream",
     "text": [
      "[-10, -11, -42]\n",
      "[30, 77, 52, 69, 42]\n"
     ]
    }
   ],
   "source": [
    "teigiami, neigiami = teigiami_ir_neigiami_skaiciai([-10, 30, 77, -11, 52, 69, -42, 42]) # gali buti pateiktos ir naujos reiksmes\n",
    "print(neigiami) # atspausdins pagal iskelta FOR salyga\n",
    "print(teigiami) # atspausdins pagal iskelta FOR salyga"
   ]
  },
  {
   "cell_type": "code",
   "execution_count": 61,
   "metadata": {},
   "outputs": [
    {
     "name": "stdout",
     "output_type": "stream",
     "text": [
      "list\n",
      "[30, 77, 52, 69, 42]\n"
     ]
    }
   ],
   "source": [
    "print(type(neigiami).__name__)\n",
    "print(teigiami)"
   ]
  },
  {
   "cell_type": "markdown",
   "metadata": {},
   "source": [
    "Šiuo atveju, funkcija grąžina sąrašą, kuriame yra du sub sąrašai - vienas su teigiamais skaičiais, kitas su neigiamais skaičiais."
   ]
  },
  {
   "cell_type": "markdown",
   "metadata": {},
   "source": [
    "### Papildoma Užduotis\n",
    "\n",
    "Parašykite funkciją `faktorialas(n)`, kuri apskaičiuoja ir grąžina duoto neigiamo sveikojo skaičiaus n faktorialą. Skaičiaus n faktorialas yra visų teigiamų sveikųjų skaičių nuo 1 iki n sandauga.\n",
    "\n",
    "- Pavyzdžiui, 5 faktorialas (pažymėtas kaip 5!) yra apskaičiuojamas kaip 5 x 4 x 3 x 2 x 1 = 120.\n",
    "- Jūsų funkcija turėtų sutvarkyti atvejį, kai `n` yra lygus `0`, ir grąžinti 1 kaip 0 faktorialą.\n",
    "- Po funkcijos apibrėžimo, iškvieskite ją, kad apskaičiuotų ir spausdintų faktorialus šių skaičių: `0`, `1`, `2`, `3`, `4` ir `5`.\n",
    "\n",
    "Štai pradinis funkcijos kodas ir iškvietimai:"
   ]
  },
  {
   "cell_type": "code",
   "execution_count": null,
   "metadata": {},
   "outputs": [],
   "source": [
    "# Funkcijos apibrėžimas\n",
    "def apskaičiuoti_faktorialą(n):\n",
    "    pass # Jūsų kodas čia, vietoj pass\n",
    "\n",
    "# Iškvieskite funkciją ir spausdinkite faktorialus\n",
    "print(\"Faktorialas 0:\", apskaičiuoti_faktorialą(0))  # Tikimasi rezultatas: 1\n",
    "print(\"Faktorialas 1:\", apskaičiuoti_faktorialą(1))  # Tikimasi rezultatas: 1\n",
    "print(\"Faktorialas 2:\", apskaičiuoti_faktorialą(2))  # Tikimasi rezultatas: 2\n",
    "print(\"Faktorialas 3:\", apskaičiuoti_faktorialą(3))  # Tikimasi rezultatas: 6\n",
    "print(\"Faktorialas 4:\", apskaičiuoti_faktorialą(4))  # Tikimasi rezultatas: 24\n",
    "print(\"Faktorialas 5:\", apskaičiuoti_faktorialą(5))  # Tikimasi rezultatas: 120"
   ]
  },
  {
   "cell_type": "code",
   "execution_count": 11,
   "metadata": {},
   "outputs": [
    {
     "name": "stdout",
     "output_type": "stream",
     "text": [
      "Faktorialas 0: 1\n",
      "Faktorialas 1: 1\n",
      "Faktorialas 2: 2\n",
      "Faktorialas 3: 6\n",
      "Faktorialas 4: 24\n",
      "Faktorialas 5: 120\n"
     ]
    }
   ],
   "source": [
    "#Destytojo atsakymas\n",
    "# Function definition\n",
    "def apskaičiuoti_faktorialą(n):\n",
    "    if n == 0:\n",
    "        return 1\n",
    "    else:\n",
    "        factorialas = 1\n",
    "        for i in range(1, n + 1):\n",
    "            factorialas *= i\n",
    "        return factorialas\n",
    "\n",
    "# Iškvieskite funkciją ir spausdinkite faktorialus\n",
    "print(\"Faktorialas 0:\", apskaičiuoti_faktorialą(0))  # Tikimasi rezultatas: 1\n",
    "print(\"Faktorialas 1:\", apskaičiuoti_faktorialą(1))  # Tikimasi rezultatas: 1\n",
    "print(\"Faktorialas 2:\", apskaičiuoti_faktorialą(2))  # Tikimasi rezultatas: 2\n",
    "print(\"Faktorialas 3:\", apskaičiuoti_faktorialą(3))  # Tikimasi rezultatas: 6\n",
    "print(\"Faktorialas 4:\", apskaičiuoti_faktorialą(4))  # Tikimasi rezultatas: 24\n",
    "print(\"Faktorialas 5:\", apskaičiuoti_faktorialą(5))  # Tikimasi rezultatas: 120"
   ]
  }
 ],
 "metadata": {
  "kernelspec": {
   "display_name": "venv",
   "language": "python",
   "name": "python3"
  },
  "language_info": {
   "codemirror_mode": {
    "name": "ipython",
    "version": 3
   },
   "file_extension": ".py",
   "mimetype": "text/x-python",
   "name": "python",
   "nbconvert_exporter": "python",
   "pygments_lexer": "ipython3",
   "version": "3.11.7"
  }
 },
 "nbformat": 4,
 "nbformat_minor": 2
}
