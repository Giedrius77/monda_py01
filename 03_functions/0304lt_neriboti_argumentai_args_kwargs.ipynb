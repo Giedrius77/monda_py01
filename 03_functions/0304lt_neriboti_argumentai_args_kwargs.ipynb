{
 "cells": [
  {
   "cell_type": "markdown",
   "metadata": {},
   "source": [
    "# Neriboti argumentai `*args` ir `**kwargs`\n",
    "\n",
    "## `*args`\n",
    "\n",
    "- yra ypatingas Python sintaksės elementas, leidžiantis perduoti bet kokį pozicinio argumento skaičių į funkciją.\n",
    "- sukuria tuple iš visų perduotų pozicinių argumentų, kurią galima naudoti kaip bet kurią kitą tuplę.\n",
    "\n",
    "**Pavyzdys**:"
   ]
  },
  {
   "cell_type": "code",
   "execution_count": 1,
   "metadata": {},
   "outputs": [
    {
     "name": "stdout",
     "output_type": "stream",
     "text": [
      "1\n",
      "2\n",
      "3\n",
      "Labas\n",
      "Pasauli\n"
     ]
    }
   ],
   "source": [
    "def spausdinti_args(*args):\n",
    "    for arg in args:\n",
    "        print(arg)\n",
    "\n",
    "spausdinti_args(1, 2, 3, \"Labas\", \"Pasauli\")"
   ]
  },
  {
   "cell_type": "markdown",
   "metadata": {},
   "source": [
    "`Sumavimo` funkcijos pavyzdys naudojant `*args`:"
   ]
  },
  {
   "cell_type": "code",
   "execution_count": 2,
   "metadata": {},
   "outputs": [
    {
     "name": "stdout",
     "output_type": "stream",
     "text": [
      "6\n",
      "22\n"
     ]
    }
   ],
   "source": [
    "def suma_reiksmiu(*args):\n",
    "    total = 0\n",
    "    for number in args:\n",
    "        total += number\n",
    "    return total\n",
    "\n",
    "print(suma_reiksmiu(1, 2, 3))  # 6\n",
    "print(suma_reiksmiu(4, 5, 6, 7))  # 22"
   ]
  },
  {
   "cell_type": "markdown",
   "metadata": {},
   "source": [
    "Funkcija, kuri `sujungia` ir spausdina visus `*args` elementus:"
   ]
  },
  {
   "cell_type": "code",
   "execution_count": null,
   "metadata": {},
   "outputs": [],
   "source": [
    "def sujungti(*args):\n",
    "    sujungta = \"\"\n",
    "    for arg in args:\n",
    "        sujungta += str(arg)\n",
    "    print(sujungta)\n",
    "\n",
    "sujungti(\"Labas\", \" \", \"Pasauli\")  # Labas Pasauli\n",
    "sujungti(1, 2, 3, 4)  # 1234"
   ]
  },
  {
   "cell_type": "markdown",
   "metadata": {},
   "source": [
    "Funkcija, kuri `grąžina` visus `*args` elementus, kurie yra didesni už nurodytą skaičių:"
   ]
  },
  {
   "cell_type": "code",
   "execution_count": 3,
   "metadata": {},
   "outputs": [
    {
     "name": "stdout",
     "output_type": "stream",
     "text": [
      "[4, 5]\n",
      "[]\n"
     ]
    }
   ],
   "source": [
    "def didesni_uz(skaicius, *args):\n",
    "    didesni_elementai = []\n",
    "    for arg in args:\n",
    "        if arg > skaicius:\n",
    "            didesni_elementai.append(arg)\n",
    "    return didesni_elementai\n",
    "\n",
    "print(didesni_uz(3, 1, 2, 3, 4, 5))  # [4, 5]\n",
    "print(didesni_uz(10, 1, 2, 3, 4, 5))  # []"
   ]
  },
  {
   "cell_type": "markdown",
   "metadata": {},
   "source": [
    "Funkcija, kuri `grąžina` kiekvieno `*args` elemento ilgį kaip sąrašą:"
   ]
  },
  {
   "cell_type": "code",
   "execution_count": null,
   "metadata": {},
   "outputs": [],
   "source": [
    "def eiluciu_ilgiai(*args):\n",
    "    ilgiai = []\n",
    "    for arg in args:\n",
    "        ilgis = len(str(arg))\n",
    "        ilgiai.append(ilgis)\n",
    "    return ilgiai\n",
    "\n",
    "print(eiluciu_ilgiai(\"Labas\", \"Pasauli\"))  # [5, 5]\n",
    "print(eiluciu_ilgiai(123, 4567, 89))  # [3, 4, 2]"
   ]
  },
  {
   "cell_type": "markdown",
   "metadata": {},
   "source": [
    "### Greita užduotis 1\n",
    "\n",
    "Sukurkite funkciją, kuri priima neribotą kiekį prekių kainų kaip argumentus, ir grąžina jų sumą."
   ]
  },
  {
   "cell_type": "code",
   "execution_count": 6,
   "metadata": {},
   "outputs": [
    {
     "name": "stdout",
     "output_type": "stream",
     "text": [
      "Bendra kaina: 186.52€\n"
     ]
    }
   ],
   "source": [
    "# jusu kodo vieta\n",
    "\n",
    "def paskaiciuoti_viska(*args):\n",
    "    total = sum(args)\n",
    "    return total \n",
    "\n",
    "prekiu_kainos = [3.50, 35.77, 45, 102.25]\n",
    "\n",
    "bendra_kaina = paskaiciuoti_viska(*prekiu_kainos)\n",
    "print(f\"Bendra kaina: {bendra_kaina:.2f}€\")\n"
   ]
  },
  {
   "cell_type": "markdown",
   "metadata": {},
   "source": [
    "---\n",
    "\n",
    "## `**kwargs` - keyword arguments - neriboti vardiniai argumentai\n",
    "\n",
    "`**kwargs` yra dar vienas specialus Python sintaksės elementas, leidžiantis perduoti „rakto ir reikšmės“ rinkinį funkcijai kaip žodyną.\n",
    "\n",
    "Pavyzdys:"
   ]
  },
  {
   "cell_type": "code",
   "execution_count": null,
   "metadata": {},
   "outputs": [],
   "source": [
    "def spausdinti_viska(**kwargs):\n",
    "    for raktas, reiksme in kwargs.items():\n",
    "        print(f\"{raktas:>10}: {reiksme}\")\n",
    "\n",
    "spausdinti_viska(vardas=\"Jonas\", amžius=30, miestas=\"Londonas\")"
   ]
  },
  {
   "cell_type": "markdown",
   "metadata": {},
   "source": [
    "Funkcija pavadinimu \"`skaičiuoti`\", atspausdina `**products` elementų sąrašą ir susumuoja jų kainas. Taip pat demonstruojama, kad `**kwargs` gali būti pavadintas pagal jūsų pageidavimus."
   ]
  },
  {
   "cell_type": "code",
   "execution_count": null,
   "metadata": {},
   "outputs": [],
   "source": [
    "def skaiciuoti(**products):\n",
    "    total = 0\n",
    "    for produktas, kaina in products.items():\n",
    "        total += kaina\n",
    "        print(f\"{produktas:>20}: {kaina:>10.2f} €\")\n",
    "    print(f\"             Iš viso: {total:>10.2f} €\")\n",
    "\n",
    "skaiciuoti(pienukas=2, miltai=1, kiaušiniai=3)"
   ]
  },
  {
   "cell_type": "markdown",
   "metadata": {},
   "source": [
    "### Greita užduotis 2\n",
    "\n",
    "Parašykite Python funkciją, kuri priima neribotus raktinius argumentus, ir juos atspausdina po vieną naujoje eilutėje. Jeigu vardiniuose argumentuose yra vardas, el.paštas ir telefonas, juos turi spausdinti pirmiausia eilės tvarka.\n",
    "\n",
    "rezultato pavyzdys:\n",
    "\n",
    "```\n",
    "vardas: Jonas\n",
    "el. paštas: mano@info.lt\n",
    "telefonas: +370 1231234\n",
    "batų dydis: 47\n",
    "```"
   ]
  },
  {
   "cell_type": "code",
   "execution_count": 16,
   "metadata": {},
   "outputs": [
    {
     "name": "stdout",
     "output_type": "stream",
     "text": [
      "Vardas: Giedrius\n",
      "Email: jonas@gmail.com\n",
      "Telefonas: 867788098\n",
      "Batu dydis: 48\n"
     ]
    }
   ],
   "source": [
    "# jusu kodo vieta\n",
    "# **kwargs gali buti pavadintas **Giedrius ir gali buti tik vienas\n",
    "\n",
    "def atspausdinti_asmens_informacija(**Giedriaus_kwargs):\n",
    "    if \"vardas\" in Giedriaus_kwargs:\n",
    "        print(f\"Vardas: {Giedriaus_kwargs.pop('vardas')}\")\n",
    "    if \"email\" in Giedriaus_kwargs:\n",
    "        print(f\"Email: {Giedriaus_kwargs.pop('email')}\")\n",
    "    if \"telefonas\" in Giedriaus_kwargs:\n",
    "        print(f\"Telefonas: {Giedriaus_kwargs.pop('telefonas')}\")\n",
    "    if \"batu dydis\" in Giedriaus_kwargs:\n",
    "        print(f\"Batu dydis: {Giedriaus_kwargs.pop('batu dydis')}\")\n",
    "    for kwarg in Giedriaus_kwargs:\n",
    "        print(f\"{kwarg}: {Giedriaus_kwargs[kwarg]}\")\n",
    "\n",
    "asmens_informacija = {\n",
    "    \"vardas\": \"Giedrius\",\n",
    "    \"email\": \"jonas@gmail.com\",\n",
    "    \"telefonas\": \"867788098\",\n",
    "    \"batu dydis\": \"48\",\n",
    "}\n",
    "\n",
    "atspausdinti_asmens_informacija(**asmens_informacija)\n"
   ]
  },
  {
   "cell_type": "markdown",
   "metadata": {},
   "source": [
    "---\n",
    "\n",
    "## `*args` kartu su `**kwargs`\n",
    "\n",
    "Kai kuriose situacijose gali prireikti funkcijos, kuri priima tiek pozicinius argumentus, tiek argumentus, kurie nėra apibrėžti funkcijos deklaracijoje. Tokias funkcijas galima kurti naudojant `*args` ir `**kwargs` kartu su įprastais argumentais.\n",
    "\n",
    "**Pavyzdys**:"
   ]
  },
  {
   "cell_type": "code",
   "execution_count": 1,
   "metadata": {},
   "outputs": [
    {
     "name": "stdout",
     "output_type": "stream",
     "text": [
      "Vardas: Jonas\n",
      "Bruožai: linksmas, draugiškas, drąsus\n",
      "miestas: Londonas\n",
      "amžius: 30\n"
     ]
    }
   ],
   "source": [
    "def asmens_info(vardas, *args, **kwargs):\n",
    "    print(f\"Vardas: {vardas}\")\n",
    "    print(f\"Bruožai: {', '.join(args)}\")\n",
    "    for raktas, reiksme in kwargs.items():\n",
    "        print(f\"{raktas}: {reiksme}\")\n",
    "\n",
    "asmens_info(\"Jonas\", \"linksmas\", \"draugiškas\", \"drąsus\", miestas=\"Londonas\", amžius=30)"
   ]
  },
  {
   "cell_type": "markdown",
   "metadata": {},
   "source": [
    "### Greita užduotis 3\n",
    "\n",
    "Parašykite funkciją, kuri priima bet kokį skaičių pozicinių argumentų (`*args`) ir \"raktai-reikšmės\" porų (`**kwargs`). Funkcija turi sujungti šiuos duomenis į vieną sąrašą ir jį grąžinti.\n",
    "\n",
    "```python\n",
    "# Rezultato pavyzdys:\n",
    "[1, 2, 3, ('vardas', 'Jonas'), ('amžius', 25), ('miestas', 'Vilnius')]\n",
    "```"
   ]
  },
  {
   "cell_type": "code",
   "execution_count": 2,
   "metadata": {},
   "outputs": [
    {
     "name": "stdout",
     "output_type": "stream",
     "text": [
      "[1, 2, 3, ('name', 'John'), ('age', 25), ('city', 'Vilnius')]\n",
      "['a', 'b', 'c', ('name', 'Alice'), ('age', 30), ('city', 'Wonderland')]\n"
     ]
    }
   ],
   "source": [
    "# jusu kodo vieta\n",
    "\n",
    "#Example 1:\n",
    "def bendras_sarasas(*mano_args, **giedrius_kwargs):\n",
    "    result = list(mano_args) + list(giedrius_kwargs.items())\n",
    "    return result\n",
    "\n",
    "# Example 1 usage:\n",
    "combined_list_1 = bendras_sarasas(1, 2, 3, name='John', age=25, city='Vilnius')\n",
    "print(combined_list_1)\n",
    "\n",
    "\n",
    "#Example 2:\n",
    "def bendras_sarasas(*mano_args, **giedrius_kwargs):\n",
    "    combined = list(mano_args)\n",
    "    for key, value in giedrius_kwargs.items():\n",
    "        combined.append((key, value))\n",
    "    return combined\n",
    "\n",
    "# Example 2 usage:\n",
    "combined_list_2 = bendras_sarasas('a', 'b', 'c', name='Alice', age=30, city='Wonderland')\n",
    "print(combined_list_2)"
   ]
  },
  {
   "cell_type": "markdown",
   "metadata": {},
   "source": [
    "## Papildoma užduotis\n",
    "\n",
    "Sukurkite Python funkciją pavadinimu `filtruoti_argumentus`, kuri priima bet kokį skaičių pozicinių argumentų (`*args`) ir \"raktai-reikšmės\" porų (`**kwargs`). \n",
    "\n",
    "Funkcija turi atlikti šiuos veiksmus:\n",
    "\n",
    "1. `Filtruoti` pozicinius argumentus (*args), paliekant tik tuos, kurie yra `skaičiai` (integers).\n",
    "1. `Filtruoti` raktus ir reikšmes (**kwargs), paliekant tik tuos, kurių raktas prasideda raidė '`a`' ir reikšmė yra stringas.\n",
    "1. `Grąžinkite` du sąrašus: viename bus likę poziciniai argumentai (`skaičiai`), o kitame `raktai-reikšmės` poros iš **kwargs.\n",
    "\n",
    "```python\n",
    "# Jusu funkcijos kvietimas\n",
    "rezultatai = filtruoti_argumentus(1, 'Jonas', 3, 5, amžius='25', miestas='Vilnius', adresas='Kaunas')\n",
    "# Atspausdinimas\n",
    "print(rezultatai)\n",
    "# Rezultato pavyzdys:\n",
    "([1, 3, 5], [('amžius': '25'), ('adresas': 'Vilnius')])\n",
    "```\n",
    "\n",
    "Pastaba: Patikrinkite, ar poziciniuose argumentuose yra skaičių tipų, o **kwargs filtravimas turi atsižvelgti į raktus ir reikšmes pagal sąlygas."
   ]
  },
  {
   "cell_type": "code",
   "execution_count": null,
   "metadata": {},
   "outputs": [],
   "source": [
    "# jusu kodo vieta"
   ]
  },
  {
   "cell_type": "markdown",
   "metadata": {},
   "source": [
    "Taigi, `*args` leidžia perduoti neribotą kiekį pozicinių argumentų, o `**kwargs` leidžia perduoti neribotą kiekį rakšažodinių argumentų, susidedančių iš raktų ir reikšmių. Galima kombinuoti šiuos elementus su įprastais argumentais funkcijose, kad būtų gautas didesnis funkcionalumas ir lankstumas."
   ]
  }
 ],
 "metadata": {
  "kernelspec": {
   "display_name": "venv",
   "language": "python",
   "name": "python3"
  },
  "language_info": {
   "codemirror_mode": {
    "name": "ipython",
    "version": 3
   },
   "file_extension": ".py",
   "mimetype": "text/x-python",
   "name": "python",
   "nbconvert_exporter": "python",
   "pygments_lexer": "ipython3",
   "version": "3.11.7"
  }
 },
 "nbformat": 4,
 "nbformat_minor": 2
}
