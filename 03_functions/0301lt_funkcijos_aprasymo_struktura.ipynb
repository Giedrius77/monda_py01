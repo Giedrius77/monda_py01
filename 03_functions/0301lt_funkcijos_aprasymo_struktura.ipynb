{
 "cells": [
  {
   "cell_type": "markdown",
   "metadata": {},
   "source": [
    "# Funkcijos aprašymo struktūra\n",
    "\n",
    "Python programavimo kalboje funkcijos aprašymo struktūra yra pagrindinė dalis, leidžianti mums kurti ir naudoti funkcijas. \n",
    "Funkcijos deklaracija prasideda žodžiu `def`, kurį seka funkcijos `pavadinimas` ir `argumentai`, esantys skliaustuose.\n",
    "Funkcijos veiksmai yra aprašomi įrėmintame bloke po funkcijos apibrėžimu. \n",
    "\n",
    "Kad būtų aiškiau, štai kelios svarbios dalys:\n",
    "\n",
    "- Žodis `def` praneša Python, kad mes aprašome funkciją.\n",
    "- `function_name` tai yra pavadinimas, kurį mes pasirenkame savo funkcijai. Jis turi atspindėti funkcijos tikslą.\n",
    "- `arguments` yra reikšmės, kurias mes paduosime funkcijai kaip įvestį. Tai kaip kintamieji, kurie bus naudojami funkcijos viduje.\n",
    "\n",
    "Norint suprasti, kaip tai veikia, pažiūrėkime į šį pavyzdį:"
   ]
  },
  {
   "cell_type": "code",
   "execution_count": 16,
   "metadata": {},
   "outputs": [
    {
     "name": "stdout",
     "output_type": "stream",
     "text": [
      "Sveiki, Jonas Jonaitis yra 45 amziaus!\n",
      "Amzius - 45!\n",
      "Sveiki, Studentas Pirmakursis yra 55 amziaus!\n",
      "Amzius - 55!\n",
      "Sveiki, Studentas Antrakursis yra 18 amziaus!\n",
      "Amzius - 18!\n"
     ]
    }
   ],
   "source": [
    "def sveikinti(vardas, pavarde, _): # argumentu gali irasyti kiek nori, bet...\n",
    "    \"\"\"Ši funkcija sveikina asmenį, perduotą kaip argumentą.\"\"\"\n",
    "    print(f\"Sveiki, {vardas} {pavarde} yra {_} amziaus!\", end='\\n') \n",
    "    print(f\"Amzius - {_}!\")# galima panaudoti tik viena argumenta, kad spausdintu\n",
    "\n",
    "# Pavyzdžio Panaudojimas\n",
    "sveikinti(\"Jonas\", \"Jonaitis\", 45) # reikia reiksmiu kiek yra argumentu\n",
    "sveikinti(\"Studentas\", \"Pirmakursis\", 55)\n",
    "sveikinti(\"Studentas\", \"Antrakursis\", 18)"
   ]
  },
  {
   "cell_type": "markdown",
   "metadata": {},
   "source": [
    "Šiame pavyzdyje `sveikinti` yra funkcijos pavadinimas, ji priima vieną argumentą (`vardas`), ir pasveikina asmenį su nurodytu vardu. \n",
    "\n",
    "Tada, funkcija `sveikinti` yra iškviesta su argumentu \"Jonas\", ir rezultatas yra atspausdinamas į konsolę."
   ]
  },
  {
   "cell_type": "markdown",
   "metadata": {},
   "source": [
    "Pavyzdys, kaip apibrėžti ir iškviesti funkciją, kuri priima du argumentus ir juos spausdina į konsolę."
   ]
  },
  {
   "cell_type": "code",
   "execution_count": 20,
   "metadata": {},
   "outputs": [
    {
     "name": "stdout",
     "output_type": "stream",
     "text": [
      "Vardas: Jonas\n",
      "Amžius: 25\n",
      "Statusas: vedes\n",
      "\n",
      "Vardas: Jonas, Amžius: 25, Statusas: vedes.\n"
     ]
    }
   ],
   "source": [
    "def asmens_informacija(vardas, amžius, statusas):\n",
    "    \"\"\"Ši funkcija priima du argumentus ir juos spausdina į konsolę.\"\"\"\n",
    "    print(f\"Vardas: {vardas}\")\n",
    "    print(f\"Amžius: {amžius}\")\n",
    "    print(f\"Statusas: {statusas}\\n\")\n",
    "    print(f\"Vardas: {vardas}, Amžius: {amžius}, Statusas: {statusas}.\")\n",
    "\n",
    "asmens_informacija(\"Jonas\", 25, \"vedes\")"
   ]
  },
  {
   "cell_type": "markdown",
   "metadata": {},
   "source": [
    "Šiame pavyzdyje spausdinti_argumentus funkcija apibrėžta priimti du argumentus (vardą ir amžių) ir juos spausdina į konsolę.\n",
    "\n",
    "Tada funkcija yra iškviesta su argumentais \"Jonas\" ir 25."
   ]
  },
  {
   "cell_type": "markdown",
   "metadata": {},
   "source": [
    "### Greitas uždavinys 1\n",
    "\n",
    "Aprašykite funkciją ploto apskaičiavimui, kuri priima du parametrus, ilgį ir plotį, ir apskaičiuoja ir atspausdina stačiakampio plotą.\n"
   ]
  },
  {
   "cell_type": "code",
   "execution_count": 46,
   "metadata": {},
   "outputs": [
    {
     "name": "stdout",
     "output_type": "stream",
     "text": [
      "Staciakampio plotas: 40 \n",
      "\n",
      "Kitas staciakampio ploto apskaiciavimo budas: 40\n",
      "\n",
      "45.0\n",
      "Staciakampio plotas: 40 \n",
      "\n",
      "Kitas staciakampio ploto apskaiciavimo budas: 40\n",
      "\n",
      "45.0\n",
      "Bendras kiekis: 1800.0\n"
     ]
    },
    {
     "data": {
      "text/plain": [
       "1800.0"
      ]
     },
     "execution_count": 46,
     "metadata": {},
     "output_type": "execute_result"
    }
   ],
   "source": [
    "# jusu kodo vieta\n",
    "\n",
    "def ploto_apskaiciavimas(ilgis, plotis):    \n",
    "    # trumpesnis budas\n",
    "    print(\"Staciakampio plotas:\", ilgis * plotis, \"\\n\") # apskaiciuojame plota paciame printe\n",
    "    # kitas budas\n",
    "    bendras_plotas = ilgis * plotis # sukuriame nauja kintamaji plotui apskaiciuoti\n",
    "    print(f\"Kitas staciakampio ploto apskaiciavimo budas: {bendras_plotas}\\n\")\n",
    "    return bendras_plotas\n",
    "\n",
    "ploto_apskaiciavimas(5, 8)\n",
    "\n",
    "def kubo_skaiciuokle(ilgis, plotis, aukstis):\n",
    "    kubas = ilgis * plotis * aukstis\n",
    "    print(float(kubas))\n",
    "    return kubas\n",
    "\n",
    "kubo_skaiciuokle(5, 6, 1.5)\n",
    "\n",
    "def bendras_kiekis(ilgis_p, plotis_p, ilgis_k, plotis_k, aukstis_k):\n",
    "    plotas = ploto_apskaiciavimas(ilgis_p, plotis_p)\n",
    "    kubas = kubo_skaiciuokle(ilgis_k, plotis_k, aukstis_k)\n",
    "    kambarys = plotas * kubas\n",
    "    print(f\"Bendras kiekis: {kambarys}\")\n",
    "    return kambarys\n",
    "\n",
    "bendras_kiekis(5, 8, 5, 6, 1.5)"
   ]
  },
  {
   "cell_type": "markdown",
   "metadata": {},
   "source": [
    "---\n",
    "\n",
    "## `if`, `elif`, `else` naudojimas Funkcijoje\n",
    "\n",
    "Galite naudoti sąlygas, tokias kaip `if`, `elif` arba `else` ir taip funkcijoje vykdyti skirtingus veiksmus pagal konkrečias sąlygas.\n",
    "\n",
    "**Štai pavyzdys**:"
   ]
  },
  {
   "cell_type": "code",
   "execution_count": 13,
   "metadata": {},
   "outputs": [],
   "source": [
    "def ivertinti_pazymi(balas):\n",
    "    \"\"\"Ši funkcija įvertina ir atspausdina pažymį pagal pateiktą balą.\"\"\"\n",
    "    if balas >= 90:\n",
    "        print(\"A: Puiku\")\n",
    "    elif 80 <= balas < 90:\n",
    "        print(\"B: Geras\")\n",
    "    elif 70 <= balas < 80:\n",
    "        print(\"C: Patenkinamas\")\n",
    "    elif 60 <= balas < 70:\n",
    "        print(\"D: Reikia Pataisymų\")\n",
    "    else:\n",
    "        print(\"F: Nepavyko\")"
   ]
  },
  {
   "cell_type": "code",
   "execution_count": 47,
   "metadata": {},
   "outputs": [],
   "source": [
    "def ivertinti_pazymi(balas):\n",
    "    \"\"\"Ši funkcija įvertina ir atspausdina pažymį pagal pateiktą balą.\"\"\"\n",
    "    if balas >= 95:\n",
    "        print(\"A+: Puiku\")\n",
    "    elif balas >= 90:\n",
    "        print(\"A: Pabandykite dar geriau\")\n",
    "    elif 80 <= balas < 90:\n",
    "        print(\"B: Geras\")\n",
    "    elif 70 <= balas < 80:\n",
    "        print(\"C: Patenkinamas\")\n",
    "    elif 60 <= balas < 70:\n",
    "        print(\"D: Reikia Pataisymų\")\n",
    "    else:\n",
    "        print(\"Kartokite kursa!\")"
   ]
  },
  {
   "cell_type": "code",
   "execution_count": 49,
   "metadata": {},
   "outputs": [
    {
     "name": "stdout",
     "output_type": "stream",
     "text": [
      "B: Geras\n",
      "C: Patenkinamas\n"
     ]
    }
   ],
   "source": [
    "# Pavyzdžio panaudojimas\n",
    "ivertinti_pazymi(89)\n",
    "ivertinti_pazymi(74)"
   ]
  },
  {
   "cell_type": "markdown",
   "metadata": {},
   "source": [
    "Šiame pavyzdyje `ivertinti_pazymi` funkcija priima balą kaip `argumentą` ir naudoja `if`, `elif` ir `else` pareiškas, kad nustatytų ir spausdintų atitinkamą pažymį pagal pateiktą balą. \n",
    "\n",
    "Tada funkcija yra iškviesta su argumentu `75`."
   ]
  },
  {
   "cell_type": "markdown",
   "metadata": {},
   "source": [
    "**Antrasis pavyzdys**:"
   ]
  },
  {
   "cell_type": "code",
   "execution_count": 54,
   "metadata": {},
   "outputs": [],
   "source": [
    "def ar_lyginis_ar_nelyginis(skaicius):\n",
    "    \"\"\"Ši funkcija nustato, ar duotas skaičius yra lyginis arba nelyginis.\"\"\"\n",
    "    if skaicius % 2 == 0:\n",
    "         atsakymas = \"lyginis\"        \n",
    "    else:\n",
    "         atsakymas = \"nelyginis\"\n",
    "    print(f\"Skaičius {skaicius} yra {atsakymas}.\")"
   ]
  },
  {
   "cell_type": "code",
   "execution_count": 55,
   "metadata": {},
   "outputs": [
    {
     "name": "stdout",
     "output_type": "stream",
     "text": [
      "Skaičius 69 yra nelyginis.\n",
      "Skaičius 42 yra lyginis.\n"
     ]
    }
   ],
   "source": [
    "# Pavyzdžio panaudojimas\n",
    "ar_lyginis_ar_nelyginis(69)\n",
    "ar_lyginis_ar_nelyginis(42)"
   ]
  },
  {
   "cell_type": "markdown",
   "metadata": {},
   "source": [
    "Šiame pavyzdyje `ar_lyginis_ar_nelyginis` funkcija priima skaičių kaip `argumentą` ir naudoja sąlyginę išraišką (`if-else`), kad patikrintų, ar skaičius yra `lyginis` arba `nelyginis`. \n",
    "\n",
    "Tada rezultatas spausdinamas į konsolę. Funkcija yra iškviesta su argumentu 69, ir 42."
   ]
  },
  {
   "cell_type": "markdown",
   "metadata": {},
   "source": [
    "Trumpai tariant, Python funkcija apibrėžiama naudojant `def` pareiškimą, po kurio seka funkcijos `pavadinimas` ir jos `argumentai`. Funkcijoje galite naudoti sąlygas, kad atliktumėte skirtingus veiksmus pagal sąlygas, ir funkcijos gali priimti bet kokį kiekį argumentų arba visai jų neturėti."
   ]
  },
  {
   "cell_type": "markdown",
   "metadata": {},
   "source": [
    "### Greitas uždavinys 2\n",
    "\n",
    "Parašykite funkciją, kuri paima skaičių kaip argumentą ir patikrina ar jis yra lyginis ar nelyginis. Rezultatas turi būti išspausdintas."
   ]
  },
  {
   "cell_type": "code",
   "execution_count": 22,
   "metadata": {},
   "outputs": [
    {
     "name": "stdout",
     "output_type": "stream",
     "text": [
      "Skaicius 8 yra lyginis\n",
      "Skaicius 11 yra nelyginis\n"
     ]
    }
   ],
   "source": [
    "# jusu kodo vieta\n",
    "\n",
    "def lyginis_nelyginis(skaicius):\n",
    "    if skaicius % 2 == 0:\n",
    "        atsakymas = \"lyginis\"\n",
    "    else:\n",
    "        atsakymas = \"nelyginis\"\n",
    "    print(f\"Skaicius {skaicius} yra {atsakymas}\")\n",
    "\n",
    "lyginis_nelyginis(8)\n",
    "lyginis_nelyginis(11)"
   ]
  },
  {
   "cell_type": "markdown",
   "metadata": {},
   "source": [
    "### Greitas uždavinys 3\n",
    "\n",
    "Patikrinkite, ar skaičius yra teigiamas\n",
    "\n",
    "Parašykite funkciją, kuri priima kintamąji kaip argumenta, ir jeigu tai yra skaičius, patikrina ar jis teigiamas.\n",
    "Funkcijos rezultatai ir klaidos turi būti tikrinami ir spausdinami."
   ]
  },
  {
   "cell_type": "code",
   "execution_count": 28,
   "metadata": {},
   "outputs": [
    {
     "name": "stdout",
     "output_type": "stream",
     "text": [
      "Skaicius: 9 yra teigiamas!\n",
      "Skaicius: -4 yra neigiamas!\n",
      "Skaicius: 0 yra nulis!\n"
     ]
    }
   ],
   "source": [
    "# jusu kodo vieta\n",
    "\n",
    "def teigiamas_neigiams(skaicius):\n",
    "    if skaicius > 0:\n",
    "        rezultatas = \"teigiamas\"\n",
    "    elif skaicius < 0:\n",
    "        rezultatas = \"neigiamas\"\n",
    "    else:\n",
    "        rezultatas = \"nulis\"\n",
    "    print(f\"Skaicius: {skaicius} yra {rezultatas}!\")\n",
    "\n",
    "teigiamas_neigiams(9)\n",
    "teigiamas_neigiams(-4)\n",
    "teigiamas_neigiams(0)"
   ]
  },
  {
   "cell_type": "markdown",
   "metadata": {},
   "source": [
    "### Greitas uždavinys 3\n",
    "\n",
    "Parašykite funkciją, kuri sulygina du skaičius, ir parašo jų tarpusavio santykį (lygūs, pirmas didesnis už antrą, pirmas mažesnis už antrą, ir pan.)"
   ]
  },
  {
   "cell_type": "code",
   "execution_count": 56,
   "metadata": {},
   "outputs": [
    {
     "name": "stdout",
     "output_type": "stream",
     "text": [
      "Skaiciai: 7 ir 99 - antras didesnis!\n"
     ]
    }
   ],
   "source": [
    "# jusu kodo vieta\n",
    "\n",
    "def lygina_skaicius(skaicius1, skaicius2): \n",
    "    if skaicius1 == skaicius2:\n",
    "        atsakymas = \"lygus\"\n",
    "    elif skaicius1 > skaicius2:\n",
    "        atsakymas = \"pirmas didesnis\"\n",
    "    else:\n",
    "        atsakymas = \"antras didesnis\"\n",
    "    print(f\"Skaiciai: {skaicius1} ir {skaicius2} - {atsakymas}!\")\n",
    "\n",
    "lygina_skaicius(7,99)"
   ]
  },
  {
   "cell_type": "markdown",
   "metadata": {},
   "source": [
    "### Martynas Pupkus kodas \"Biudzetas\" su aprasymu"
   ]
  },
  {
   "cell_type": "code",
   "execution_count": null,
   "metadata": {},
   "outputs": [],
   "source": [
    "def add_income(income, amount): # zodis def pranesa, kad mes aprasysime funkcija, siuo atveju add_income yra funcijos pavadinimas; skliaustuose bus kintamieji kuriuos naudojame funkcijos viduje, kad gautume atsakyma apie income \n",
    "    income += amount # x = x + y; dar kitaip butu income = income + amount.\n",
    "    print(f\"Income added: {amount}\") # tada printinam savo f(funkcija) su tekstu ir lauztiniuose skliaustuose nurodome kieki (amount) kuri norime skaiciuoti \n",
    "    return income # return vartotojo sasajoje grazina musu esama income, kai vartotojo sasajoje mes ivedama (amount) t.y kieki ir mes pamatome koks buvo musu income \n",
    "\n",
    "def add_expense(expenses, amount): # zodis def pranesa, kad mes aprasysime funkcija, siuo atveju add_expense yra funcijos pavadinimas; skliaustuose bus kintamieji kuriuos naudojame funkcijos viduje, kad gautume atsakyma apie expenses\n",
    "    expenses += amount # x = x + y; dar kitaip butu expenses = expenses + amount\n",
    "    print(f\"Expense added: {amount}\") # tada printinam savo f(funkcija) su tekstu ir lauztiniuose skliaustuose nurodome kieki (amount) kuri norime skaiciuoti \n",
    "    return expenses # return vartotojo sasajoje grazina musu esamus expenses, kai vartotojo sasajoje mes ivedama (amount) t.y kieki ir mes pamatome koks buvo musu expense \n",
    "\n",
    "def calculate_balance(income, expenses): # zodis def pranesa, kad mes aprasysime funkcija, siuo atveju calculate_balance yra funkcijos pavadinimas; skliaustuose yra kintamieji kuriuos naudojame funkcijos viduje kad suzinotume savo balansa\n",
    "    balance = income - expenses # z = x - y; dar kitaip butu balancas = income - expenses\n",
    "    print(f\"Current balance: {balance}\") # sitas f stringas isprintina musu 'Z' t.y, balansa \n",
    "\n",
    "# User Interface\n",
    "income = 0 # sitoje vietoje income priskiriame kintamajam ir ta kintamaji priskiriame 0. Programavime tai yra įprasta praktika priskirti pradinę reikšmę kintamajam prieš jį naudojant skaičiavimuose ar kitose operacijose. Šiuo atveju pradedama nuo pradinio nulio pajamų, o vėliau galite šį kintamąjį atnaujinti ar modifikuoti pagal poreikį jūsų programoje.\n",
    "expenses = 0 # # sitoje vietoje expenses priskiriame kintamajam ir ta kintamaji priskiriame 0. Programavime tai yra įprasta praktika priskirti pradinę reikšmę kintamajam prieš jį naudojant skaičiavimuose ar kitose operacijose. Šiuo atveju pradedama nuo pradinio nulio islaidu, o vėliau galite šį kintamąjį atnaujinti ar modifikuoti pagal poreikį jūsų programoje.\n",
    "\n",
    "while True: # sukuria begalinį ciklą, ir jame yra seka print komandų, kurios rodo įvairias galimybes vartotojui (siuo metu 4 ivesties galimybes).\n",
    "    print(\"\\nOptions:\")\n",
    "    print(\"1. Add Income\")\n",
    "    print(\"2. Add Expense\")\n",
    "    print(\"3. Calculate Balance\")\n",
    "    print(\"4. Exit\")\n",
    "\n",
    "    choice = input(\"Enter your choice (1-4): \") # tada naudoja input funkciją, kad užfiksuotų įvestį. Įvesta reikšmė bus saugoma kintamajame choice. Tai dažnai naudojama meniu valdomuose programuose, kur vartotojas turi įvesti skaitinį pasirinkimą, atitinkantį anksčiau pateiktas galimybes.\n",
    "\n",
    "    if choice == '1': # jeigu vartotojas pasirenka '1'(du lygybes zenklai tikrina ar tai yra tiesa, siuo metu ar choice (pasirinkimas) yra atitinkamas 1 (t.y pasirinkimui vienetas))\n",
    "        amount = float(input(\"Enter the income amount: \")) # sitoje vietoje yra paprasoma vartotojo ivesti savo amount (kieki) kuri jis nori prideti prie savo income. Float funkcija naudojama, kad paverstu vartotojo ivesta teksta i skaiciu kuris rodytu skaiciu per kableli. Todel naudojama float funkcija su skliaustais ir viduje irasome input ' float(input(ir tekstas viduje-kuris pavirs skaiciu, per kableli))'' Input funkcija atlieka tai, kad uzfiksuotu vartotojo ivesti. \n",
    "        income = add_income(income, amount) # cia yra iskvieciama komanda add_income, kuri atlieka sudeti tarp income ir amount. \n",
    "    elif choice == '2': # jeigu vartotojas pasirenka '2' ((du lygybes zenklai tikrina ar tai yra tiesa, siuo metu ar choice (pasirinkimas) yra atitinkamas 2 (t.y pasirinkimui dvejetas))\n",
    "        amount = float(input(\"Enter the expense amount: \")) # sitoje vietoje yra paprasoma vartotojo ivesti savo amount (kieki) kuri jis nori prideti prie savo expense. Float funkcija naudojama, kad paverstu vartotojo ivesta teksta i skaiciu kuris rodytu skaiciu per kableli. Todel naudojama float funkcija su skliaustais ir viduje irasome input ' float(input(ir tekstas viduje-kuris pavirs skaiciu, per kableli))'' Input funkcija atlieka tai, kad uzfiksuotu vartotojo ivesti. \n",
    "        expenses = add_expense(expenses, amount) #cia yra iskvieciama komanda add_expense, kuri atlieka sudeti tarp expense ir amount. \n",
    "    elif choice == '3': # jeigu vartotojas pasirenka '3' ((du lygybes zenklai tikrina ar tai yra tiesa, siuo metu ar choice (pasirinkimas) yra atitinkamas 3 (t.y pasirinkimui trejetas)\n",
    "        calculate_balance(income, expenses) # kad vartotojui parodytu jo balansa yra iskvieciama funkcija calculate_balance kuri daro matematini veikma, kuris is pajamu atima islaidas t.y income - expenses.  \n",
    "    elif choice == '4': # jeigu vartotojas pasirenka '4' ((du lygybes zenklai tikrina ar tai yra tiesa, siuo metu ar choice (pasirinkimas) yra atitinkamas 4 (t.y pasirinkimui ketvertas)\n",
    "        print(\"Exiting the budget calculator. Goodbye!\") # vartotojas iveda skaiciu '4' ir tada is iseina is programos\n",
    "        break\n",
    "    else:\n",
    "        print(\"Invalid choice. Please enter a number between 1 and 4.\") # jeigu vartotojas iveda kitoki skaiciu kuris yra ne ivesties galimybese, jo paprasoma ivesti tinkama skaiciu. "
   ]
  }
 ],
 "metadata": {
  "kernelspec": {
   "display_name": "venv",
   "language": "python",
   "name": "python3"
  },
  "language_info": {
   "codemirror_mode": {
    "name": "ipython",
    "version": 3
   },
   "file_extension": ".py",
   "mimetype": "text/x-python",
   "name": "python",
   "nbconvert_exporter": "python",
   "pygments_lexer": "ipython3",
   "version": "3.11.7"
  }
 },
 "nbformat": 4,
 "nbformat_minor": 2
}
