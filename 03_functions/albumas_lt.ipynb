{
 "cells": [
  {
   "cell_type": "code",
   "execution_count": 1,
   "metadata": {},
   "outputs": [
    {
     "name": "stdout",
     "output_type": "stream",
     "text": [
      "Artist: Rammstein\n",
      "Album: Made In Germany 1995-2011\n",
      "Label: Universal Music Group – 0602527864273\n",
      "Format: 2 x CD, Compilation, Reissue, Remastered, Kruspe Cover\n",
      "Country: Europe\n",
      "Released: 2011\n",
      "Genre: Electronic, Rock\n",
      "Style: Industrial\n"
     ]
    }
   ],
   "source": [
    "# Valdemaras kodas\n",
    "\n",
    "album_info = {\n",
    "    'Artist': 'Rammstein',\n",
    "    'Album': 'Made In Germany 1995-2011',\n",
    "    'Label': 'Universal Music Group – 0602527864273',\n",
    "    'Format': '2 x CD, Compilation, Reissue, Remastered, Kruspe Cover',\n",
    "    'Country': 'Europe',\n",
    "    'Released': '2011',\n",
    "    'Genre': 'Electronic, ''Rock',\n",
    "    'Style': 'Industrial'\n",
    "}\n",
    "\n",
    "print(f\"Artist: {album_info['Artist']}\")\n",
    "print(f\"Album: {album_info['Album']}\")\n",
    "print(f\"Label: {album_info['Label']}\")\n",
    "print(f\"Format: {album_info['Format']}\")\n",
    "print(f\"Country: {album_info['Country']}\")\n",
    "print(f\"Released: {album_info['Released']}\")\n",
    "print(f\"Genre: {album_info['Genre']}\")\n",
    "print(f\"Style: {album_info['Style']}\")"
   ]
  }
 ],
 "metadata": {
  "kernelspec": {
   "display_name": "venv",
   "language": "python",
   "name": "python3"
  },
  "language_info": {
   "codemirror_mode": {
    "name": "ipython",
    "version": 3
   },
   "file_extension": ".py",
   "mimetype": "text/x-python",
   "name": "python",
   "nbconvert_exporter": "python",
   "pygments_lexer": "ipython3",
   "version": "3.11.7"
  }
 },
 "nbformat": 4,
 "nbformat_minor": 2
}
