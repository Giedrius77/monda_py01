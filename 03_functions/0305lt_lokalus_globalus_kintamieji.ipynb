{
 "cells": [
  {
   "cell_type": "markdown",
   "metadata": {},
   "source": [
    "# Supratimas apie Lokalius ir Globalius Kintamuosius Python Kalboje\n",
    "\n",
    "Programuojant Python kalba, kintamieji būna įvairių tipų, pavyzdžiui, skaičiai, eilutės, sąrašai, žodynai ir kiti. Jų matomumo sritis - kur jie gali būti pasiekiami - priklauso nuo to, ar jie apibrėžti kaip '`lokalūs`' ar '`globalūs`'. \n",
    "\n",
    "- Globalūs kintamieji yra apibrėžiami programos pradžioje ir jie gali būti naudojami visoje programoje.\n",
    "- Lokalūs kintamieji yra apibrėžiami funkcijos viduje ir jie gali būti naudojami tik toje funkcijoje.\n",
    "\n",
    "Atminkite*, supratimas, kaip ir kur naudoti lokalius bei globalius kintamuosius, yra būtinas efektyviam programavimui Python kalba.\n",
    "\n",
    "**Štai pavyzdys**:"
   ]
  },
  {
   "cell_type": "code",
   "execution_count": 7,
   "metadata": {},
   "outputs": [
    {
     "name": "stdout",
     "output_type": "stream",
     "text": [
      "Funkcijos viduje, x turi reikšmę: lokalus kintamasis\n",
      "Globalus x turi reikšmę: globali reikšmė\n"
     ]
    }
   ],
   "source": [
    "x = \"globali reikšmė\" # globalus kintamasis\n",
    "\n",
    "def my_function():\n",
    "    # print(\"Funkcijos viduje, x turi reikšmę:\", x)           # tokiu budu neveiks\n",
    "    x = \"lokalus kintamasis\" # lokalus kintamasis\n",
    "    print(\"Funkcijos viduje, x turi reikšmę:\", x) # pirmiausiai pasiims lokalu kintamaji\n",
    "\n",
    "my_function()\n",
    "\n",
    "print(\"Globalus x turi reikšmę:\", x)"
   ]
  },
  {
   "cell_type": "code",
   "execution_count": 8,
   "metadata": {},
   "outputs": [
    {
     "name": "stdout",
     "output_type": "stream",
     "text": [
      "Funkcijos viduje, x turi reikšmę: globali reikšmė\n",
      "Globalus x turi reikšmę: globali reikšmė\n"
     ]
    }
   ],
   "source": [
    "x = \"globali reikšmė\" # globalus kintamasis\n",
    "\n",
    "def my_function():\n",
    "    print(\"Funkcijos viduje, x turi reikšmę:\", x) # pasiims globalu kintamaji, nes lokalaus NERA\n",
    "\n",
    "my_function()\n",
    "\n",
    "print(\"Globalus x turi reikšmę:\", x)"
   ]
  },
  {
   "cell_type": "markdown",
   "metadata": {},
   "source": [
    "- Šis pavyzdys apibrėžia globalų kintamąjį \"`x`\" ir funkciją pavadinimu \"`my_function()`\", kuri funkcijos viduje apibrėžia lokalų kintamąjį \"`x`\". \n",
    "- Tadar funkcija yra iškviečiama, ir ji išspausdina `lokalaus kintamojo \"x\" reikšmę`.\n",
    "- Galutinis rezultatas yra \"`Globalus x turi reikšmę: globali reikšmė`\", nes funkcija apibrėžia naują lokalų kintamąjį \"`x`\" savo viduje, kuris nepakeičia globalaus kintamojo \"`x`\" reikšmės."
   ]
  },
  {
   "cell_type": "markdown",
   "metadata": {},
   "source": [
    "Štai dar vienas pavyzdys, kuriame naudojamas globalus ir lokalus kintamasis, tačiau šį kartą globalus kintamasis keičiamas funkcijos viduje naudojant '`global`' raktinį žodį:\n",
    "- ### Sis metodas nerekomenduojamas, nes pakeitus Globalia reiksme funkcijoje ji DINGSTA negriztamai !!!!"
   ]
  },
  {
   "cell_type": "code",
   "execution_count": 37,
   "metadata": {},
   "outputs": [
    {
     "name": "stdout",
     "output_type": "stream",
     "text": [
      "Funkcijos viduje, kol nedeklaruotas x, jis turi globalia reikšmę: globali reikšmė\n",
      "Funkcijos viduje, x turi lokalia reikšmę: 20\n",
      "Globalus x turi reikšmę: 20\n"
     ]
    }
   ],
   "source": [
    "x = \"globali reikšmė\" # globalus kintamasis\n",
    "\n",
    "def global_function():\n",
    "    global x # nerekomenduojamas naudoti\n",
    "    print(\"Funkcijos viduje, kol nedeklaruotas x, jis turi globalia reikšmę:\", x)\n",
    "    x = 20\n",
    "    print(\"Funkcijos viduje, x turi lokalia reikšmę:\", x)\n",
    "\n",
    "global_function()\n",
    "\n",
    "print(\"Globalus x turi reikšmę:\", x) # atspausdins 20, o ne \"globali reikšmė\""
   ]
  },
  {
   "cell_type": "markdown",
   "metadata": {},
   "source": [
    "Šioje programoje yra apibrėžiamas globalus kintamasis `x`, o funkcija `my_function()` pakeičia globalaus kintamojo `x` reikšmę į 20 naudodama `global` raktinį žodį."
   ]
  },
  {
   "cell_type": "code",
   "execution_count": 38,
   "metadata": {},
   "outputs": [
    {
     "name": "stdout",
     "output_type": "stream",
     "text": [
      "originalus argas: 20\n",
      "funkcijoje pakeistas argas: kazkas naujo\n",
      "pakeistas y: kazkas naujo\n"
     ]
    }
   ],
   "source": [
    "# budas issaugoti kintamuju reiksmes !!!\n",
    "\n",
    "def argumento_grazinimas(arg):\n",
    "    print('originalus argas:', arg)\n",
    "    arg = 'kazkas naujo'\n",
    "    print('funkcijoje pakeistas argas:', arg)\n",
    "    return arg\n",
    "# sitoje vietoje mes aktyvuojame funkcija, tuo paciu pakeisdami argumenta is \"arg\" i \"x\" reiksme bei nauja sukuriame nauja \"y\" nekeiciant \"x\" !!!\n",
    "y = argumento_grazinimas(x) \n",
    "print(\"pakeistas y:\", y)"
   ]
  },
  {
   "cell_type": "code",
   "execution_count": 35,
   "metadata": {},
   "outputs": [
    {
     "name": "stdout",
     "output_type": "stream",
     "text": [
      "originalus argas: 20\n",
      "funkcijoje pakeistas argas: kazkas naujo\n",
      "pakeistas x: kazkas naujo\n"
     ]
    }
   ],
   "source": [
    "# aktyvavus sita funkcija, virsuje x reiksme bus pakeista\n",
    "\n",
    "def argumento_grazinimas(arg):\n",
    "    print('originalus argas:', arg)\n",
    "    arg = 'kazkas naujo'\n",
    "    print('funkcijoje pakeistas argas:', arg)\n",
    "    return arg\n",
    "# sitoje vietoje mes aktyvuojame funkcija, tuo paciu pakeisdami argumenta is \"arg\" i \"x\" reiksme bei nauja x!!!\n",
    "x = argumento_grazinimas(x) \n",
    "print(\"pakeistas x:\", x)"
   ]
  }
 ],
 "metadata": {
  "kernelspec": {
   "display_name": "venv",
   "language": "python",
   "name": "python3"
  },
  "language_info": {
   "codemirror_mode": {
    "name": "ipython",
    "version": 3
   },
   "file_extension": ".py",
   "mimetype": "text/x-python",
   "name": "python",
   "nbconvert_exporter": "python",
   "pygments_lexer": "ipython3",
   "version": "3.11.7"
  }
 },
 "nbformat": 4,
 "nbformat_minor": 2
}
