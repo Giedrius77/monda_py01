{
 "cells": [
  {
   "cell_type": "markdown",
   "metadata": {},
   "source": [
    "# Polimorfizmas\n",
    "Polimorfizmas yra vienas iš objektiškai orientuoto programavimo principų. Jis suteikia galimybę naudoti tą pačią funkciją ar metodą su įvairių tipų objektais. Tai reiškia, kad skirtingų tipų ar skirtingai įgyvendinti objektai gali būti naudojami vienodai.\n",
    "\n",
    "Polimorfizmas prisideda prie programos lankstumo, naudojimo patogumo ir kodų aiškumo, nes programuotojui lengviau pritaikyti kodą ateičiai galimiems pakeitimams."
   ]
  },
  {
   "cell_type": "markdown",
   "metadata": {},
   "source": [
    "--- \n",
    "## Metodo perrašymas\n",
    "Metodo perrašymas yra galimybė perrašyti tėvinių klasės metodą paveldėtoje klasėje ir suteikti jam naują implementaciją. Tai yra galima dėl to, kad paveldėtoje klasėje jau yra aprašytas tėvinės klasės metodas su tokiu pat pavadinimu.\n",
    "\n",
    "Metodų perrašymas leidžia mums kurti specializuotas klases, kurios gali modifikuoti ar papildyti tėvinės klasės funkcionalumą, nekeičiant paties tėvinės klasės kodo. Be to, metodas paveldėtoje klasėje gali turėti papildomus argumentus, kurių gali nebūti tėvinėje klasėje."
   ]
  },
  {
   "cell_type": "code",
   "execution_count": 27,
   "metadata": {},
   "outputs": [],
   "source": [
    "class Automobilis:\n",
    "    def __init__(self, marke, modelis):\n",
    "        self.marke = marke\n",
    "        self.modelis = modelis\n",
    "\n",
    "    def greitis(self):\n",
    "        print('Šis automobilis važiuoja leistinu greičiu')\n",
    "\n",
    "\n",
    "class SportinisAutomobilis(Automobilis):\n",
    "    def greitis(self):\n",
    "        print('Šis automobilis gali važiuoti iki 300 km/h')\n",
    "\n",
    "\n",
    "class IstorinisAutomobilis(Automobilis):\n",
    "    def greitis(self):\n",
    "        print('Šis automobilis gali važiuoti iki 100 km/h')\n",
    "\n",
    "\n",
    "def informacija(masina):\n",
    "    masina.greitis()"
   ]
  },
  {
   "cell_type": "markdown",
   "metadata": {},
   "source": [
    "Iškvietę sukurtą funkciją su skirtingoms klasės priklausančiais objektais, gausime skirtingą rezultatą:"
   ]
  },
  {
   "cell_type": "code",
   "execution_count": 28,
   "metadata": {},
   "outputs": [
    {
     "name": "stdout",
     "output_type": "stream",
     "text": [
      "Šis automobilis gali važiuoti iki 300 km/h\n",
      "Šis automobilis gali važiuoti iki 100 km/h\n",
      "Šis automobilis važiuoja leistinu greičiu\n"
     ]
    }
   ],
   "source": [
    "ferrari = SportinisAutomobilis('Ferrari', '458 Italia')\n",
    "ford = IstorinisAutomobilis('Ford', 'Model T')\n",
    "audi = Automobilis(\"Audi\", \"A4\")\n",
    "\n",
    "informacija(ferrari) # Šis automobilis gali važiuoti iki 300 km/h\n",
    "informacija(ford) # Šis automobilis gali važiuoti iki 100 km/h\n",
    "informacija(audi) # Šis automobilis važiuoja leistinu greičiu"
   ]
  },
  {
   "cell_type": "markdown",
   "metadata": {},
   "source": [
    "### Užduotis 1: Metodo Perrašymas\n",
    "\n",
    "1. Sukurkite Python programą, kuri apibrėžtų bazinę klasę `Animal` su metodu `make_sound()`.\n",
    "1. Tada sukurkite dvi išvestines klases, `Dog` ir `Cat`, kurios paveldėtų iš `Animal` klasės.\n",
    "1. Perrašykite metodą `make_sound()` abiejose išvestinėse klasėse taip, kad šuo lotų ir katė miauktų, atitinkamai.\n",
    "1. Galiausiai, sukurkite `Dog` ir `Cat` klasių objektus ir iškvieskite jų metodus `make_sound()`."
   ]
  },
  {
   "cell_type": "code",
   "execution_count": 25,
   "metadata": {},
   "outputs": [
    {
     "name": "stdout",
     "output_type": "stream",
     "text": [
      "Muuuuuuuu!\n",
      "Miau miau\n",
      "Au au au!\n",
      "Kates vardas: Puke, kates svoris: 15\n"
     ]
    }
   ],
   "source": [
    "# jusu kodo vieta\n",
    "\n",
    "class Gyvunai:\n",
    "    def __init__(self, vardas, svoris):\n",
    "        self.vardas = vardas\n",
    "        self.svoris = svoris\n",
    "    \n",
    "    def make_sound(self):\n",
    "        print('Muuuuuuuu!')\n",
    "\n",
    "class Kate(Gyvunai):\n",
    "    def make_sound(self):\n",
    "        print('Miau miau')\n",
    "\n",
    "class Suo(Gyvunai):\n",
    "    def make_sound(self):\n",
    "        print(\"Au au au!\")\n",
    "\n",
    "def informacija(gyvunai):\n",
    "    gyvunai.make_sound()\n",
    "\n",
    "karve = Gyvunai('Marge', 550)           # 'command /' pazymeta teksta pavercia KOMENTARAIS\n",
    "kate = Kate('Puke', 15)\n",
    "suo = Suo('Barnis', 22)\n",
    "\n",
    "informacija(karve)\n",
    "informacija(kate)\n",
    "informacija(suo)\n",
    "\n",
    "print(f'Kates vardas: {kate.vardas}, kates svoris: {kate.svoris}')\n",
    "    "
   ]
  },
  {
   "cell_type": "markdown",
   "metadata": {},
   "source": [
    "---\n",
    "## Paveldėto metodo iškvietimas\n",
    "Kai norite panaudoti paveldėtus tėvinės klasės metodus ir savybes, tačiau tuo pat metu norite pakeisti jų veikimą naudojama `super()` funkcija. Tai leidžia mums išlaikyti tėvinės klasės funkcionalumą, tuo pat metu pridedant savo papildomą funkcionalumą. Pavyzdys.:"
   ]
  },
  {
   "cell_type": "code",
   "execution_count": 29,
   "metadata": {},
   "outputs": [],
   "source": [
    "class Automobilis:\n",
    "    def __init__(self, marke, modelis):\n",
    "        self.marke = marke\n",
    "        self.modelis = modelis\n",
    "\n",
    "    def greitis(self):\n",
    "        print('Šis automobilis važiuoja leistinu greičiu')\n",
    "\n",
    "\n",
    "class SportinisAutomobilis(Automobilis):\n",
    "    def greitis(self):\n",
    "        super().greitis()\n",
    "        print('Šis automobilis gali važiuoti iki 300 km/h')\n",
    "\n",
    "\n",
    "def informacija(masina):\n",
    "    masina.greitis()"
   ]
  },
  {
   "cell_type": "markdown",
   "metadata": {},
   "source": [
    "Iškvietę sukurtą funkciją su objektu, kuris paveldi tėvinės klasės metodą, gausime toki rezultatą:"
   ]
  },
  {
   "cell_type": "code",
   "execution_count": 30,
   "metadata": {},
   "outputs": [
    {
     "name": "stdout",
     "output_type": "stream",
     "text": [
      "Šis automobilis važiuoja leistinu greičiu\n",
      "Šis automobilis gali važiuoti iki 300 km/h\n"
     ]
    }
   ],
   "source": [
    "ferrari = SportinisAutomobilis('Ferrari', '458 Italia')\n",
    "\n",
    "informacija(ferrari)    # Šis automobilis važiuoja leistinu greičiu\n",
    "                        # Šis automobilis gali važiuoti iki 300 km/h"
   ]
  },
  {
   "cell_type": "markdown",
   "metadata": {},
   "source": [
    "### Antra užduotis: Darbuotojo informacija\n",
    "\n",
    "1. Sukurkite `darbuotojų` klasę su savybėmis `vardas`, `pavarde` ir `atlyginimas`, kuri turėtų metodą atspausdinantį darbuotojo informaciją.\n",
    "1. Sukurkite `administratoriaus` klasę, kuri paveldėtų savybes iš darbuotojo klasės.\n",
    "1. Sukurkite `vadovo` klasę, kuri paveldėtų savybes iš darbuotojo klasės ir turėtų papildomą savybę \"`premija`\" bei metodą, kuris atspausdins papildytą darbuotojo informaciją.\n",
    "1. Sukurkite kelis kiekvienos klasės objektus ir iškvieskite informacijos spausdinimo metodą."
   ]
  },
  {
   "cell_type": "code",
   "execution_count": 42,
   "metadata": {},
   "outputs": [
    {
     "name": "stdout",
     "output_type": "stream",
     "text": [
      "---\n",
      "Ona Onaite, atlyginimas: 850 €\n",
      "---\n",
      "Lina Linaite, atlyginimas: 1200 €\n",
      "---\n",
      "Stase Stasaite, atlyginimas: 1550 €\n",
      "---\n",
      "Ema Emaite, atlyginimas: 960 €\n",
      "Vasaros atostogos trys menesiai! \n",
      "---\n",
      "Petras petraitis, atlyginimas: 2200 €\n",
      "Premija: 520 €\n"
     ]
    }
   ],
   "source": [
    "# jusu kodo vieta\n",
    "\n",
    "class Darbuotojai:\n",
    "    def __init__(self, vardas, pavarde, atlyginimas):\n",
    "        self.vardas = vardas\n",
    "        self.pavarde = pavarde\n",
    "        self.atlyginimas = atlyginimas\n",
    "\n",
    "    def info(self):\n",
    "        print(f'---\\n{self.vardas} {self.pavarde}, atlyginimas: {self.atlyginimas} €')\n",
    "\n",
    "class Administratorius(Darbuotojai):\n",
    "    def __init__(self, vardas, pavarde, atlyginimas, atostogos=None):\n",
    "        super().__init__(vardas, pavarde, atlyginimas)\n",
    "        self.atostogos = atostogos\n",
    "\n",
    "    def info(self):\n",
    "        super().info()\n",
    "        print(f\"Vasaros atostogos {self.atostogos} menesiai! \")\n",
    "\n",
    "class Vadovas(Darbuotojai):\n",
    "    def __init__(self, vardas, pavarde, atlyginimas, premija=0):\n",
    "        super().__init__(vardas, pavarde, atlyginimas)\n",
    "        self.premija = premija\n",
    "    \n",
    "    def info(self):\n",
    "        super().info()\n",
    "        print(f\"Premija: {self.premija} €\")\n",
    "\n",
    "# cia visa info 'self'\n",
    "valytoja = Darbuotojai('Ona', 'Onaite', 850)\n",
    "kasininke = Darbuotojai('Lina', 'Linaite', 1200)\n",
    "pavaduotoja = Darbuotojai('Stase', 'Stasaite', 1550)\n",
    "administratore = Administratorius('Ema', 'Emaite', 960, 'trys')\n",
    "vadovas = Vadovas('Petras', \"petraitis\", 2200, premija=520)\n",
    "\n",
    "#visus 'self' prilyginam vienam kintamajam 'darbuotojai'\n",
    "darbuotojai = [valytoja, kasininke, pavaduotoja, administratore, vadovas]\n",
    "\n",
    "for darbuotojas in darbuotojai:\n",
    "    darbuotojas.info()"
   ]
  }
 ],
 "metadata": {
  "kernelspec": {
   "display_name": "venv",
   "language": "python",
   "name": "python3"
  },
  "language_info": {
   "codemirror_mode": {
    "name": "ipython",
    "version": 3
   },
   "file_extension": ".py",
   "mimetype": "text/x-python",
   "name": "python",
   "nbconvert_exporter": "python",
   "pygments_lexer": "ipython3",
   "version": "3.11.7"
  }
 },
 "nbformat": 4,
 "nbformat_minor": 2
}
