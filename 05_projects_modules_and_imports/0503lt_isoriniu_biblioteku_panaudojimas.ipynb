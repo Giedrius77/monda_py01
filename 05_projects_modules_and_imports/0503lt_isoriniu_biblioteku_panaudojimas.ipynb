{
 "cells": [
  {
   "cell_type": "markdown",
   "metadata": {},
   "source": [
    "# Išorinių bibliotekų panaudojimas"
   ]
  },
  {
   "cell_type": "markdown",
   "metadata": {},
   "source": [
    "Python programavimo kalba turi daug išorinių bibliotekų, kurias galite naudoti savo projektuose, kad išvengtumėte kodo dubliavimo ir pasinaudotumėte kitų kūrėjų darbu. Šios bibliotekos dažnai yra platinamos per Python Package Index (PyPI) ir gali būti įdiegtos naudojant pip - Python paketų tvarkyklę."
   ]
  },
  {
   "cell_type": "markdown",
   "metadata": {},
   "source": [
    "## pip install, pip list\n",
    "\n",
    "Pagrindinės pip komandos yra:\n",
    "\n",
    "pip install <paketo_pavadinimas>: įdiegia paketą iš PyPI."
   ]
  },
  {
   "cell_type": "code",
   "execution_count": null,
   "metadata": {},
   "outputs": [],
   "source": [
    "pip install requests"
   ]
  },
  {
   "cell_type": "markdown",
   "metadata": {},
   "source": [
    "pip list: rodo visus įdiegtus paketus ir jų versijas."
   ]
  },
  {
   "cell_type": "code",
   "execution_count": null,
   "metadata": {},
   "outputs": [],
   "source": [
    "pip list"
   ]
  },
  {
   "cell_type": "markdown",
   "metadata": {},
   "source": [
    "## Kaip naudoti `requirements.txt` ir `pip freeze`"
   ]
  },
  {
   "cell_type": "markdown",
   "metadata": {},
   "source": [
    "Sukurkite virtualią aplinką ir aktyvuokite ją (jei dar neaktyvavote):"
   ]
  },
  {
   "cell_type": "code",
   "execution_count": null,
   "metadata": {},
   "outputs": [],
   "source": [
    "python3 -m venv venv\n",
    "source venv/bin/activate  # Linux/MacOS\n",
    "venv\\Scripts\\activate     # Windows"
   ]
  },
  {
   "cell_type": "markdown",
   "metadata": {},
   "source": [
    "Įdiekite reikiamas išorines bibliotekas naudojant"
   ]
  },
  {
   "cell_type": "code",
   "execution_count": null,
   "metadata": {},
   "outputs": [],
   "source": [
    "pip install <paketo_pavadinimas>"
   ]
  },
  {
   "cell_type": "markdown",
   "metadata": {},
   "source": [
    "Po to, kai visos reikiamos bibliotekos yra įdiegtos, naudokite komandą `pip freeze > requirements.txt`, kad sugeneruotumėte `requirements.txt` failą su visomis įdiegtomis bibliotekomis ir jų versijomis:"
   ]
  },
  {
   "cell_type": "code",
   "execution_count": null,
   "metadata": {},
   "outputs": [],
   "source": [
    "pip freeze > requirements.txt"
   ]
  },
  {
   "cell_type": "markdown",
   "metadata": {},
   "source": [
    "`requirements.txt` failą įtraukite į savo projekto repozitoriją, kad kitų kūrėjų ar kompiuterių būtų lengviau įdiegti visas reikiamas priklausomybes."
   ]
  },
  {
   "cell_type": "markdown",
   "metadata": {},
   "source": [
    "### Kodėl reikalinga virtuali aplinka kiekvienam projektui?"
   ]
  },
  {
   "cell_type": "markdown",
   "metadata": {},
   "source": [
    "Virtualios aplinkos yra izoliuotos Python aplinkos, kurios leidžia atskirai valdyti kiekvieno projekto priklausomybes. Virtualios aplinkos yra naudingos dėl šių priežasčių:\n",
    "\n",
    "- Izoliacija: kiekvienas projektas gali turėti savo bibliotekų versijas, be jokių konfliktų su kitais projektais.\n",
    "- Tvarka: virtualios aplinkos padeda išlaikyti sistemos tvarką, kadangi bibliotekos nėra įdiegiamos globaliai.\n",
    "- Perkeliamumas: virtualių aplinkų naudojimas palengvina projekto perkėlimą tarp skirtingų kompiuterių, nes priklausomybės yra aiškiai aprašytos."
   ]
  },
  {
   "cell_type": "code",
   "execution_count": null,
   "metadata": {},
   "outputs": [],
   "source": [
    "# nuo Aivaras Minkevicius\n",
    "\n",
    "\n",
    "from cryptography.fernet import Fernet # pip install cryptography\n",
    "\n",
    "'''#create a key to encrypt the passwords\n",
    "def write_key():\n",
    "    key = Fernet.generate_key()\n",
    "    with open('key.key', 'wb') as key_file: #wb means write binary \n",
    "        key_file.write(key)\n",
    "\n",
    "write_key()'''  #this is for testing purposes, to create a key file and then use it to encrypt passwords\n",
    "\n",
    "def load_key(): #this is to load the key from the key file\n",
    "    file = open('key.key', 'rb') #rb means read binary\n",
    "    key = file.read() #read the key file\n",
    "    file.close() #close the file\n",
    "    return key #return the key\n",
    "\n",
    "\n",
    "master_pwd = input(\"Whats is the master password? \") #this is to get the master password\n",
    "key = load_key() + master_pwd.encode() #this is to get the key from the key file and then add the master password to it\n",
    "fer = Fernet(key)#this is to create the fernet object\n",
    "\n",
    "def view():\n",
    "    with open('passwords.txt', 'r') as f: # r means read\n",
    "        for line in f.readlines(): #read the file line by line\n",
    "            data = line.rstrip() \n",
    "            user, passw = data.split(\":\")\n",
    "            '''print(\"User: \", user, \"| Password: \", fer.decrypt(passw.encode()))''' #this is to view decrypted passwords\n",
    "            print(f\"User: {user}: Encrypted password: {passw}\") #this is to view encrypted passwords\n",
    "\n",
    "def add():\n",
    "    name = input('Account name: ')\n",
    "    pwd = input('Password: ')\n",
    "\n",
    "    with open('passwords.txt', 'a') as f: # a means append, w means write, r means read\n",
    "        f.write(name + \":\" + fer.encrypt(pwd.encode()).decode() + \"\\n\") #this is to add the encrypted password to the file\n",
    "\n",
    "\n",
    "while True:\n",
    "\n",
    "    mode = input(\"Would you like to add a new password or view your existing passwords ( view / add ), press q to quit? \").lower()\n",
    "    if mode == \"q\":\n",
    "        break\n",
    "\n",
    "    if mode == \"view\":\n",
    "        view()\n",
    "    elif mode == \"add\":\n",
    "        add()    \n",
    "    else:\n",
    "        print(\"Invalid input\")\n",
    "        continue"
   ]
  }
 ],
 "metadata": {
  "kernelspec": {
   "display_name": "venv",
   "language": "python",
   "name": "python3"
  },
  "language_info": {
   "name": "python",
   "version": "3.11.7"
  }
 },
 "nbformat": 4,
 "nbformat_minor": 2
}
