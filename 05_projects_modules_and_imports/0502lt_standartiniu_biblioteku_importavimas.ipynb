{
 "cells": [
  {
   "cell_type": "markdown",
   "metadata": {},
   "source": [
    "# Standartinių bibliotekų importavimas"
   ]
  },
  {
   "cell_type": "markdown",
   "metadata": {},
   "source": [
    "## import this - \"The Zen of Python\" (Python'o dvasia)"
   ]
  },
  {
   "cell_type": "markdown",
   "metadata": {},
   "source": [
    "\"The Zen of Python\" (liet. „Python'o Dvasia“) yra Python programavimo kalbos filosofiją atspindinti poema, kurią sukūrė Tim Peters. Norėdami ją pamatyti, įvykdykite šią komandą:"
   ]
  },
  {
   "cell_type": "code",
   "execution_count": null,
   "metadata": {},
   "outputs": [],
   "source": [
    "import this"
   ]
  },
  {
   "cell_type": "markdown",
   "metadata": {},
   "source": [
    "Poemos pagrindiniai principai pabrėžia:\n",
    "\n",
    "- Aiškumas yra geriau už dviprasmiškumą.\n",
    "- Paprastumas viršija komplikacijas.\n",
    "- \"Dvigubai geriau\" nėra toks geras kaip \"gerai pakanka\".\n",
    "- Praktika yra svarbesnė už teoriją."
   ]
  },
  {
   "cell_type": "markdown",
   "metadata": {},
   "source": [
    "## `import random` - atsitiktinių skaičių generatoriaus funkcijos"
   ]
  },
  {
   "cell_type": "code",
   "execution_count": null,
   "metadata": {},
   "outputs": [],
   "source": [
    "import random\n",
    "\n",
    "# generuoja atsitiktinį (float) skaičių tarp 0.0 ir 1.0.\n",
    "print(random.random())\n",
    "\n",
    "# generuoja atsitiktinį sveikąjį skaičių (int) tarp 1 ir 10 imtinai.\n",
    "print(random.randint(1, 10))\n",
    "\n",
    "# atsitiktinai pasirenka elementą iš sekos, tokių kaip sąrašas.\n",
    "my_list = [\"a\", \"b\", \"c\", \"d\", \"e\"]\n",
    "print(random.choice(my_list))"
   ]
  },
  {
   "cell_type": "markdown",
   "metadata": {},
   "source": [
    "### Greita Užduotis 1\n",
    "\n",
    "Parašykite Python funkciją, kuri atliktų šiuos veiksmus:\n",
    "\n",
    "1. Sugeneruokite 10 atsitiktinių sveikųjų skaičių tarp 1 ir 100.\n",
    "1. Atspausdinkite pradinį atsitiktinių skaičių sąrašą.\n",
    "1. Išrikiuokite sąrašą didėjančia tvarka.\n",
    "1. Atspausdinkite surikiuotą sąrašą."
   ]
  },
  {
   "cell_type": "code",
   "execution_count": null,
   "metadata": {},
   "outputs": [],
   "source": [
    "# jusu kodo vieta\n",
    "\n",
    "#Pirmas budas\n",
    "\n",
    "import random\n",
    "\n",
    "def print_and_sort_random_numbers():\n",
    "    random_numbers = [random.randint(1, 100) for _ in range(10)] # sukuriame kintamaji ir ko mums reikia is jo, siu atveju pasirinks atsitiktinius desimt skaiciu tarp 1 ir 100\n",
    "\n",
    "    print(\"Pasirinktas sarasas:\", random_numbers) \n",
    "\n",
    "    random_numbers.sort() # surusiuoja numerius nuo maz iki did\n",
    "\n",
    "    print(\"Isrusiuoti numeriai:\", random_numbers)\n",
    "\n",
    "print_and_sort_random_numbers() # norint aktyvuoti eilute 8 ir 12 mums reikia aktyvinti funkcija, t.y. 5 eilute!!!!"
   ]
  },
  {
   "cell_type": "code",
   "execution_count": null,
   "metadata": {},
   "outputs": [],
   "source": [
    "# Antras budas\n",
    "\n",
    "import random\n",
    "\n",
    "def print_and_sort_random_numbers():\n",
    "    random_numbers = []\n",
    "    for _ in range(10):\n",
    "        random_numbers.append(random.randint(1, 100))\n",
    "\n",
    "    print(\"Pasirinktas sarasas:\", random_numbers) \n",
    "\n",
    "    random_numbers.sort() # surusiuoja numerius nuo maz iki did\n",
    "\n",
    "    print(\"Isrusiuoti numeriai:\", random_numbers)\n",
    "\n",
    "print_and_sort_random_numbers() # norint aktyvuoti eilute 8 ir 12 mums reikia aktyvinti funkcija, t.y. 5 eilute!!!!"
   ]
  },
  {
   "cell_type": "markdown",
   "metadata": {},
   "source": [
    "---\n",
    "\n",
    "## `import math` - papildomos matematinės funkcijos"
   ]
  },
  {
   "cell_type": "markdown",
   "metadata": {},
   "source": [
    "Python'o `math` biblioteka suteikia prieigą prie papildomų matematinių funkcijų ir konstantų, tokių kaip π (pi) ir e. Štai keletas pavyzdžių:"
   ]
  },
  {
   "cell_type": "code",
   "execution_count": null,
   "metadata": {},
   "outputs": [],
   "source": [
    "import math\n",
    "print(dir(math)) # dir ismeta visas math - bibliotrka turimas finkcijas\n",
    "print(math.isfinite.__doc__) # patikrina isfinite dokumentacija\n",
    "print (math.isfinite(1000000000000000)) # patikrina reiksme (), atsakymas - True\n",
    "\n",
    "# funkcija apskaičiuoja sinuso reikšmę\n",
    "print(math.sin(math.pi / 2))\n",
    "\n",
    "# funkcija apskaičiuoja faktorialą\n",
    "print(math.factorial(5))\n",
    "\n",
    "# funkcija apskaičiuoja kvadratinę šaknį\n",
    "print(math.sqrt(9))"
   ]
  },
  {
   "cell_type": "markdown",
   "metadata": {},
   "source": [
    "### Greita užduotis 2: Kauliukų žaidimas\n",
    "\n",
    "Sukurkite kauliukų žaidimą, kuris:\n",
    "\n",
    "- Sugeneruotų tris atsitiktinius skaičius nuo 1 iki 6\n",
    "- Jei vienas iš šių skaičių yra 5, atspausdinti „Pralaimėjai...“\n",
    "- Kitu atveju atspausdinti „Laimėjai!“\n",
    "- Patarimas: Naudokite ciklą"
   ]
  },
  {
   "cell_type": "code",
   "execution_count": null,
   "metadata": {},
   "outputs": [],
   "source": [
    "# PIRMAS variantas\n",
    "# jusu kodo vieta\n",
    "\n",
    "import random \n",
    "\n",
    "def kauliuku_zaidimas():\n",
    "    for skaicius in range(3):\n",
    "        skaicius = random.randint(1, 6)\n",
    "        print(skaicius)\n",
    "        if skaicius == 5:\n",
    "            print(\"Pralaimejote!\")\n",
    "            break\n",
    "    else:\n",
    "        print(\"Laimejote!\")\n",
    "    \n",
    "kauliuku_zaidimas()\n"
   ]
  },
  {
   "cell_type": "code",
   "execution_count": 3,
   "metadata": {},
   "outputs": [
    {
     "name": "stdout",
     "output_type": "stream",
     "text": [
      "[1, 4, 6]\n",
      "Laimejote!\n"
     ]
    }
   ],
   "source": [
    "# ANTRAS variantas\n",
    "\n",
    "import random\n",
    "\n",
    "def kauliukas():\n",
    "    isridenti_skaicius = [random.randint(1, 6) for _ in range(3)]\n",
    "    print(isridenti_skaicius)\n",
    "    for numeriukas in isridenti_skaicius:\n",
    "        if numeriukas == 5:\n",
    "            print(\"Pralaimejote!\")\n",
    "            break\n",
    "    else:\n",
    "        print(\"Laimejote!\")\n",
    "\n",
    "kauliukas()"
   ]
  },
  {
   "cell_type": "code",
   "execution_count": 2,
   "metadata": {},
   "outputs": [
    {
     "name": "stdout",
     "output_type": "stream",
     "text": [
      "[4, 5, 6]\n",
      "LOSE\n"
     ]
    }
   ],
   "source": [
    "# studento kodo pvz\n",
    "\n",
    "import random\n",
    "def dice_game():\n",
    "    number_list = []\n",
    "    count = 0\n",
    "    got_5 = False\n",
    "    while count <3:\n",
    "        random_number = random.randint(1, 6)\n",
    "        number_list.append(random_number)\n",
    "        count += 1\n",
    "    print(number_list)\n",
    "    for number in number_list:\n",
    "        if number == 5:\n",
    "            got_5 = True\n",
    "            break\n",
    "        else:\n",
    "            pass\n",
    "    if got_5:\n",
    "        print(\"LOSE\")\n",
    "    else:\n",
    "        print(\"WIN\")\n",
    "dice_game()"
   ]
  },
  {
   "cell_type": "code",
   "execution_count": 17,
   "metadata": {},
   "outputs": [
    {
     "name": "stdout",
     "output_type": "stream",
     "text": [
      "Kauliuko skaičius: 1\n",
      "Kauliuko skaičius: 2\n",
      "Kauliuko skaičius: 5\n",
      "Pralaimėjai...\n"
     ]
    }
   ],
   "source": [
    "# studento kodo pvz\n",
    "\n",
    "import random\n",
    "\n",
    "def dice_game():\n",
    "    for _ in range(3):\n",
    "        roll = random.randint(1, 6)\n",
    "        print(f\"Kauliuko skaičius: {roll}\")\n",
    "        \n",
    "\n",
    "        if roll == 5:\n",
    "            print(\"Pralaimėjai...\")\n",
    "            return  \n",
    "        \n",
    "    print(\"Laimėjai!\")\n",
    "\n",
    "\n",
    "dice_game()"
   ]
  },
  {
   "cell_type": "code",
   "execution_count": 19,
   "metadata": {},
   "outputs": [
    {
     "name": "stdout",
     "output_type": "stream",
     "text": [
      "[4, 3, 6]\n",
      "You win!\n"
     ]
    }
   ],
   "source": [
    "# studento kodo pvz\n",
    "\n",
    "import random \n",
    "\n",
    "my_list = []\n",
    "\n",
    "for i in range(1, 4):\n",
    "    number = random.randint(1, 6)\n",
    "    my_list.append(number)\n",
    "\n",
    "print(my_list)\n",
    "lost = False\n",
    "for number in my_list:\n",
    "    if number == 5:\n",
    "        print(\"You lose\")\n",
    "        lost = True\n",
    "        break\n",
    "if not lost:\n",
    "    print(\"You win!\")"
   ]
  },
  {
   "cell_type": "markdown",
   "metadata": {},
   "source": [
    "---\n",
    "\n",
    "## `import calendar` - kalendoriaus funkcijos"
   ]
  },
  {
   "cell_type": "markdown",
   "metadata": {},
   "source": [
    "Python'o `calendar` biblioteka suteikia galimybes dirbti su kalendoriais ir atlikti tokias operacijas kaip keliamųjų metų tikrinimą arba savaitės dienos nustatymą pagal datą. Štai keletas pavyzdžių:"
   ]
  },
  {
   "cell_type": "code",
   "execution_count": null,
   "metadata": {},
   "outputs": [],
   "source": [
    "import calendar\n",
    "\n",
    "# Tikrinti, ar metai yra keliamieji\n",
    "print(calendar.isleap(2023))\n",
    "\n",
    "# Gaukite savaitės dienos pavadinimą pagal skaičių\n",
    "print(calendar.day_name[1]) # 'Tuesday'\n",
    "\n",
    "# Gaukite mėnesio dienų skaičių\n",
    "print(calendar.monthrange(2023, 4)) # (5, 30) - pirmoji balandžio diena yra šeštadienis (5), o balandžio mėnesyje yra 30 dienų\n",
    "\n",
    "# Atspausdinti mėnesio kalendorių\n",
    "print(calendar.month(2023, 4))"
   ]
  },
  {
   "cell_type": "markdown",
   "metadata": {},
   "source": [
    "`calendar` biblioteka turi daugiau funkcijų ir savybių, kurios padės jums dirbti su datomis ir laiku. Šie pavyzdžiai yra tik pradžia. Galite rasti daugiau informacijos apie `calendar` biblioteką [Python dokumentacijoje](https://docs.python.org/3/library/calendar.html)."
   ]
  },
  {
   "cell_type": "markdown",
   "metadata": {},
   "source": [
    "### Greita užduotis 3: `calendar` bibliotekos naudojimas"
   ]
  },
  {
   "cell_type": "markdown",
   "metadata": {},
   "source": [
    "Sukurkite Python funkciją, kuri vadinasi `print_month_calendar`.\n",
    "\n",
    "- Funkcija turėtų priimti du parametrus: metai ir menesis.\n",
    "- Funkcijos viduje, naudodami calendar modulį, sugeneruokite ir atspausdinkite nurodyto mėnesio kalendorių.\n",
    "- Apskaičiuokite ir atspausdinkite, kiek yra savaitgalio dienų (šeštadienių ir sekmadienių) nurodytame mėnesyje."
   ]
  },
  {
   "cell_type": "code",
   "execution_count": 1,
   "metadata": {},
   "outputs": [
    {
     "name": "stdout",
     "output_type": "stream",
     "text": [
      "    January 2024\n",
      "Mo Tu We Th Fr Sa Su\n",
      " 1  2  3  4  5  6  7\n",
      " 8  9 10 11 12 13 14\n",
      "15 16 17 18 19 20 21\n",
      "22 23 24 25 26 27 28\n",
      "29 30 31\n",
      "\n",
      "Number of weekend days in this month: 8\n"
     ]
    }
   ],
   "source": [
    "# destytojo kodo pvz\n",
    "\n",
    " # example 1\n",
    "import calendar\n",
    "\n",
    "def print_monthly_calendar_counting_weekends(year, month):\n",
    "    # Print the calendar for the specified year and month\n",
    "    print(calendar.month(year, month))\n",
    "\n",
    "    # Determine the number of days in the month\n",
    "    _, month_length = calendar.monthrange(year, month)\n",
    "\n",
    "    # Count the weekend days (Saturdays and Sundays)\n",
    "    weekend_days = 0\n",
    "    for day in range(1, month_length + 1):\n",
    "        day_of_week = calendar.weekday(year, month, day)\n",
    "        if day_of_week == 5 or day_of_week == 6:\n",
    "            weekend_days += 1\n",
    "\n",
    "    print(f\"Number of weekend days in this month: {weekend_days}\")\n",
    "\n",
    "# Example with April 2023\n",
    "print_monthly_calendar_counting_weekends(2024, 1)"
   ]
  },
  {
   "cell_type": "code",
   "execution_count": 2,
   "metadata": {},
   "outputs": [
    {
     "name": "stdout",
     "output_type": "stream",
     "text": [
      "    January 2024\n",
      "Mo Tu We Th Fr Sa Su\n",
      " 1  2  3  4  5  6  7\n",
      " 8  9 10 11 12 13 14\n",
      "15 16 17 18 19 20 21\n",
      "22 23 24 25 26 27 28\n",
      "29 30 31\n",
      "Number of weekend days: 8\n"
     ]
    }
   ],
   "source": [
    "# example 2\n",
    "import calendar\n",
    "\n",
    "def print_month_calendar(year, month):\n",
    "    # Create a calendar where Monday is the first day of the week (0)\n",
    "    cal = calendar.TextCalendar(calendar.MONDAY)\n",
    "    \n",
    "    # Print the entire month's calendar\n",
    "    cal.prmonth(year, month)\n",
    "    \n",
    "    # Create a list of days in the month (e.g., [1, 2, 3, ..., 30])\n",
    "    month_days = calendar.monthrange(year, month)[1]\n",
    "    \n",
    "    # Count the weekend days\n",
    "    weekend_days = 0\n",
    "    for i in range(1, month_days + 1):\n",
    "        if calendar.weekday(year, month, i) in [calendar.SATURDAY, calendar.SUNDAY]:\n",
    "            weekend_days += 1\n",
    "\n",
    "    # Print the count of weekend days\n",
    "    print(f\"Number of weekend days: {weekend_days}\")\n",
    "\n",
    "# Example function call:\n",
    "print_month_calendar(2024, 1)"
   ]
  },
  {
   "cell_type": "code",
   "execution_count": null,
   "metadata": {},
   "outputs": [],
   "source": [
    "# example 3\n",
    "\n",
    "import calendar\n",
    "\n",
    "def weekends_in_month(year, month):\n",
    "    print(calendar.month(year, month))\n",
    "    month_days = calendar.monthrange(year, month)[1]\n",
    "    weekend_days = 0\n",
    "    for day in range(1, month_days + 1):\n",
    "        if calendar.weekday(year, month, day) in [5, 6]:\n",
    "            weekend_days += 1\n",
    "    print(f\"weekend days: {weekend_days}\")\n",
    "\n",
    "weekends_in_month(2024, 3)"
   ]
  },
  {
   "cell_type": "code",
   "execution_count": 1,
   "metadata": {},
   "outputs": [
    {
     "name": "stdout",
     "output_type": "stream",
     "text": [
      "    January 2024\n",
      "Mo Tu We Th Fr Sa Su\n",
      " 1  2  3  4  5  6  7\n",
      " 8  9 10 11 12 13 14\n",
      "15 16 17 18 19 20 21\n",
      "22 23 24 25 26 27 28\n",
      "29 30 31\n",
      "\n",
      "8\n"
     ]
    }
   ],
   "source": [
    "# studento kodo pvz\n",
    "\n",
    "import calendar\n",
    "\n",
    "def print_month_calendar(year, month):\n",
    "    print(calendar.month(year, month))\n",
    "\n",
    "print_month_calendar(2024, 1)\n",
    "\n",
    "number_of_holidays = 0\n",
    "number_of_days = calendar.monthrange(2024, 1)[1]\n",
    "\n",
    "for i in range(0, number_of_days):\n",
    "   if calendar.day_name[i%7]in['Saturday', 'Sunday']:\n",
    "        number_of_holidays += 1\n",
    "\n",
    "print(number_of_holidays)"
   ]
  },
  {
   "cell_type": "markdown",
   "metadata": {},
   "source": [
    "### Bibliotekos funkcijų auto-dokumentacijos gavimas programatiškai"
   ]
  },
  {
   "cell_type": "code",
   "execution_count": null,
   "metadata": {},
   "outputs": [],
   "source": [
    "import calendar\n",
    "\n",
    "library = calendar\n",
    "capabilities = dir(library)\n",
    "for capability in capabilities:\n",
    "    print(\"name:\", capability, \"\\nDocumentation:\\n\", getattr(library, capability).__doc__, \"\\n----\")"
   ]
  }
 ],
 "metadata": {
  "kernelspec": {
   "display_name": "venv",
   "language": "python",
   "name": "python3"
  },
  "language_info": {
   "codemirror_mode": {
    "name": "ipython",
    "version": 3
   },
   "file_extension": ".py",
   "mimetype": "text/x-python",
   "name": "python",
   "nbconvert_exporter": "python",
   "pygments_lexer": "ipython3",
   "version": "3.11.7"
  }
 },
 "nbformat": 4,
 "nbformat_minor": 2
}
