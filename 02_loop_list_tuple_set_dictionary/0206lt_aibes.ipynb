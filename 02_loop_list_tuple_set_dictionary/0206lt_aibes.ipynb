{
 "cells": [
  {
   "cell_type": "markdown",
   "metadata": {},
   "source": [
    "# Aibės (`set`) - unikalios sekos poreikius tenkinti!\n",
    "\n",
    "Aibės (`set`) yra kolekcijos tipo objektai, kurie skiriasi nuo sąrašų ir tuplų tuo, kad jie saugo tik unikalius elementus. \n",
    "- Tai reiškia, kad jei bandoma pridėti elementą, kuris jau egzistuoja aibėje, jis nebus pridėtas ir nebus rodomas kelis kartus. \n",
    "- Skirtingai nuo sąrašų ir tuplų, kurie gali saugoti dublikatus, aibės dublikatų neišlaiko. \n",
    "- Kitas svarbus skirtumas yra tas, kad aibės nenaudoja indeksų, todėl jų elementų tvarka nėra nurodyta.\n",
    "- ❗ Aibėje negali būti saugomi pasikartojantys elementai. \n",
    "\n",
    "Giedrius\n",
    "- Aibes principas yra suzinoti ar elementas yra Aibeje!\n",
    "- Aibeje elementai NErusiuojami ir eiles tvarka neturi reiksmes, nes NERA indeksavimo!\n",
    "- Aibes isdestyme NERA jokios logikos!"
   ]
  },
  {
   "cell_type": "markdown",
   "metadata": {},
   "source": [
    "## Aibių sukūrimas\n",
    "\n",
    "Aibės gali būti sukurtos paprasčiausiai išvardijant elementus tarp skliaustų `{}`, atskirtus kableliais. \n",
    "\n",
    "**Pavyzdžiui**:"
   ]
  },
  {
   "cell_type": "code",
   "execution_count": 6,
   "metadata": {},
   "outputs": [
    {
     "name": "stdout",
     "output_type": "stream",
     "text": [
      "{'obuolys', ('bla bla', 'br br'), 'bananas', 'apelsinas', 45}\n",
      "set()\n"
     ]
    }
   ],
   "source": [
    "mano_aibe = {'obuolys', 'bananas', 'apelsinas', 45, ('bla bla', 'br br')} # aibes gali buti bet kas isskyrus dict (paaiskinimas zemiau)\n",
    "print(mano_aibe)\n",
    "\n",
    "# Norint sukurti tuščią aibę, galite pasinaudoti funkcija set():\n",
    "tuscia_aibe = set()\n",
    "print(tuscia_aibe)"
   ]
  },
  {
   "cell_type": "markdown",
   "metadata": {},
   "source": [
    "---\n",
    "\n",
    "## Aibių Metodai \n",
    "\n",
    "Naudojami metodai be (), print darys pati metoda, o ne rezultata\n",
    "\n",
    "Metodai labai placiai naudojama matematikoje\n",
    "\n",
    "Aibės pasižymi įvairiais metodais, kurie palengvina elementų paiešką, filtravimą, rikiavimą ir pan. \n",
    "\n",
    "Štai keletas pagrindinių aibių metodų su aiškesniais pavyzdžiais:\n",
    "\n",
    "#### `add()` - prideda vieną elementą į aibę:"
   ]
  },
  {
   "cell_type": "code",
   "execution_count": 8,
   "metadata": {},
   "outputs": [
    {
     "name": "stdout",
     "output_type": "stream",
     "text": [
      "{1, 2, 3, 4}\n",
      "{1, 2, 3, 4}\n"
     ]
    }
   ],
   "source": [
    "aibe = {1, 2, 3}\n",
    "aibe.add(4)\n",
    "print(aibe)  # {1, 2, 3, 4}\n",
    "aibe.add(2)\n",
    "print(aibe) # 2 nedades, nes jau yra sis RAKTAS/Reiksme"
   ]
  },
  {
   "cell_type": "markdown",
   "metadata": {},
   "source": [
    "### Greitas uždavinys 1\n",
    "\n",
    "1. Sukurkite aibę su skaičiais.\n",
    "1. Pridėkite keletą skaičių į aibę.\n",
    "1. Atspausdinkite aibę su pridėtais naujais skaičiais."
   ]
  },
  {
   "cell_type": "code",
   "execution_count": 13,
   "metadata": {},
   "outputs": [
    {
     "name": "stdout",
     "output_type": "stream",
     "text": [
      "{1, 5, 88, 'labas', 125, 95}\n"
     ]
    }
   ],
   "source": [
    "# jusu kodo vieta\n",
    "\n",
    "mano_aibe = {5, 88, 95, 1}\n",
    "mano_aibe.add(125) # jungia .add tik po viena reiksme\n",
    "mano_aibe.add(\"labas\") # kiekviena eilute atskirai jeigu norima prideti daugiau reiksmiu!\n",
    "print(mano_aibe) # aibeje reiksmes nerusiuojamos ir spausdinamos atsitiktine tvarka"
   ]
  },
  {
   "cell_type": "markdown",
   "metadata": {},
   "source": [
    "---\n",
    "\n",
    "`update()` - tikisi gauti duomenu struktura todel galime pridedi kitą aibę, sąrašą arba tuple į aibę isskyrus ZODYNA:\n",
    "\n",
    "`update()` - pakeicia kintamaji i nauja rezultata !!!\n",
    "\n",
    "`update()` - gali dadeti tik ZODYNO rakta (metodas - .keys) arba reiksme (metodas - .values) atskirai paversdamas juos kaip atskirus elementus:"
   ]
  },
  {
   "cell_type": "code",
   "execution_count": 18,
   "metadata": {},
   "outputs": [
    {
     "name": "stdout",
     "output_type": "stream",
     "text": [
      "{1, 2, 3} \n",
      "\n",
      "{1, 2, 3, 4, 5} \n",
      "\n",
      "{1, 2, 3, 4, 5, 'as', 'tu', 'jis'} \n",
      "\n",
      "{1, 2, 3, 4, 5, 'as', 'tu', 3.14, 6, 'jis', 'Kaunas'}\n"
     ]
    }
   ],
   "source": [
    "aibe = {1, 2, 3}\n",
    "sarasas = [3, 4, 5]\n",
    "tuple_reiksmes = ('as', 'tu', 'jis')\n",
    "aibe1 = {6, 'Kaunas', 3.14, 'jis'}\n",
    "print(aibe, '\\n')\n",
    "aibe.update(sarasas)\n",
    "print(aibe, '\\n')  # {1, 2, 3, 4, 5}\n",
    "aibe.update(tuple_reiksmes)\n",
    "print(aibe, '\\n')\n",
    "aibe.update(aibe1)\n",
    "print(aibe)\n"
   ]
  },
  {
   "cell_type": "code",
   "execution_count": 22,
   "metadata": {},
   "outputs": [
    {
     "name": "stdout",
     "output_type": "stream",
     "text": [
      "{56, 4, 'Rokas', 6, 'aciu', 'Palanga', 'Giedrius'} \n",
      "\n",
      "{4, 'aciu', 6, 7, 'Palanga', 'Rokas', 47, 'Giedrius', 56}\n"
     ]
    }
   ],
   "source": [
    "kita_aibe = {4, 6, 'aciu', 'Palanga', 56}\n",
    "kitas_zodynas = {'Giedrius': 47, 'Rokas': 7}\n",
    "kita_aibe.update(kitas_zodynas.keys())\n",
    "print(kita_aibe, '\\n')\n",
    "kita_aibe.update(kitas_zodynas.values())\n",
    "print(kita_aibe)"
   ]
  },
  {
   "cell_type": "markdown",
   "metadata": {},
   "source": [
    "❗ Aibėje negali būti saugomi pasikartojantys elementai. \n",
    "\n",
    "Jeigu bandote pridėti elementą, kuris jau yra aibėje, jis tiesiog nebus pridėtas ir nieko neįvyks."
   ]
  },
  {
   "cell_type": "markdown",
   "metadata": {},
   "source": [
    "### Greitas uždavinys 2\n",
    "\n",
    "Sukurkite dvi aibes su keliais skirtingais ir vienodais elementais. Sujunkite abi aibes ir atspausdinkite rezultatą."
   ]
  },
  {
   "cell_type": "code",
   "execution_count": 66,
   "metadata": {},
   "outputs": [
    {
     "name": "stdout",
     "output_type": "stream",
     "text": [
      "{1, 3, 4, 5, 7, 'ciklas', 9, 'aibe'}\n"
     ]
    }
   ],
   "source": [
    "# jusu kodo vieta\n",
    "mano_aibe = {3, 4, 3, \"aibe\", 7}\n",
    "mano_sarasas = {1, \"ciklas\", 5, 3, 9}\n",
    "mano_aibe.update(mano_sarasas)\n",
    "print(mano_aibe)"
   ]
  },
  {
   "cell_type": "markdown",
   "metadata": {},
   "source": [
    "---\n",
    "\n",
    "`remove()` - pašalina tik VIENA elementą iš aibės. Jeigu elemento nėra aibėje, išmetamas `KeyError` klaidos pranešimas:"
   ]
  },
  {
   "cell_type": "code",
   "execution_count": 26,
   "metadata": {},
   "outputs": [
    {
     "name": "stdout",
     "output_type": "stream",
     "text": [
      "{1, 3}\n"
     ]
    },
    {
     "ename": "KeyError",
     "evalue": "4",
     "output_type": "error",
     "traceback": [
      "\u001b[0;31m---------------------------------------------------------------------------\u001b[0m",
      "\u001b[0;31mKeyError\u001b[0m                                  Traceback (most recent call last)",
      "Cell \u001b[0;32mIn[26], line 4\u001b[0m\n\u001b[1;32m      2\u001b[0m aibe\u001b[38;5;241m.\u001b[39mremove(\u001b[38;5;241m2\u001b[39m) \u001b[38;5;66;03m# jeigu nera ka remove tai ismes klaida\u001b[39;00m\n\u001b[1;32m      3\u001b[0m \u001b[38;5;28mprint\u001b[39m(aibe)  \u001b[38;5;66;03m# {1, 3}\u001b[39;00m\n\u001b[0;32m----> 4\u001b[0m \u001b[43maibe\u001b[49m\u001b[38;5;241;43m.\u001b[39;49m\u001b[43mremove\u001b[49m\u001b[43m(\u001b[49m\u001b[38;5;241;43m4\u001b[39;49m\u001b[43m)\u001b[49m\n\u001b[1;32m      5\u001b[0m \u001b[38;5;28mprint\u001b[39m(aibe) \u001b[38;5;66;03m# KeyError\u001b[39;00m\n",
      "\u001b[0;31mKeyError\u001b[0m: 4"
     ]
    }
   ],
   "source": [
    "aibe = {1, 2, 3}\n",
    "aibe.remove(2) # jeigu nera ka remove tai ismes klaida\n",
    "print(aibe)  # {1, 3}\n",
    "aibe.remove(4)\n",
    "print(aibe) # KeyError"
   ]
  },
  {
   "cell_type": "markdown",
   "metadata": {},
   "source": [
    "`discard()` - pašalina tik VIENA elementą iš aibės. Jeigu elemento nėra aibėje, jokio klaidos pranešimo nėra:"
   ]
  },
  {
   "cell_type": "code",
   "execution_count": 27,
   "metadata": {},
   "outputs": [
    {
     "name": "stdout",
     "output_type": "stream",
     "text": [
      "{1, 3}\n",
      "{1, 3}\n"
     ]
    }
   ],
   "source": [
    "aibe = {1, 2, 3}\n",
    "aibe.discard(2) # jeigu ka discard NEismes klaidos, patartina naudoti discard!!!\n",
    "print(aibe)  # {1, 3}\n",
    "aibe.discard(4)\n",
    "print(aibe) # {1, 3}"
   ]
  },
  {
   "cell_type": "markdown",
   "metadata": {},
   "source": [
    "### Greitas uždavinys 3\n",
    "\n",
    "**Instrukcijos**:\n",
    "\n",
    "1. Sukurkite aibę su skaičiais.\n",
    "1. Pašalinkite keletą skaičių iš aibės.\n",
    "1. Atspausdinkite atnaujintą aibę."
   ]
  },
  {
   "cell_type": "code",
   "execution_count": 69,
   "metadata": {},
   "outputs": [
    {
     "name": "stdout",
     "output_type": "stream",
     "text": [
      "{'b', 5, 'a', 'saule', 15}\n",
      "{'b', 5, 'a', 'saule', 15}\n"
     ]
    },
    {
     "ename": "KeyError",
     "evalue": "6",
     "output_type": "error",
     "traceback": [
      "\u001b[0;31m---------------------------------------------------------------------------\u001b[0m",
      "\u001b[0;31mKeyError\u001b[0m                                  Traceback (most recent call last)",
      "Cell \u001b[0;32mIn[69], line 10\u001b[0m\n\u001b[1;32m      7\u001b[0m giedrius_aibe\u001b[38;5;241m.\u001b[39mdiscard(\u001b[38;5;241m6\u001b[39m) \u001b[38;5;66;03m# nemeta klaidos nors ir nera 6, reikia naudoti discard negu remove\u001b[39;00m\n\u001b[1;32m      8\u001b[0m \u001b[38;5;28mprint\u001b[39m(giedrius_aibe)\n\u001b[0;32m---> 10\u001b[0m \u001b[43mgiedrius_aibe\u001b[49m\u001b[38;5;241;43m.\u001b[39;49m\u001b[43mremove\u001b[49m\u001b[43m(\u001b[49m\u001b[38;5;241;43m6\u001b[39;49m\u001b[43m)\u001b[49m \u001b[38;5;66;03m# meta klaida nes 6 nera\u001b[39;00m\n\u001b[1;32m     11\u001b[0m \u001b[38;5;28mprint\u001b[39m(giedrius_aibe)\n",
      "\u001b[0;31mKeyError\u001b[0m: 6"
     ]
    }
   ],
   "source": [
    "# jusu kodo vieta\n",
    "\n",
    "giedrius_aibe = {\"a\", \"b\", 5, 10, \"saule\", 15}\n",
    "giedrius_aibe.remove(10)\n",
    "print(giedrius_aibe)\n",
    "\n",
    "giedrius_aibe.discard(6) # nemeta klaidos nors ir nera 6, reikia naudoti discard negu remove\n",
    "print(giedrius_aibe)\n",
    "\n",
    "giedrius_aibe.remove(6) # meta klaida nes 6 nera\n",
    "print(giedrius_aibe)"
   ]
  },
  {
   "cell_type": "markdown",
   "metadata": {},
   "source": [
    "---\n",
    "\n",
    "`pop()` - pašalina ir grąžina bet kurį elementą iš aibės ir nera galimybes nurodyti elemento. \n",
    "\n",
    "Jeigu aibė yra tuščia, išmetamas `KeyError` klaidos pranešimas:"
   ]
  },
  {
   "cell_type": "code",
   "execution_count": 31,
   "metadata": {},
   "outputs": [
    {
     "name": "stdout",
     "output_type": "stream",
     "text": [
      "{1, 2, 3, 4, 5, 9, 11, 51, -5}\n",
      "0\n"
     ]
    }
   ],
   "source": [
    "aibe = {51, -5, 0, 1, 2, 3, 4, 5, 9, 11}\n",
    "elementas = aibe.pop()\n",
    "print(aibe)  # {51, -5, 0, 1, 2, 3, 4, 5, 9, 11}\n",
    "print(elementas)  # 0"
   ]
  },
  {
   "cell_type": "code",
   "execution_count": 33,
   "metadata": {},
   "outputs": [
    {
     "ename": "TypeError",
     "evalue": "set.pop() takes no arguments (1 given)",
     "output_type": "error",
     "traceback": [
      "\u001b[0;31m---------------------------------------------------------------------------\u001b[0m",
      "\u001b[0;31mTypeError\u001b[0m                                 Traceback (most recent call last)",
      "Cell \u001b[0;32mIn[33], line 2\u001b[0m\n\u001b[1;32m      1\u001b[0m aibe \u001b[38;5;241m=\u001b[39m {\u001b[38;5;241m51\u001b[39m, \u001b[38;5;241m-\u001b[39m\u001b[38;5;241m5\u001b[39m, \u001b[38;5;241m0\u001b[39m, \u001b[38;5;241m1\u001b[39m, \u001b[38;5;241m2\u001b[39m, \u001b[38;5;241m3\u001b[39m, \u001b[38;5;241m4\u001b[39m, \u001b[38;5;241m5\u001b[39m, \u001b[38;5;241m9\u001b[39m, \u001b[38;5;241m11\u001b[39m}\n\u001b[0;32m----> 2\u001b[0m elementas \u001b[38;5;241m=\u001b[39m \u001b[43maibe\u001b[49m\u001b[38;5;241;43m.\u001b[39;49m\u001b[43mpop\u001b[49m\u001b[43m(\u001b[49m\u001b[38;5;241;43m9\u001b[39;49m\u001b[43m)\u001b[49m\n\u001b[1;32m      3\u001b[0m \u001b[38;5;28mprint\u001b[39m(aibe)  \u001b[38;5;66;03m# {51, -5, 0, 1, 2, 3, 4, 5, 9, 11}\u001b[39;00m\n\u001b[1;32m      4\u001b[0m \u001b[38;5;28mprint\u001b[39m(elementas)\n",
      "\u001b[0;31mTypeError\u001b[0m: set.pop() takes no arguments (1 given)"
     ]
    }
   ],
   "source": [
    "aibe = {51, -5, 0, 1, 2, 3, 4, 5, 9, 11}\n",
    "elementas = aibe.pop(9)\n",
    "print(aibe)  # {51, -5, 0, 1, 2, 3, 4, 5, 9, 11}\n",
    "print(elementas)"
   ]
  },
  {
   "cell_type": "markdown",
   "metadata": {},
   "source": [
    "### Greitas uždavinys 4\n",
    "\n",
    "Sukurkite aibę skaičių. Ištraukite bet kokį element1 iš aibės ir jį atspausdinkite. Taip pat atspausdinkite likusią aibę."
   ]
  },
  {
   "cell_type": "code",
   "execution_count": 45,
   "metadata": {},
   "outputs": [
    {
     "name": "stdout",
     "output_type": "stream",
     "text": [
      "18\n",
      "{55, 6, 22, 87, 9}\n",
      "{6, 22, 87, 9}\n"
     ]
    }
   ],
   "source": [
    "# jusu kodo vieta\n",
    "pop_aibe = {9, 6, 18, 22, 87, 55}\n",
    "pop_elementas = pop_aibe.pop()\n",
    "print(pop_elementas)\n",
    "print(pop_aibe)\n",
    "#kitas budas. Nepriskirtas naujas kintamasis, tai ispopintas elemntas iskeliauja i dausas negriztamai, 'undo' NERA !!!\n",
    "pop_aibe.pop() #iskirpo du kartus: 3 eilute ir 7 eilute!. \n",
    "print(pop_aibe)"
   ]
  },
  {
   "cell_type": "code",
   "execution_count": 44,
   "metadata": {},
   "outputs": [
    {
     "name": "stdout",
     "output_type": "stream",
     "text": [
      "0.11 \n",
      "\n",
      "{1, 2.67, 0.12, 6, 're', 'do', 87, -6, 'la'}\n"
     ]
    }
   ],
   "source": [
    "misri_aibe = {0.11, 6, 87, -6, 'la', 'do', 're', 2.67, 1, 0.12}\n",
    "istraukta_reiksme = misri_aibe.pop()\n",
    "print(istraukta_reiksme, '\\n')\n",
    "print(misri_aibe) "
   ]
  },
  {
   "cell_type": "markdown",
   "metadata": {},
   "source": [
    "---\n",
    "\n",
    "`clear()` - pašalina visus elementus iš aibės:"
   ]
  },
  {
   "cell_type": "code",
   "execution_count": 72,
   "metadata": {},
   "outputs": [
    {
     "name": "stdout",
     "output_type": "stream",
     "text": [
      "set()\n"
     ]
    }
   ],
   "source": [
    "aibe = {1, 2, 3}\n",
    "aibe.clear()\n",
    "print(aibe)  # set()"
   ]
  },
  {
   "cell_type": "markdown",
   "metadata": {},
   "source": [
    "`copy()` - grąžina aibės kopiją, bet realiai tai tuscias metodas"
   ]
  },
  {
   "cell_type": "code",
   "execution_count": 55,
   "metadata": {},
   "outputs": [
    {
     "name": "stdout",
     "output_type": "stream",
     "text": [
      "{9, 5, 7}\n"
     ]
    }
   ],
   "source": [
    "# galime ir be .copy()\n",
    "aibe2 = {5, 7, 9}\n",
    "aibe3 = aibe2\n",
    "print(aibe3)"
   ]
  },
  {
   "cell_type": "code",
   "execution_count": 54,
   "metadata": {},
   "outputs": [
    {
     "name": "stdout",
     "output_type": "stream",
     "text": [
      "{1, 2, 3} {1, 2, 3} \n",
      "\n",
      "{1, 2, 3} \n",
      "\n",
      "{3, 4, 5} {1, 2, 3} \n",
      "\n",
      "{1, 2, 3, 4, 5}\n"
     ]
    }
   ],
   "source": [
    "aibe = {1, 2, 3}\n",
    "kopija = aibe.copy()\n",
    "print(aibe, kopija, '\\n')  # {1, 2, 3} {1, 2, 3}\n",
    "aibe.update(kopija)\n",
    "print(aibe, '\\n') # atspausdins tik {1, 2, 3}, nes aibes nespausdina tu paciu elementu !!!!\n",
    "aibe = {3, 4, 5} # sukuriame nauja 'aibe'\n",
    "print(aibe, kopija, '\\n')\n",
    "aibe.update(kopija)\n",
    "print(aibe)"
   ]
  },
  {
   "cell_type": "markdown",
   "metadata": {},
   "source": [
    "`union()` - sujungia aibes be pasikantojančių elementų, praktiskai tas pats kas `.update()`\n",
    "\n",
    "`.union()` reikia priskirti nauja kintamaji ir grazina jam nauja rezultata, skirtingai nei`.update()`!!!\n",
    "\n",
    "`.union()` - dar galime naudoti `|`"
   ]
  },
  {
   "cell_type": "code",
   "execution_count": 67,
   "metadata": {},
   "outputs": [
    {
     "name": "stdout",
     "output_type": "stream",
     "text": [
      "{1, 2, 3, 4, 5} {1, 2, 3} {3, 4, 5} \n",
      "\n",
      "{1, 2, 3, 4, 5}\n"
     ]
    }
   ],
   "source": [
    "aibe1 = {1, 2, 3}\n",
    "aibe2 = {3, 4, 5}\n",
    "aibe3 = aibe1.union(aibe2)\n",
    "print(aibe3, aibe1, aibe2, '\\n')  # {1, 2, 3, 4, 5}\n",
    "aibe3 = aibe1 | aibe2\n",
    "print(aibe3)"
   ]
  },
  {
   "cell_type": "markdown",
   "metadata": {},
   "source": [
    "`intersection()` - grąžina visus o tiksliau bendrus elementus, kurie yra abiejose arba visose aibėse:\n",
    "\n",
    "`intersection()` - dar galime naudoti `&`"
   ]
  },
  {
   "cell_type": "code",
   "execution_count": 68,
   "metadata": {},
   "outputs": [
    {
     "name": "stdout",
     "output_type": "stream",
     "text": [
      "{5, 2, 3, 'du'} \n",
      "\n",
      "{5, 2, 3, 'du'}\n"
     ]
    }
   ],
   "source": [
    "aibe1 = {'du', 1, 2, 3, 5, 98}\n",
    "aibe2 = {3, 4, 5, 2, 105, 'du'}\n",
    "aibe4 = aibe1.intersection(aibe2)\n",
    "print(aibe4, '\\n')  # {5, 2, 3, 'du'}\n",
    "aibe4 = aibe1 & aibe2\n",
    "print(aibe4)"
   ]
  },
  {
   "cell_type": "code",
   "execution_count": 65,
   "metadata": {},
   "outputs": [
    {
     "name": "stdout",
     "output_type": "stream",
     "text": [
      "{2, 3}\n"
     ]
    }
   ],
   "source": [
    "aibe1 = {'du', 1, 2, 3, 5, 98}\n",
    "aibe2 = {3, 4, 5, 2, 105, 'du'}\n",
    "aibe3 = {2, 66, 3, 87, 'as'}\n",
    "aibe4 = aibe1.intersection(aibe2, aibe3)\n",
    "print(aibe4)  # {2, 3}"
   ]
  },
  {
   "cell_type": "markdown",
   "metadata": {},
   "source": [
    "### Greitas uždavinys 5\n",
    "\n",
    "**Instrukcijos**\n",
    "\n",
    "- Sukurkite dvi aibes su skirtingu kiekiu elementų, iš kurių keli sutampa.\n",
    "- Atspausdinkite tų aibių uniją (union).\n",
    "- Atspausdinkite tų aibių sankirtą (intersection)"
   ]
  },
  {
   "cell_type": "code",
   "execution_count": 76,
   "metadata": {},
   "outputs": [
    {
     "name": "stdout",
     "output_type": "stream",
     "text": [
      "{99, 4, 5, 6, 'keturi', 'trys', 'abu'}\n",
      "{'abu', 99}\n"
     ]
    }
   ],
   "source": [
    "# jusu kodo vieta\n",
    "\n",
    "giedrius1 = {4, \"abu\", 5, 99, \"trys\"}\n",
    "giedrius2 = {\"abu\", 99, 6, \"keturi\"}\n",
    "giedrius3 = giedrius1.union(giedrius2)\n",
    "print(giedrius3)\n",
    "giedrius4 = giedrius1.intersection(giedrius2)\n",
    "print(giedrius4)"
   ]
  },
  {
   "cell_type": "markdown",
   "metadata": {},
   "source": [
    "---\n",
    "\n",
    "`difference()` - grąžina visus elementus, kurie yra pirmoje aibėje, bet nėra antroje aibėje ir atvirksciai:\n",
    "\n",
    "`difference()` - palyginimas printe vyksta is KAIRES i DESINE !!!\n",
    "\n",
    "`difference()` - dar galime naudoti `-`"
   ]
  },
  {
   "cell_type": "code",
   "execution_count": 72,
   "metadata": {},
   "outputs": [
    {
     "name": "stdout",
     "output_type": "stream",
     "text": [
      "{2, 5}\n",
      "{4, 6} \n",
      "\n",
      "{2, 5}\n",
      "{4, 6}\n"
     ]
    }
   ],
   "source": [
    "aibe1 = {1, 2, 3, 5}\n",
    "aibe2 = {3, 4, 6, 1}\n",
    "print(aibe1.difference(aibe2))  # {2, 5}\n",
    "print(aibe2.difference(aibe1), '\\n')  # {4, 6}\n",
    "aibe6 = aibe1 - aibe2\n",
    "print(aibe6)\n",
    "aibe7 = aibe2 - aibe1\n",
    "print(aibe7)"
   ]
  },
  {
   "cell_type": "markdown",
   "metadata": {},
   "source": [
    "### Greitas uždavinys 6\n",
    "\n",
    "**Instrukcijos**:\n",
    "\n",
    "- Sukurkite dvi aibes su skirtingu kiekiu elementų, iš kurių keli sutampa.\n",
    "- atspausdinkite tik tuos elementus pirmosios aibės, kurie nesutampa su antrosios aibės elementais.\n",
    "- atspausdinkite tik tuos elementus antrosios aibės, kurie nesutampa su pirmosios aibės elementais."
   ]
  },
  {
   "cell_type": "code",
   "execution_count": 78,
   "metadata": {},
   "outputs": [
    {
     "name": "stdout",
     "output_type": "stream",
     "text": [
      "{'geras', 11, 5, 'senas'}\n",
      "{'geras', 11, 5, 'senas'}\n",
      "\n",
      "{88, 'Vilnius', 'saule', 4}\n",
      "{88, 'Vilnius', 'saule', 4}\n"
     ]
    }
   ],
   "source": [
    "# jusu kodo vieta\n",
    "\n",
    "gesas1 = {5, \"senas\", \"mazas\", 11, 16, \"geras\"}\n",
    "gesas2 = {\"mazas\", 16, 4, \"Vilnius\", \"saule\", 88}\n",
    "gesas3 = gesas1.difference(gesas2)\n",
    "print(gesas3)\n",
    "print(gesas1.difference(gesas2)) # sutrumpinta versija, atspausdina kokiu reiksmiu nera gesas2\n",
    "print() # budas padaryti tarpa\n",
    "gesas4 = gesas2.difference(gesas1)\n",
    "print(gesas4)\n",
    "print(gesas2.difference(gesas1)) # sutrumpinta versija, atspausdina kokiu reiksmiu nera gesas1"
   ]
  },
  {
   "cell_type": "markdown",
   "metadata": {},
   "source": [
    "---\n",
    "\n",
    "`symmetric_difference()` - Symetrinio skirtumo aibės metodas grąžina naują aibę, kurią sudaro elementai, esantys vienoje arba kitoje aibėje, bet ne abiejose.\n",
    "\n",
    "`symmetric_difference()` - nesvarbu is kurios puse priskiriame kintamuosius, atliks ta pacia funkcija pasalindamas ta pati elementa !!!\n",
    "\n",
    "`symmetric_difference()` - dar galime naudoti `^`"
   ]
  },
  {
   "cell_type": "code",
   "execution_count": 73,
   "metadata": {},
   "outputs": [
    {
     "name": "stdout",
     "output_type": "stream",
     "text": [
      "{1, 2, 4, 5} \n",
      "\n",
      "{1, 2, 4, 5}\n"
     ]
    }
   ],
   "source": [
    "aibe1 = {1, 2, 3}\n",
    "aibe2 = {3, 4, 5}\n",
    "\n",
    "sym_skirtumas = aibe1.symmetric_difference(aibe2) # siuo atveju bus ismestas 3\n",
    "print(sym_skirtumas, '\\n')  # {1, 2, 4, 5}\n",
    "sym_skirtumas = aibe1 ^ aibe2 # siuo atveju bus ismestas 3\n",
    "print(sym_skirtumas)  # {1, 2, 4, 5}"
   ]
  },
  {
   "cell_type": "markdown",
   "metadata": {},
   "source": [
    "### Greitas uždavinys 7\n",
    "\n",
    "**Instrukcijos**:\n",
    "\n",
    "- Sukurkite dvi aibes su skirtingu kiekiu elementų, iš kurių keli sutampa.\n",
    "- atspausdinkite tik tuos elementus, kurie nesikartoja abejose aibėse."
   ]
  },
  {
   "cell_type": "code",
   "execution_count": 80,
   "metadata": {},
   "outputs": [
    {
     "name": "stdout",
     "output_type": "stream",
     "text": [
      "{99, 4, 5, 102, 'du', 77, 'trys'}\n",
      "{99, 4, 5, 102, 'du', 77, 'trys'}\n"
     ]
    }
   ],
   "source": [
    "# jusu kodo vieta\n",
    "\n",
    "vakaras1 = {4, 5, 7, \"vienas\", \"du\", 99}\n",
    "vakaras2 = {7, \"vienas\", 77, \"trys\", 102}\n",
    "vakaras3 = vakaras1.symmetric_difference(vakaras2) #atspausdins tik reiksmes kurios nepasikartoja tarp aibiu\n",
    "print(vakaras3)\n",
    "print(vakaras1.symmetric_difference(vakaras2)) # sutrumpinta versija, atspausdins tik reiksmes kurios nepasikartoja tarp aibiu"
   ]
  },
  {
   "cell_type": "markdown",
   "metadata": {},
   "source": [
    "---\n",
    "\n",
    "## Aibių operatoriai\n",
    "\n",
    "Sąjunga (`|`):\n",
    "- Jungia dvi aibes, įtraukiant visas unikalias abiejų aibių reikšmes. Atitinka aibės metodą `.union()`\n",
    "\n",
    "Sankirta (`&`):\n",
    "- Atranda bendras reikšmes dviejose aibėse. Atitinka aibės metoda `.intersection()`\n",
    "\n",
    "Skirtumas (`-`):\n",
    "- Atima antrosios aibės elementus iš pirmosios aibės. Atitinka aibės metodą `.difference()`\n",
    "\n",
    "Simetrinis Skirtumas (`^`):\n",
    "- Atranda elementus, unikalius kiekvienai aibei, neįtraukiant bendrų elementų. Atitinka aibės metodą `.symmetric_difference()`"
   ]
  },
  {
   "cell_type": "code",
   "execution_count": 81,
   "metadata": {},
   "outputs": [
    {
     "name": "stdout",
     "output_type": "stream",
     "text": [
      "{1, 2, 3, 4, 5}\n",
      "{3}\n",
      "{1, 2}\n",
      "{1, 2, 4, 5}\n"
     ]
    }
   ],
   "source": [
    "aibe1 = {1, 2, 3}\n",
    "aibe2 = {3, 4, 5}\n",
    "\n",
    "sujungimas = aibe1 | aibe2\n",
    "print(sujungimas)\n",
    "# Rezultatas: {1, 2, 3, 4, 5}\n",
    "\n",
    "sankirta = aibe1 & aibe2\n",
    "print(sankirta)\n",
    "# Rezultatas: {3}\n",
    "\n",
    "skirtumas = aibe1 - aibe2\n",
    "print(skirtumas)\n",
    "# Rezultatas: {1, 2}\n",
    "\n",
    "simetrinis_skirtumas = aibe1 ^ aibe2\n",
    "print(simetrinis_skirtumas)\n",
    "# Rezultatas: {1, 2, 4, 5}"
   ]
  },
  {
   "cell_type": "markdown",
   "metadata": {},
   "source": [
    "Šie operatoriai leidžia atlikti greitesnes ir efektyviasnes aibių operacijas Python programavimo kalboje."
   ]
  },
  {
   "cell_type": "markdown",
   "metadata": {},
   "source": [
    "### Greitas uždavinys 8\n",
    "\n",
    "**Instrukcijos**:\n",
    "\n",
    "- Sukurkite dvi aibes su skirtingu kiekiu elementų, iš kurių keli sutampa.\n",
    "- atspausdinkite šių aibių sujungimą, sankirtą, skirtumą ir simetrinį skirtumą atskirose eilutėse."
   ]
  },
  {
   "cell_type": "code",
   "execution_count": 82,
   "metadata": {},
   "outputs": [
    {
     "name": "stdout",
     "output_type": "stream",
     "text": [
      "{99, 4, 5, 102, 7, 'du', 77, 'trys', 'vienas'}\n",
      "{'vienas', 7}\n",
      "{99, 4, 5, 'du'}\n",
      "{99, 4, 5, 102, 'du', 77, 'trys'}\n"
     ]
    }
   ],
   "source": [
    "# jusu kodo vieta\n",
    "vakaras1 = {4, 5, 7, \"vienas\", \"du\", 99}\n",
    "vakaras2 = {7, \"vienas\", 77, \"trys\", 102}\n",
    "\n",
    "sujungimas = vakaras1 | vakaras2 # \"|\" - Jungia dvi aibes, įtraukiant visas unikalias abiejų aibių reikšmes.\n",
    "print(sujungimas)\n",
    "\n",
    "sankirta = vakaras1 & vakaras2 # \"&\" - Atranda bendras reikšmes dviejose aibėse.\n",
    "print(sankirta)\n",
    "\n",
    "skirtumas = vakaras1 - vakaras2 # \"-\" - Atima antrosios aibės elementus iš pirmosios aibės.\n",
    "print(skirtumas)\n",
    "\n",
    "simetrinis_skirtumas = vakaras1 ^ vakaras2 # \"^\" - Atranda elementus, unikalius kiekvienai aibei, neįtraukiant bendrų elementų.\n",
    "print(simetrinis_skirtumas)"
   ]
  },
  {
   "cell_type": "markdown",
   "metadata": {},
   "source": [
    "---\n",
    "\n",
    "## Aibių iteravimas\n",
    "\n",
    "Aibės yra iteruojamos struktūros, kurias galima lengvai peržiūrėti su ciklais arba įvairiais aibių metodais.\n",
    "\n",
    "**Pavyzdžiui**:"
   ]
  },
  {
   "cell_type": "code",
   "execution_count": 74,
   "metadata": {},
   "outputs": [
    {
     "name": "stdout",
     "output_type": "stream",
     "text": [
      "1\n",
      "2\n",
      "3\n"
     ]
    }
   ],
   "source": [
    "aibe = {1, 2, 3}\n",
    "for elementas in aibe:\n",
    "    print(elementas)"
   ]
  },
  {
   "cell_type": "markdown",
   "metadata": {},
   "source": [
    "## Aibių manipuliavimas\n",
    "\n",
    "Duomenu strukturos tarpusavy migruoja isskyrus zodynus kaip visuma !!!\n",
    "\n",
    "Aibes galima transformuoti į kitus duomenų struktūrų tipus, tokius kaip sąrašai ir tuplai, bei atvirkščiai. Galime panaudoti zodyno `.keys` arba `.values`\n",
    "\n",
    "Pažiūrėkime į kai kuriuos pavyzdžius:"
   ]
  },
  {
   "cell_type": "code",
   "execution_count": 79,
   "metadata": {},
   "outputs": [
    {
     "name": "stdout",
     "output_type": "stream",
     "text": [
      "mano aibė kaip sąrašas: [1, 2, 3] <class 'list'>\n",
      "mano aibė kaip tuplas: (1, 2, 3) <class 'tuple'>\n",
      "mano sąrašas kaip aibė: {1, 2, 3} <class 'set'>\n",
      "mano tuplė kaip aibė: {1, 2, 3} <class 'set'>\n",
      "mano zodyno raktai: {'as', 'tu'} <class 'set'>\n",
      "mano zodyno raktai: {'as', 'tu'}\n",
      "mano zodyno reiksmes: {65, 23} <class 'set'>\n",
      "mano zodyno reiksmes: {65, 23}\n"
     ]
    }
   ],
   "source": [
    "# Sukuriama aibė\n",
    "mano_aibe = {1, 2, 3}\n",
    "\n",
    "# Konvertuojame aibę į sąrašą\n",
    "print(\"mano aibė kaip sąrašas:\", list(mano_aibe), type(list(mano_aibe)))  # [1, 2, 3] <class 'list'>\n",
    "\n",
    "# Konvertuojame aibę į tuplą\n",
    "print(\"mano aibė kaip tuplas:\", tuple(mano_aibe), type(tuple(mano_aibe)))  # (1, 2, 3) <class 'tuple'>\n",
    "\n",
    "# Konvertuojame sąrašą ir tuplą į aibę\n",
    "mano_sarasas = [1, 2, 3]\n",
    "mano_tuple = (1, 2, 3)\n",
    "mano_zodynas = {'as': 23, 'tu': 65}\n",
    "\n",
    "print(\"mano sąrašas kaip aibė:\", set(mano_sarasas), type(set(mano_sarasas)))  # {1, 2, 3} <class 'set'>\n",
    "print(\"mano tuplė kaip aibė:\", set(mano_tuple), type(set(mano_tuple)))  # {1, 2, 3} <class 'set'>\n",
    "print(\"mano zodyno raktai:\", set(mano_zodynas.keys()), type(set(mano_zodynas.keys())))\n",
    "print(\"mano zodyno raktai:\", set(mano_zodynas.keys()))\n",
    "print(\"mano zodyno reiksmes:\", set(mano_zodynas.values()), type(set(mano_zodynas.values())))\n",
    "print(\"mano zodyno reiksmes:\", set(mano_zodynas.values()))"
   ]
  },
  {
   "cell_type": "code",
   "execution_count": 81,
   "metadata": {},
   "outputs": [
    {
     "name": "stdout",
     "output_type": "stream",
     "text": [
      "{'Jonines', 'Nauji Metai', 'Kaledos'}\n",
      "{'Gruodzio 25-26', 'Sausio 1', 'Birzelio 24'}\n"
     ]
    }
   ],
   "source": [
    "sventes = {\n",
    "    'Kaledos': 'Gruodzio 25-26',\n",
    "    'Nauji Metai': 'Sausio 1',\n",
    "    'Jonines': 'Birzelio 24',\n",
    "}\n",
    "\n",
    "print(set(sventes.keys()))\n",
    "print(set(sventes.values()))"
   ]
  },
  {
   "cell_type": "markdown",
   "metadata": {},
   "source": [
    "# `Papildomas uždavinys`\n",
    "\n",
    "**Instrukcijos**:\n",
    "\n",
    "1. Pasinaudodami paskutine aibe, kurią sukūrėte, pakelkite kvadratu visus jos skaičius.\n",
    "1. Spausdinkite rezultatą."
   ]
  },
  {
   "cell_type": "code",
   "execution_count": 62,
   "metadata": {},
   "outputs": [
    {
     "name": "stdout",
     "output_type": "stream",
     "text": [
      "Pakelia kiekviena reiksme kvadratu: {16, 9801, 25, 49}\n"
     ]
    }
   ],
   "source": [
    "# jusu kodo vieta\n",
    "\n",
    "vakaras1 = {4, 5, 7, 99}\n",
    "vakaras2 = set()\n",
    "for number in vakaras1:\n",
    "    vakaras2.add(number ** 2)\n",
    "print(\"Pakelia kiekviena reiksme kvadratu:\", vakaras2)\n",
    "\n"
   ]
  },
  {
   "cell_type": "markdown",
   "metadata": {},
   "source": [
    "### Daugiau apie aibes:\n",
    "[Kodėl aibės yra tokios](https://www.youtube.com/watch?v=Gp-qih4T9tA),\n",
    "\n",
    "[Visi aibių metodai](https://www.w3schools.com/python/python_sets_methods.asp),\n",
    "\n",
    "[Oficiali Python dokumentacija](https://docs.python.org/3/tutorial/datastructures.html#sets). \n",
    "- Net jei iš karto nesuprasite visų nuansų, tai ateityje bus esminė informacija."
   ]
  }
 ],
 "metadata": {
  "kernelspec": {
   "display_name": "venv",
   "language": "python",
   "name": "python3"
  },
  "language_info": {
   "codemirror_mode": {
    "name": "ipython",
    "version": 3
   },
   "file_extension": ".py",
   "mimetype": "text/x-python",
   "name": "python",
   "nbconvert_exporter": "python",
   "pygments_lexer": "ipython3",
   "version": "3.11.7"
  }
 },
 "nbformat": 4,
 "nbformat_minor": 2
}
