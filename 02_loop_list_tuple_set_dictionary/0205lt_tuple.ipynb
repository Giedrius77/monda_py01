{
 "cells": [
  {
   "cell_type": "markdown",
   "metadata": {},
   "source": [
    "# Tuple\n",
    "Python kalboje tuple yra kolekcijos duomenų tipas, panašus į sąrašą, bet su svarbia skirtimi: \n",
    "- tuple yra nemutabilios. Tai reiškia, kad sukūrus tuple, jo turinys negali būti pakeistas, pridėtas, pašalintas ar modifikuotas. \n",
    "- Tuple apibrėžiamas naudojant skliaustus `()` arba tiesiog kableliais, elementams atskirti. \n",
    "- Tai paprastai supaprastina duomenų tvarkymą ir užtikrina, kad tuple išlieka nepakitęs nuo jo sukūrimo momento.\n",
    "\n",
    "## Tuple kūrimas\n",
    "Tuple kūrimas Python kalboje labai panašus į sąrašo kūrimą, tačiau vietoj laužtinių skliaustų [], naudojami skliaustai `()`:"
   ]
  },
  {
   "cell_type": "code",
   "execution_count": 1,
   "metadata": {},
   "outputs": [
    {
     "name": "stdout",
     "output_type": "stream",
     "text": [
      "(1,)\n",
      "<class 'tuple'>\n"
     ]
    }
   ],
   "source": [
    "vieno_elemento_tuple = (1,) # vieno elemento Tuple eina su kableliu \n",
    "print(vieno_elemento_tuple) # (1,)\n",
    "print(type(vieno_elemento_tuple)) # <class 'tuple'>"
   ]
  },
  {
   "cell_type": "markdown",
   "metadata": {},
   "source": [
    "- Pastaba: Tuščia tuple kurti nera prasmės, todėl ji dažnai yra nenaudojama."
   ]
  },
  {
   "cell_type": "markdown",
   "metadata": {},
   "source": [
    "### Tuple kūrimas su keliais elementais:"
   ]
  },
  {
   "cell_type": "code",
   "execution_count": 2,
   "metadata": {},
   "outputs": [
    {
     "name": "stdout",
     "output_type": "stream",
     "text": [
      "(1, 2, 3, 4, 5)\n"
     ]
    }
   ],
   "source": [
    "skaiciu_tuple = (1, 2, 3, 4, 5)\n",
    "print(skaiciu_tuple) # (1, 2, 3, 4, 5)"
   ]
  },
  {
   "cell_type": "code",
   "execution_count": 5,
   "metadata": {},
   "outputs": [
    {
     "name": "stdout",
     "output_type": "stream",
     "text": [
      "(1, 'du', 3.0, [4, 5], True, {'Tomas': 32, 'Ema': 4})\n"
     ]
    }
   ],
   "source": [
    "sumaisytos_tuple = (1, 'du', 3.0, [4, 5], True, {'Tomas': 32, 'Ema': 4})\n",
    "print(sumaisytos_tuple) # (1, 'du', 3.0, [4, 5], True, {'Tomas': 32, 'Ema': 4})"
   ]
  },
  {
   "cell_type": "markdown",
   "metadata": {},
   "source": [
    "### Greitas uždavinys 1\n",
    "\n",
    "Sukurkite Python tuple su savo mėgstamomis spalvomis ir ją atspausdinkite. Neužmirškite naudoti skliaustų, kad apibrėžtumėte tuple."
   ]
  },
  {
   "cell_type": "code",
   "execution_count": 7,
   "metadata": {},
   "outputs": [
    {
     "name": "stdout",
     "output_type": "stream",
     "text": [
      "('tulpe', 'medis', 'stogas') <class 'tuple'> \n",
      "\n",
      "(120, 100, 90, 55)\n",
      "<class 'tuple'> \n",
      "\n",
      "Greitis per valanda: ('120km/h', '100km/h', '90km/h', '55km/h')\n",
      "Greitis per valanda: ('120km/h', '100km/h', '90km/h', '55km/h')\n"
     ]
    }
   ],
   "source": [
    "# jusu kodo vieta\n",
    "\n",
    "zodziai = (\"tulpe\", \"medis\", \"stogas\")\n",
    "print(zodziai, type(zodziai), '\\n')\n",
    "\n",
    "greitis = (120, 100, 90, 55)\n",
    "greitis_km_h = (\"120km/h\", \"100km/h\", \"90km/h\", \"55km/h\")\n",
    "print(greitis)\n",
    "print(type(greitis), '\\n')\n",
    "\n",
    "print(f\"Greitis per valanda: {greitis_km_h}\") # naudojanr f-stringa\n",
    "print(\"Greitis per valanda:\", greitis_km_h) # kitas budas, bet ats tas pats"
   ]
  },
  {
   "cell_type": "markdown",
   "metadata": {},
   "source": [
    "---\n",
    "\n",
    "**Pavyzdžiui**:"
   ]
  },
  {
   "cell_type": "code",
   "execution_count": 10,
   "metadata": {},
   "outputs": [
    {
     "name": "stdout",
     "output_type": "stream",
     "text": [
      "(1, 2, 3, 'a', 'b', 'c', True, False)\n"
     ]
    }
   ],
   "source": [
    "pirma_tuple = (1, 2, 3)\n",
    "antra_tuple = ('a', 'b', 'c')\n",
    "trecia_tuple = (True, False)\n",
    "\n",
    "naujas_tuple = pirma_tuple + antra_tuple + trecia_tuple\n",
    "\n",
    "print(naujas_tuple)"
   ]
  },
  {
   "cell_type": "markdown",
   "metadata": {},
   "source": [
    "# `Greitas uždavinys 2: Vaisių inventoriaus sudarymas`\n",
    "1. Sukurkite tris tuple:\n",
    "- vaisiai: trys vaisių pavadinimai.\n",
    "- spalvos: trys atitinkamos spalvos.\n",
    "- kiekiai: trys kiekiai.\n",
    "2. Sujunkite šiuos tris tuple į vieną, pavadintą \"`inventorius`\".\n",
    "3. Atspausdinkite \"`inventorius`\" tuple.\n",
    "4. Atspausdinkite informaciją apie antrąjį vaisių \"`inventoriaus`\" tuple elementą.\n",
    "5. Apskaičiuokite ir atspausdinkite bendrą vaisių kiekį \"`inventoriaus`\" tuple."
   ]
  },
  {
   "cell_type": "code",
   "execution_count": 10,
   "metadata": {},
   "outputs": [
    {
     "name": "stdout",
     "output_type": "stream",
     "text": [
      "('obuolys', 'kriause', 'slyva', 'raudona', 'zalia', 'melyna', 15, 25, 105) \n",
      "\n",
      "slyva \n",
      "\n",
      "145\n"
     ]
    }
   ],
   "source": [
    "# jusu kodo vieta\n",
    "\n",
    "vaisiai = (\"obuolys\", \"kriause\", \"slyva\")\n",
    "spalvos = (\"raudona\", \"zalia\", \"melyna\")\n",
    "kiekiai = (15, 25, 105)\n",
    "inventorius = vaisiai + spalvos + kiekiai \n",
    "print(inventorius,\"\\n\") # \"\\n\" - padaro tarpa ir \\n turi buti skliaustuose!!!\n",
    "print(inventorius[2],\"\\n\") # pasirenkame antra reiksme is tuple\n",
    "bendras_svoris = sum(inventorius[6:]) # susumuojame skaicius nuo 6 iki galo\n",
    "print(bendras_svoris)\n"
   ]
  },
  {
   "cell_type": "markdown",
   "metadata": {},
   "source": [
    "# Prieiga prie Tuplo Elementų\n",
    "\n",
    "Elementų prieiga tuple yra panaši į sąrašus. \n",
    "- Galvokite apie indeksus kaip apie pozicijas tuple, pradedant nuo pirmojo elemento pozicijos 0. \n",
    "- Paskutinis elementas gali būti pasiekiamas naudojant poziciją -1."
   ]
  },
  {
   "cell_type": "code",
   "execution_count": 8,
   "metadata": {},
   "outputs": [
    {
     "name": "stdout",
     "output_type": "stream",
     "text": [
      "1\n",
      "[4, 5]\n",
      "True\n"
     ]
    }
   ],
   "source": [
    "sumaisytas_tuple = (1, 'du', 3.0, [4, 5], True)\n",
    "\n",
    "print(sumaisytas_tuple[0]) # 1\n",
    "print(sumaisytas_tuple[3]) # [4, 5]\n",
    "print(sumaisytas_tuple[-1]) # True"
   ]
  },
  {
   "cell_type": "markdown",
   "metadata": {},
   "source": [
    "### Greitas uždavinys 2\n",
    "\n",
    "Tuplo Indeksavimo Užduotis. Šioje užduotyje praktikuosite prieigą prie elementų tuple. Atlikite šias paprastas užduotis:\n",
    "\n",
    "1. Sukurkite tuplą pavadinimu \"`info`\" su šiais duomenimis:\n",
    "- Jūsų vardas (stringas).\n",
    "- Jūsų amžius (sveikasis skaičius).\n",
    "- Jūsų mėgstama spalva (stringas).\n",
    "2. Atspausdinkite savo amžių, pasiekdami atitinkamą elementą iš tuplo \"`info`\".\n",
    "3. Atspausdinkite savo mėgstamą spalvą."
   ]
  },
  {
   "cell_type": "code",
   "execution_count": 5,
   "metadata": {},
   "outputs": [
    {
     "name": "stdout",
     "output_type": "stream",
     "text": [
      "Giedrius jau 48 metu!\n",
      "Mano megstama spalva yra: Melyna\n",
      "Mano megstama spalva yra: Melyna\n"
     ]
    }
   ],
   "source": [
    "# jusu kodo vieta\n",
    "\n",
    "info_vardas = str(\"Giedrius\",)\n",
    "info_amzius = int(48,)\n",
    "info_spalva = str(\"Melyna\",)\n",
    "\n",
    "print(info_vardas, \"jau\", info_amzius, \"metu!\")\n",
    "print(\"Mano megstama spalva yra:\", info_spalva)     # du galimi variantai isreiksti print su mano spalva!!!!\n",
    "print(f\"Mano megstama spalva yra: {info_spalva}\")\n"
   ]
  },
  {
   "cell_type": "markdown",
   "metadata": {},
   "source": [
    "---\n",
    "\n",
    "## Tuple išpjovimas\n",
    "\n",
    "Išpjovimas tupluose veikia kaip sąrašuose. Galite pasirinkti pradžios ir pabaigos tašką, netgi nuspręsti, koks bus žingsnis.\n",
    "\n",
    "**Štai pavyzdys**:"
   ]
  },
  {
   "cell_type": "code",
   "execution_count": null,
   "metadata": {},
   "outputs": [],
   "source": [
    "# Naudojame raides tuplui demonstruoti\n",
    "raides_tuple = ('a', 'b', 'c', 'd', 'e', 'f')\n",
    "\n",
    "# Pavyzdys 1: Pasirinkite elementus nuo indekso 2 iki 3\n",
    "print(\"Pavyzdys 1:\", raides_tuple[2:4]) # Rezultatas: ('c', 'd')\n",
    "\n",
    "# Pavyzdys 2: Pasirinkite elementus nuo indekso 0, praleisdami kiekvieną antrą elementą, iki indekso 2\n",
    "print(\"Pavyzdys 2:\", raides_tuple[0:3:2]) # Rezultatas: ('a', 'c')\n",
    "\n",
    "# Pavyzdys 3: Pasirinkite elementus nuo pradžios iki indekso 3\n",
    "print(\"Pavyzdys 3:\", raides_tuple[:4]) # Rezultatas: ('a', 'b', 'c', 'd')\n",
    "\n",
    "# Pavyzdys 4: Pasirinkite elementus nuo indekso 2, praleisdami kiekvieną antrą elementą\n",
    "print(\"Pavyzdys 4:\", raides_tuple[2::2]) # Rezultatas: ('c', 'e')\n",
    "\n",
    "# Pavyzdys 5: Apsukime visą tuplą\n",
    "print(\"Pavyzdys 5:\", raides_tuple[::-1]) # Rezultatas: ('f', 'e', 'd', 'c', 'b', 'a')"
   ]
  },
  {
   "cell_type": "markdown",
   "metadata": {},
   "source": [
    "### Greitas uždavinys 3\n",
    "\n",
    "Tuplo Išpjovimas. Parašykite Python programą, kuri apibrėžia tuplą su savaitės dienomis ('`Pirmadienis`', '`Antradienis`', '`Trečiadienis`', '`Ketvirtadienis`', '`Penktadienis`', '`Šeštadienis`', '`Sekmadienis`').\n",
    "\n",
    "Išspausdinkite šias išpjovas:\n",
    "\n",
    "1. Savaitės darbo dienas (nuo pirmadienio iki penktadienio).\n",
    "2. Savaitgalio dienas (šeštadienis ir sekmadienis).\n",
    "3. Pirmoms trim savaitės dienas.\n",
    "4. Paskutinėms trim savaitės dienas.\n",
    "5. Savaitės dienas atvirkštine tvarka.\n"
   ]
  },
  {
   "cell_type": "code",
   "execution_count": 17,
   "metadata": {},
   "outputs": [
    {
     "name": "stdout",
     "output_type": "stream",
     "text": [
      "('Pirmadienis', 'Antradienis', 'Treciadienis', 'Ketvirtadienis', 'Penktadienis') \n",
      "\n",
      "('Sestadienis', 'Sekmadienis')\n",
      "('Pirmadienis', 'Antradienis', 'Treciadienis')\n",
      "('Penktadienis', 'Sestadienis', 'Sekmadienis')\n",
      "('Sekmadienis', 'Sestadienis', 'Penktadienis', 'Ketvirtadienis', 'Treciadienis', 'Antradienis', 'Pirmadienis')\n"
     ]
    }
   ],
   "source": [
    "# jusu kodo vieta\n",
    "savaite = (\"Pirmadienis\", \"Antradienis\", \"Treciadienis\", \"Ketvirtadienis\", \"Penktadienis\", \"Sestadienis\", \"Sekmadienis\")\n",
    "#1\n",
    "print(savaite[0:5], \"\\n\")\n",
    "#2\n",
    "print(savaite[5:])\n",
    "#3\n",
    "print(savaite[:3])\n",
    "#4\n",
    "print(savaite[-3:])\n",
    "#5\n",
    "print(savaite[::-1])"
   ]
  },
  {
   "cell_type": "markdown",
   "metadata": {},
   "source": [
    "---\n",
    "\n",
    "## Tuple jungimas\n",
    "\n",
    "Norėdami sujungti du ar daugiau tuple, galite naudoti `+` operatorių. \n",
    "Šis operatorius sujungia tuple reikšmes ir grąžina naują tuple su visais elementais. \n",
    "\n",
    "**Pavyzdžiui**:"
   ]
  },
  {
   "cell_type": "code",
   "execution_count": null,
   "metadata": {},
   "outputs": [],
   "source": [
    "pirma_tuple = (1, 2, 3)\n",
    "antra_tuple = ('a', 'b', 'c')\n",
    "trecia_tuple = (True, False)\n",
    "\n",
    "naujas_tuple = pirma_tuple + antra_tuple + trecia_tuple\n",
    "\n",
    "print(naujas_tuple)"
   ]
  },
  {
   "cell_type": "markdown",
   "metadata": {},
   "source": [
    "### Greitas uždavinys 4\n",
    "\n",
    "Vaisių inventoriaus sudarymas\n",
    "\n",
    "1. Sukurkite tris tuple:\n",
    "- vaisiai: trys vaisių pavadinimai.\n",
    "- spalvos: trys atitinkamos spalvos.\n",
    "- kiekiai: trys kiekiai.\n",
    "2. Sujunkite šiuos tris tuple į vieną, pavadintą \"`inventorius`\".\n",
    "3. Atspausdinkite \"`inventorius`\" tuple.\n",
    "4. Atspausdinkite informaciją apie antrąjį vaisių \"`inventoriaus`\" tuple elementą."
   ]
  },
  {
   "cell_type": "code",
   "execution_count": 13,
   "metadata": {},
   "outputs": [
    {
     "name": "stdout",
     "output_type": "stream",
     "text": [
      "('obuolys', 'kriause', 'slyva', 'zalia', 'geltona', 'melyna', 20, 25, 104) \n",
      "\n",
      "kriause\n"
     ]
    }
   ],
   "source": [
    "# jusu kodo vieta\n",
    "\n",
    "vaisiai = ('obuolys', 'kriause', 'slyva')\n",
    "spalvos = ('zalia', 'geltona', 'melyna')\n",
    "kiekis = (20, 25, 104)\n",
    "\n",
    "inventorius = vaisiai + spalvos + kiekis\n",
    "print(inventorius, '\\n')\n",
    "print(inventorius[1])"
   ]
  },
  {
   "cell_type": "markdown",
   "metadata": {},
   "source": [
    "---\n",
    "\n",
    "# Tuplo metodai\n",
    "\n",
    "Tuplai yra nemutabilūs objektai, todėl jie neturi tiek daug metodų kaip sąrašai. Vis dėlto yra keletas naudingų metodų.\n",
    "\n",
    "**Štai keletas pavyzdžiu**:\n",
    "\n",
    "`count(x)` - grąžina, kiek kartų nurodytas elementas pasitaiko tuple.\n"
   ]
  },
  {
   "cell_type": "code",
   "execution_count": 15,
   "metadata": {},
   "outputs": [
    {
     "name": "stdout",
     "output_type": "stream",
     "text": [
      "2\n"
     ]
    }
   ],
   "source": [
    "raides_tuple = ('a', 'b', 'c', 'a', 'd')\n",
    "print(raides_tuple.count('a'))  # 2 , Butinai reikia nurodyti, negali buti tusti ()"
   ]
  },
  {
   "cell_type": "markdown",
   "metadata": {},
   "source": [
    "`index(x)` - grąžina pirmojo nurodyto elemento indeksą tuple."
   ]
  },
  {
   "cell_type": "code",
   "execution_count": 16,
   "metadata": {},
   "outputs": [
    {
     "name": "stdout",
     "output_type": "stream",
     "text": [
      "0\n"
     ]
    }
   ],
   "source": [
    "raides_tuple = ('a', 'b', 'c', 'a', 'd')\n",
    "print(raides_tuple.index('a'))  # 0 , Butinai reikia nurodyti, negali buti tusti ()"
   ]
  },
  {
   "cell_type": "markdown",
   "metadata": {},
   "source": [
    "## Tikrinimas, ar elementas yra tuple\n",
    "Galite patikrinti, ar tuple yra elementas naudojant `in` operatorių. Šis operatorius grąžins `True`, jei elemento reikšmė yra tuple ir `False`, jei jos nėra."
   ]
  },
  {
   "cell_type": "code",
   "execution_count": 17,
   "metadata": {},
   "outputs": [
    {
     "name": "stdout",
     "output_type": "stream",
     "text": [
      "True\n",
      "False\n"
     ]
    }
   ],
   "source": [
    "raides_tuple = ('a', 'b', 'c', 'a', 'd')\n",
    "print('a' in raides_tuple)  # True\n",
    "print('e' in raides_tuple)  # False"
   ]
  },
  {
   "cell_type": "markdown",
   "metadata": {},
   "source": [
    "### Greitas uždavinys 5\n",
    "\n",
    "Tuplo Metodų Praktika. Šioje užduotyje tyrinėsite tuplo metodus. Atlikite šias paprastas užduotis:\n",
    "\n",
    "1. Sukurkite tuplą pavadinimu \"numbers\", kuriame būtų kelios sveikosios reikšmės (pvz., 1, 2, 3, 3, 4, 5).\n",
    "2. Naudodami `count()` metodą, raskite ir atspausdinkite, kiek kartų reikšmė 3 pasitaiko \"numbers\" tuple.\n",
    "3. Naudodami `index()` metodą, raskite ir atspausdinkite pirmojo pasitaikymo reikšmės 4 indeksą \"numbers\" tuple.\n",
    "4. Patikrinkite, ar reikšmė 6 yra \"numbers\" tuple, naudodami `in` operatorių, ir atspausdinkite rezultatą.\n"
   ]
  },
  {
   "cell_type": "code",
   "execution_count": 19,
   "metadata": {},
   "outputs": [
    {
     "name": "stdout",
     "output_type": "stream",
     "text": [
      "3\n",
      "2 \n",
      "\n",
      "True\n",
      "False \n",
      "\n",
      "False\n"
     ]
    }
   ],
   "source": [
    "# jusu kodo vieta\n",
    "#count\n",
    "numbers = (1, 2, 3, 3, 4, 5, 2, 2)\n",
    "print(numbers.count(2))\n",
    "#index\n",
    "letters = (\"a\", \"b\", \"c\", \"d\")\n",
    "print(letters.index(\"c\"), '\\n')\n",
    "#in\n",
    "vardai = (\"Jonas\", \"Petras\", \"Saulis\")\n",
    "print(\"Petras\" in vardai)\n",
    "print(\"Stasys\" in vardai, '\\n')\n",
    "print(6 in numbers)"
   ]
  },
  {
   "cell_type": "markdown",
   "metadata": {},
   "source": [
    "---\n",
    "\n",
    "## Iteracija per Tuplą\n",
    "\n",
    "Tuplai, kaip sąrašai ir kiti perduodami objektai, gali būti peržiūrimi naudojant `for` ir `while` ciklus. Galite iteruoti per tuplo elementus ir vykdyti įvairias operacijas.\n",
    "\n",
    "Štai pavyzdžiai, kaip iteruoti per tuplą naudojant tiek `for`, tiek `while` ciklus:\n",
    "\n",
    "1. `for` Ciklas:"
   ]
  },
  {
   "cell_type": "code",
   "execution_count": 29,
   "metadata": {},
   "outputs": [
    {
     "name": "stdout",
     "output_type": "stream",
     "text": [
      "obuolys\n",
      "bananas\n",
      "33\n",
      "vyšnia\n",
      "datulė\n",
      "['Giedrius', 47]\n"
     ]
    }
   ],
   "source": [
    "vaisių_tuplas = ('obuolys', 'bananas', 33, 'vyšnia', 'datulė', ['Giedrius', 47]) # nesvarbu\n",
    "\n",
    "# Naudodami for ciklą, iteruoti per tuplą\n",
    "for vaisius in vaisių_tuplas: # vaisius - naujas objektas priskirs kas Tupleje nurodyta paeiliui - vaisu_tuplas\n",
    "    print(vaisius)"
   ]
  },
  {
   "cell_type": "code",
   "execution_count": 25,
   "metadata": {},
   "outputs": [
    {
     "name": "stdout",
     "output_type": "stream",
     "text": [
      "4 \n",
      "\n",
      "('obuolys', 'bananas', 'vyšnia', 'datulė')\n"
     ]
    }
   ],
   "source": [
    "vaisių_tuplas = ('obuolys', 'bananas', 'vyšnia', 'datulė')\n",
    "print(len(vaisių_tuplas), '\\n')\n",
    "print(vaisių_tuplas) # tik su FOR ciklu atspausdinsime Tuples reiksmes paeiliui !!!!"
   ]
  },
  {
   "cell_type": "markdown",
   "metadata": {},
   "source": [
    "2. `While` Ciklas: \n",
    "\n",
    "\"Giedrius - SIS CIKLAS NELABAI NAUDOJAMAS IR JI REIKIA TIK ZINOTI!!!, nes FOR ciklas daug lengvesnis ir priimtinesnis\""
   ]
  },
  {
   "cell_type": "code",
   "execution_count": 3,
   "metadata": {},
   "outputs": [
    {
     "name": "stdout",
     "output_type": "stream",
     "text": [
      "obuolys\n",
      "bananas\n",
      "vyšnia\n",
      "datulė\n"
     ]
    }
   ],
   "source": [
    "vaisių_tuplas = ('obuolys', 'bananas', 'vyšnia', 'datulė')\n",
    "\n",
    "# Naudodami while ciklą, iteruoti per tuplą\n",
    "indeksas = 0\n",
    "while indeksas < len(vaisių_tuplas): # len - objekto dydis: bus 4\n",
    "    print(vaisių_tuplas[indeksas])\n",
    "    indeksas += 1"
   ]
  },
  {
   "cell_type": "markdown",
   "metadata": {},
   "source": [
    "Kaip matote, `while` cikle naudojame `len()` funkciją, kad sužinotume, kiek elementų turi tuplas. Tada, naudodami kintamąjį indeksą, kiekvienos iteracijos metu gauname reikšmę, kurią reikia atspausdinti, ir padidiname indekso reikšmę vienetu, kad pereitume prie kito tuplo elemento."
   ]
  },
  {
   "cell_type": "markdown",
   "metadata": {},
   "source": [
    "### Greitas uždavinys 6\n",
    "\n",
    "Tuplo Iteracijos Užduotis. Šioje užduotyje praktikuosite iteraciją per tuplą, naudodami tiek `for`, tiek `while` ciklus.\n",
    "\n",
    "Atlikite šias užduotis:\n",
    "\n",
    "1. Sukurkite tuplą pavadinimu \"`mėnesiai`\", kuriame būtų metų mėnesių pavadinimai.\n",
    "2. Naudodami for ciklą, iteruokite per \"`mėnesiai`\" tuplą ir atspausdinkite kiekvieno mėnesio pavadinimą.\n",
    "3. Naudodami while ciklą, iteruokite per \"`mėnesiai`\" tuplą ir atspausdinkite kiekvieno mėnesio pavadinimą.\n",
    "4. Raskite ir atspausdinkite \"`mėnesiai`\" tuplo ilgį.\n"
   ]
  },
  {
   "cell_type": "code",
   "execution_count": 30,
   "metadata": {},
   "outputs": [
    {
     "name": "stdout",
     "output_type": "stream",
     "text": [
      "Sausis\n",
      "Vasaris\n",
      "Kovas\n",
      "Balandis\n",
      "\n",
      "Sausis \n",
      "\n",
      "Vasaris \n",
      "\n",
      "Kovas \n",
      "\n",
      "Balandis \n",
      "\n",
      "\n",
      "\n",
      "\n",
      "4\n",
      "4\n"
     ]
    }
   ],
   "source": [
    "# jusu kodo vieta\n",
    "\n",
    "#for\n",
    "metu_menesiai = (\"Sausis\", \"Vasaris\", \"Kovas\", \"Balandis\")\n",
    "for menesis in metu_menesiai:\n",
    "    print(menesis)\n",
    "print()\n",
    "\n",
    "#while\n",
    "reiksmes_pozicija = 0\n",
    "while reiksmes_pozicija < len(metu_menesiai):\n",
    "    print(metu_menesiai[reiksmes_pozicija], '\\n') # \\n bus tarpai po kiekvieno menesio\n",
    "    reiksmes_pozicija += 1\n",
    "print()\n",
    "print(\"\\n\") #bus DU tarpai\n",
    "\n",
    "#len: pavyzdys - 1\n",
    "menesiu_skaicius = (len(metu_menesiai))\n",
    "print(menesiu_skaicius)\n",
    "#len: pavyzdys - 2\n",
    "print(len(metu_menesiai))\n"
   ]
  },
  {
   "cell_type": "markdown",
   "metadata": {},
   "source": [
    "## Papildomas uždavinys: Tuplo Manipuliavimas\n",
    "\n",
    "Šiame papildomame uždavinyje tyrinėsite sudėtingesnes tuplo operacijas, įskaitant manipuliavimą ir transformacijas. \n",
    "\n",
    "Atlikite šias užduotis:\n",
    "\n",
    "1. Sukurkite tuplą pavadinimu \"`prasomas_tuplas`\", kuriame būtų įvairių duomenų tipų, įskaitant skaičius, tekstus ir sąrašus.\n",
    "2. Konvertuokite \"`prasomas_tuplas`\" į sąrašą pavadinimu \"`modifikuotas_sarasas`\".\n",
    "3. Modifikuokite \"`modifikuotas_sarasas`\", pašalindami pirmąjį ir paskutinį elementus.\n",
    "4. Konvertuokite \"`modifikuotas_sarasas`\" atgal į tuplą pavadinimu \"`naujas_tuplas`\".\n",
    "5. Raskite ir atspausdinkite, kiek elementų buvo pašalinta iš \"`prasomas_tuplas`\", kad sukurtumėte \"`naujas_tuplas`\".\n",
    "6. Sukurkite naują tuplą pavadinimu \"`skaiciu_tuplas`\", kuriame būtų tik skaitinės vertės iš \"`prasomas_tuplas`\".\n",
    "7. Apskaičiuokite ir atspausdinkite visų skaitinių verčių sumą \"`skaiciu_tuplas`\".\n",
    "8. Sukurkite naują tuplą pavadinimu \"`teksto_ilgiai_tuplas`\", kuriame būtų visų \"`prasomas_tuplas`\" teksto ilgiai.\n",
    "9. Atspausdinkite \"teksto_ilgiai_tuplas\".\n",
    "10. Galiausiai, sukurkite žodyną pavadinimu \"`duomenų_zodynas`\" su šiais raktais ir atitinkamomis reikšmėmis:\n",
    "    \"`prasomas_tuplas`\": `prasomas_tuplas`\n",
    "    \"`modifikuotas_sarasas`\": `modifikuotas_sarasas`\n",
    "    \"`naujas_tuplas`\": `naujas_tuplas`\n",
    "    \"`skaiciu_tuplas`\": `skaiciu_tuplas`\n",
    "    \"`teksto_ilgiai_tuplas`\": `texto_ilgiai_tuplas`\n",
    "\n",
    "Jūsų galutinis rezultatas turėtų parodyti kiekvieno žingsnio rezultatus, įskaitant \"`duomenų_zodynas`\" turinį.\n"
   ]
  },
  {
   "cell_type": "code",
   "execution_count": 45,
   "metadata": {},
   "outputs": [
    {
     "name": "stdout",
     "output_type": "stream",
     "text": [
      "1\n",
      "(5, 35, 'du', 'Lietuva', 102, 'Giedrius', ['raudona', 'zalia', 'geltona'], 21, 'Tomas')\n",
      "2\n",
      "[5, 35, 'du', 'Lietuva', 102, 'Giedrius', ['raudona', 'zalia', 'geltona'], 21, 'Tomas']\n",
      "3\n",
      "[35, 'du', 'Lietuva', 102, 'Giedrius', ['raudona', 'zalia', 'geltona'], 21, 'Tomas']\n",
      "[35, 'du', 'Lietuva', 102, 'Giedrius', ['raudona', 'zalia', 'geltona'], 21]\n",
      "4\n",
      "(35, 'du', 'Lietuva', 102, 'Giedrius', ['raudona', 'zalia', 'geltona'], 21)\n",
      "5\n",
      "Buvo iskirpta pirmas-5 ir paskutinis-Tomas, t.y. DVI reiksmes 2\n",
      "6\n",
      "(5, 35, 102, 21)\n",
      "7\n",
      "Bendra suma \"skaiciu_tuplas\" yra: 163\n",
      "8\n",
      "(2, 7, 8, 5)\n",
      "9\n",
      "String Lengths: (2, 7, 8, 5)\n",
      "10\n",
      "Duomenu Zodynas:\n",
      "original_tuple: (5, 35, 'du', 'Lietuva', 102, 'Giedrius', ['raudona', 'zalia', 'geltona'], 21, 'Tomas')\n",
      "modified_list: [35, 'du', 'Lietuva', 102, 'Giedrius', ['raudona', 'zalia', 'geltona'], 21]\n",
      "new_tuple: (35, 'du', 'Lietuva', 102, 'Giedrius', ['raudona', 'zalia', 'geltona'], 21)\n",
      "numeric_tuple: (5, 35, 102, 21)\n",
      "string_length_tuple: (2, 7, 8, 5)\n"
     ]
    }
   ],
   "source": [
    "# jusu kodo vieta\n",
    "#1\n",
    "prasomas_tuplas = (5, 35, \"du\", \"Lietuva\", 102, \"Giedrius\", [\"raudona\", \"zalia\", 'geltona'], 21, \"Tomas\")\n",
    "print(1)\n",
    "print(prasomas_tuplas)\n",
    "#2\n",
    "modifikuotas_sarasas = list(prasomas_tuplas)\n",
    "print(2)\n",
    "print(modifikuotas_sarasas)\n",
    "#3\n",
    "modifikuotas_sarasas.pop(0) # iskirps \"5\" - pirma reiksme\n",
    "print(3)\n",
    "print(modifikuotas_sarasas)\n",
    "modifikuotas_sarasas.pop(-1) # iskirps \"Tomas\" - paskutine reiksme\n",
    "print(modifikuotas_sarasas)\n",
    "#4\n",
    "naujas_tuplas = tuple(modifikuotas_sarasas,) # tuple() atspausdins tuple sarasa kabutese\n",
    "print(4)\n",
    "print(naujas_tuplas)\n",
    "#5\n",
    "iskirpta_reiksmiu = len(prasomas_tuplas) - len(naujas_tuplas) # paroda kad DVI reiksmes buvo iskirptos \n",
    "print(5)\n",
    "print(\"Buvo iskirpta pirmas-5 ir paskutinis-Tomas, t.y. DVI reiksmes\", iskirpta_reiksmiu)\n",
    "#6\n",
    "skaiciu_tuplas = tuple(item for item in prasomas_tuplas if isinstance(item, (int, float))) # atpausdina tik skaicius\n",
    "print(6)\n",
    "print(skaiciu_tuplas)\n",
    "#7\n",
    "skaicius_tuplas_bendra_suma = sum(skaiciu_tuplas) # sudeda visus int kintamajame \"skaiciu_tuplas\"\n",
    "print(7)\n",
    "print(\"Bendra suma \\\"skaiciu_tuplas\\\" yra:\", skaicius_tuplas_bendra_suma)\n",
    "#8\n",
    "teksto_ilgiai_tuplas = tuple(len(item) for item in prasomas_tuplas if isinstance(item, str)) # isinstance - ATVEJU, nurodo jeigu item yra str (stringas)\n",
    "print(8)\n",
    "print(teksto_ilgiai_tuplas)\n",
    "#9\n",
    "print(9)\n",
    "print(\"String Lengths:\", teksto_ilgiai_tuplas)\n",
    "#10\n",
    "duomenu_zodynas = {\n",
    "    \"original_tuple\": prasomas_tuplas,\n",
    "    \"modified_list\": modifikuotas_sarasas,\n",
    "    \"new_tuple\": naujas_tuplas,\n",
    "    \"numeric_tuple\": skaiciu_tuplas,\n",
    "    \"string_length_tuple\": teksto_ilgiai_tuplas\n",
    "}\n",
    "print(10)\n",
    "print(\"Duomenu Zodynas:\")\n",
    "for key, value in duomenu_zodynas.items():\n",
    "    print(f\"{key}: {value}\")"
   ]
  }
 ],
 "metadata": {
  "kernelspec": {
   "display_name": "venv",
   "language": "python",
   "name": "python3"
  },
  "language_info": {
   "codemirror_mode": {
    "name": "ipython",
    "version": 3
   },
   "file_extension": ".py",
   "mimetype": "text/x-python",
   "name": "python",
   "nbconvert_exporter": "python",
   "pygments_lexer": "ipython3",
   "version": "3.11.7"
  }
 },
 "nbformat": 4,
 "nbformat_minor": 2
}
