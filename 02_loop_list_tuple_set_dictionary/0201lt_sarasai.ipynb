{
 "cells": [
  {
   "cell_type": "markdown",
   "metadata": {},
   "source": [
    "# Sąrašas (List)\n",
    "\n",
    "### Kas yra Sąrašas?\n",
    "\n",
    "`Sąrašas` „Python“ yra kaip konteineris, kuriame galite sudėti daugelį dalykų (elementų) į vieną vietą. Jį galite įsivaizduoti kaip apsipirkimo maišą, kuriame galima laikyti įvairių rūšių vaisius.\n",
    "\n",
    "### Kodėl naudojame sąrašus?\n",
    "- Mes naudojame sąrašus, kai norime laikyti kartu kelis dalykus.\n",
    "- „Python“ kalboje tai galima padaryti keturiais pagrindiniais būdais: Sąrašai, Tuple'ai, Aibės ir Žodynas.\n",
    "- Kiekvienas iš jų turi savo būdą laikyti dalykus.\n",
    "\n",
    "**Pavyzdys**:\n",
    "\n",
    "Įsivaizduokite, kad norite turėti sąrašą vaisių. „Python“ sąrašą galite naudoti tam, pavyzdžiui:"
   ]
  },
  {
   "cell_type": "code",
   "execution_count": 1,
   "metadata": {},
   "outputs": [
    {
     "name": "stdout",
     "output_type": "stream",
     "text": [
      "['obuolys', 'bananas', 'vyšnia']\n"
     ]
    }
   ],
   "source": [
    "vaisiai = [\"obuolys\", \"bananas\", \"vyšnia\"]\n",
    "print(vaisiai)"
   ]
  },
  {
   "cell_type": "markdown",
   "metadata": {},
   "source": [
    "- Dabar vaisiai yra kaip jūsų krepšys ir jis laiko šiuos tris vaisius: obuolį, bananą ir vyšnias. Trumpai tariant, sąrašas yra kaip konteineris, kuriame galite laikyti daug dalykų kartu, ir tai yra vienas iš keturių pagrindinių būdų tai daryti „Python“ kalboje."
   ]
  },
  {
   "cell_type": "markdown",
   "metadata": {},
   "source": [
    "## Sąrašų Kūrimas\n",
    "\n",
    "„Python“ kalboje galite kurti sąrašus naudodami laužtinius skliaustus \"`[]`\". \n",
    "- Sąrašai yra kaip konteineriai, kuriuose dedate dalykus. \n",
    "- Dalykus sąraše atskiriate kableliais.\n",
    "\n",
    "**Pavyzdžiai**:"
   ]
  },
  {
   "cell_type": "code",
   "execution_count": 5,
   "metadata": {},
   "outputs": [
    {
     "name": "stdout",
     "output_type": "stream",
     "text": [
      "[2, 6, 'obuolys']\n"
     ]
    }
   ],
   "source": [
    "#Tuščias sąrašas:\n",
    "tuscias_sarasas = []\n",
    "pilnas_sarasas = list([2, 6, 'obuolys'])\n",
    "print(pilnas_sarasas)"
   ]
  },
  {
   "cell_type": "code",
   "execution_count": 4,
   "metadata": {},
   "outputs": [
    {
     "name": "stdout",
     "output_type": "stream",
     "text": [
      "[1, 2, 3, 4, 5]\n"
     ]
    }
   ],
   "source": [
    "#Skaičių sąrašas:\n",
    "skaiciu_sarasas = [1, 2, 3, 4, 5]\n",
    "print(skaiciu_sarasas)"
   ]
  },
  {
   "cell_type": "code",
   "execution_count": 5,
   "metadata": {},
   "outputs": [
    {
     "name": "stdout",
     "output_type": "stream",
     "text": [
      "['obuolys', 'kriaušė', 'bananas']\n"
     ]
    }
   ],
   "source": [
    "#Žodžių sąrašas:\n",
    "zodziu_sarasas = ['obuolys', 'kriaušė', 'bananas']\n",
    "print(zodziu_sarasas)"
   ]
  },
  {
   "cell_type": "code",
   "execution_count": 5,
   "metadata": {},
   "outputs": [
    {
     "name": "stdout",
     "output_type": "stream",
     "text": [
      "['obuolys', 2, 1.4, 'kriaušė', True, 'bananas']\n"
     ]
    }
   ],
   "source": [
    "#Sąrašas su skirtingais dalykais:\n",
    "ivairus_sarasas = ['obuolys', 2, 1.4, 'kriaušė', True, 'bananas']\n",
    "print(ivairus_sarasas)"
   ]
  },
  {
   "cell_type": "code",
   "execution_count": 10,
   "metadata": {},
   "outputs": [
    {
     "name": "stdout",
     "output_type": "stream",
     "text": [
      "[1, 2, 3, 4, 5] ['obuolys', 2, 1.4, 'kriaušė', True, 'bananas']\n",
      "kriaušė\n"
     ]
    }
   ],
   "source": [
    "#Taip pat galite kurti sąrašą naudodami funkciją list():\n",
    "numbers = list([1, 2, 3, 4, 5])\n",
    "ivairus_sarasas = list(['obuolys', 2, 1.4, 'kriaušė', True, 'bananas'])\n",
    "print(numbers, ivairus_sarasas)\n",
    "print(ivairus_sarasas[3]) # atspausdina trecia reiksme is saraso \"kriause\""
   ]
  },
  {
   "cell_type": "markdown",
   "metadata": {},
   "source": [
    "Daugiau galimybių: `list()` gali priimti įvairias iteruojamas struktūras arba konvertuoti kitus duomenų tipus į sąrašus."
   ]
  },
  {
   "cell_type": "code",
   "execution_count": 23,
   "metadata": {},
   "outputs": [
    {
     "name": "stdout",
     "output_type": "stream",
     "text": [
      "['h', 'e', 'l', 'l', 'o'] ['pavasaris']\n",
      "['p', 'a', 'v', 'a', 's', 'a', 'r', 'i', 's'] ['ruduo']\n"
     ]
    }
   ],
   "source": [
    "string_as_list1 = list(\"hello\")  # Konvertuoja string'ą į sąrašą simbolių\n",
    "string_as_list2 = list([\"pavasaris\"])\n",
    "print(string_as_list1, string_as_list2)\n",
    "pavasaris = list(\"pavasaris\")\n",
    "ruduo = list([\"ruduo\"])\n",
    "print(pavasaris, ruduo)"
   ]
  },
  {
   "cell_type": "code",
   "execution_count": 35,
   "metadata": {},
   "outputs": [
    {
     "name": "stdout",
     "output_type": "stream",
     "text": [
      "[0, 1, 2, 3, 4]\n",
      "[0, 1, 2, 3, 4, 5, 6, 7, 8, 9, 10, 11, 12, 13, 14, 15]\n",
      "range(0, 16)\n"
     ]
    }
   ],
   "source": [
    "range_as_list = list(range(5))  # Konvertuoja diapazoną į sąrašą. 5 - NEITRAUKIA\n",
    "print(range_as_list)\n",
    "\n",
    "range_mano1 = list(range(16)) # veikia tik su int (sveikais skaiciais) ir diapazonas tarp 0 iki 15. 16 - NEITRAUKIA\n",
    "print(range_mano1)\n",
    "\n",
    "range_mano2 = range(16) # be list() NEVEIKIA\n",
    "print(range_mano2)"
   ]
  },
  {
   "cell_type": "markdown",
   "metadata": {},
   "source": [
    "Trumpai tariant, sąrašas „Python“ kalboje veikia kaip konteineris, kuriame galite saugoti įvairius elementus. Sąrašą sukuriate naudodami laužtinius skliaustus, o į jį galite įdėti skirtingus dalykus."
   ]
  },
  {
   "cell_type": "markdown",
   "metadata": {},
   "source": [
    "# `Greita Užduotis 1: Sukurkite Sąrašą`\n",
    "\n",
    "**Instrukcijos**:\n",
    "1. Sukurkite `sąrašą`, kuriame yra bent penkių jūsų mėgstamiausių maisto pavadinimų.\n",
    "1. Atspausdinkite visą sąrašą."
   ]
  },
  {
   "cell_type": "code",
   "execution_count": 26,
   "metadata": {},
   "outputs": [
    {
     "name": "stdout",
     "output_type": "stream",
     "text": [
      "['duona', 'sviestas', 'suris', 'pienas', 'kiausiniai']\n",
      "suris , kiausiniai\n",
      "suris, kiausiniai\n"
     ]
    }
   ],
   "source": [
    "maistas = ['duona', 'sviestas', 'suris', 'pienas', 'kiausiniai']\n",
    "print(maistas)\n",
    "print(maistas[2], ',', maistas[4])\n",
    "print(f\"{maistas[2]}, {maistas[4]}\")"
   ]
  },
  {
   "cell_type": "code",
   "execution_count": 18,
   "metadata": {},
   "outputs": [
    {
     "name": "stdout",
     "output_type": "stream",
     "text": [
      "['gyvenimas']\n",
      "['g', 'y', 'v', 'e', 'n', 'i', 'm', 'a', 's']\n",
      "[0, 1, 2, 3, 4, 5, 6, 7, 8, 9, 10, 11, 12, 13, 14]\n"
     ]
    }
   ],
   "source": [
    "# jusu kodo vieta\n",
    "mano_sarasas = [\"gyvenimas\"]\n",
    "print(mano_sarasas)\n",
    "mano_sarasas_list = list(\"gyvenimas\")\n",
    "print(mano_sarasas_list)\n",
    "mano_sarasas_list_range = list(range(15))\n",
    "print(mano_sarasas_list_range)"
   ]
  },
  {
   "cell_type": "markdown",
   "metadata": {},
   "source": [
    "---\n",
    "\n",
    "# Sąrašų Indeksavimas\n",
    "\n",
    "- „Python“ kalboje sąrašai veikia kaip numeruotos dėžės, ir skaičiuoti pradedame nuo nulio.\n",
    "- Norėdami gauti kažką iš sąrašo, naudojame dėžės numerį, vadinamą indeksu, viduje laužtinių skliaustų `[]`.\n",
    "\n",
    "**Pavyzdžiai**: \n",
    "\n",
    "Tarkime, turime vaisių sąrašą tokiu būdu:"
   ]
  },
  {
   "cell_type": "code",
   "execution_count": 29,
   "metadata": {},
   "outputs": [
    {
     "name": "stdout",
     "output_type": "stream",
     "text": [
      "obuolys\n",
      "kriaušė\n",
      "bananas\n",
      "obuolys kriaušė bananas\n",
      "obuolys, kriaušė, bananas\n"
     ]
    }
   ],
   "source": [
    "vaisiai = ['obuolys', 'kriaušė', 'bananas']\n",
    "\n",
    "# Jeigu norime gauti pirmą vaisių, kuris yra 'obuolys', naudojame indeksą 0, nes tai pirmoji dėžė:\n",
    "print(vaisiai[0])  # Šis komentaras atspausdins 'obuolys'\n",
    "\n",
    "# Jeigu norime antrą vaisių, 'kriaušę', naudojame indeksą 1, nes tai antroji dėžė:\n",
    "print(vaisiai[1])  # Šis komentaras atspausdins 'kriaušė'\n",
    "\n",
    "# Trečią vaisių, 'bananas', gauname naudodami indeksą 2, nes tai yra trečioji dėžė:\n",
    "print(vaisiai[2])  # Šis komentaras atspausdins 'bananas'\n",
    "\n",
    "print(vaisiai[0], vaisiai[1], vaisiai[2]) # atspausdina sarasa i viena eilute\n",
    "print(f'{vaisiai[0]}, {vaisiai[1]}, {vaisiai[2]}') # atspausdina tvarkingai t.y. suformatuoja eilute"
   ]
  },
  {
   "cell_type": "markdown",
   "metadata": {},
   "source": [
    "Taip pat galite skaičiuoti nuo sąrašo galo, naudodami neigiamus indeksus. Taigi, norėdami gauti paskutinį vaisių, kuris yra 'bananas', galite naudoti -1, nes tai yra paskutinė dėžė:"
   ]
  },
  {
   "cell_type": "code",
   "execution_count": 14,
   "metadata": {},
   "outputs": [
    {
     "name": "stdout",
     "output_type": "stream",
     "text": [
      "bananas\n",
      "kriaušė\n",
      "obuolys\n"
     ]
    }
   ],
   "source": [
    "print(vaisiai[-1])  # Šis komentaras atspausdins 'bananas'\n",
    "\n",
    "# Antro paskutinio vaisiaus, 'kriaušės', atveju naudojame -2, nes tai yra antroji paskutinė dėžė:\n",
    "print(vaisiai[-2])  # Šis komentaras atspausdins 'kriaušė'\n",
    "\n",
    "# O pirmo vaisiaus, 'obuolio', atveju naudojame -3, nes tai yra trečioji paskutinė dėžė:\n",
    "print(vaisiai[-3])  # Šis komentaras atspausdins 'obuolys'"
   ]
  },
  {
   "cell_type": "markdown",
   "metadata": {},
   "source": [
    "Prisiminkite, kad naudojant `neigiamus indeksus`, -1 visada rodo į paskutinį sąrašo elementą."
   ]
  },
  {
   "cell_type": "markdown",
   "metadata": {},
   "source": [
    "# `Greita Užduotis 2: Vaisių Indeksavimas`\n",
    "\n",
    "**Instrukcijos:**\n",
    "1. Sukurkite „Python“ sąrašą pavadinimu `vaisiai`, kuriame būtų bent penki skirtingi vaisių pavadinimai.\n",
    "2. Atspausdinkite `antrą vaisių` sąraše, naudodami indeksavimą.\n",
    "3. Atspausdinkite `paskutinį vaisių` sąraše, naudodami `neigiamą` indeksavimą.\n",
    "4. Atspausdinkite `trečią ir ketvirtą` vaisius sąraše, naudodami `teigiamą` indeksavimą.\n",
    "\n",
    "**Patarimai:**\n",
    "- Naudokite laužtinius skliaustus ir indeksus, kad pasiektumėte sąrašo elementus.\n",
    "- Prisiminkite, kad indeksavimas prasideda nuo nulio, o neigiamas indeksavimas skaičiuoja nuo sąrašo galo.\n"
   ]
  },
  {
   "cell_type": "code",
   "execution_count": 36,
   "metadata": {},
   "outputs": [
    {
     "name": "stdout",
     "output_type": "stream",
     "text": [
      "slyva\n",
      "bananas\n",
      "obuolys\n",
      "kriause\n",
      "arbuzas\n",
      "arbuzas slyva bananas obuolys kriause\n",
      "arbuzas, slyva, bananas, obuolys, kriause\n",
      "\n",
      "['kriause', 'obuolys', 'bananas', 'slyva', 'arbuzas']\n",
      "(['k', 'r', 'i', 'a', 'u', 's', 'e'], ['o', 'b', 'u', 'o', 'l', 'y', 's'], ['b', 'a', 'n', 'a', 'n', 'a', 's'], ['s', 'l', 'y', 'v', 'a'], ['a', 'r', 'b', 'u', 'z', 'a', 's'])\n",
      "bananas\n",
      "bananas\n"
     ]
    }
   ],
   "source": [
    "# jusu kodo vieta\n",
    "vaisiai = [\"kriause\", \"obuolys\", \"bananas\", \"slyva\", \"arbuzas\"]\n",
    "print(vaisiai[3])\n",
    "print(vaisiai[2])\n",
    "print(vaisiai[1])\n",
    "print(vaisiai[0])\n",
    "print(vaisiai[4])\n",
    "print(vaisiai[4], vaisiai[3], vaisiai[2], vaisiai[1], vaisiai[0])\n",
    "print(f'{vaisiai[4]}, {vaisiai[3]}, {vaisiai[2]}, {vaisiai[1]}, {vaisiai[0]}')\n",
    "print() # print su tusciais skliaustais spausdina tarpa tarp printu\n",
    "\n",
    "# Giedrius \n",
    "\n",
    "vaisiai1 = [\"kriause\", \"obuolys\", \"bananas\", \"slyva\", \"arbuzas\"]\n",
    "vaisiai2 = list(\"kriause\"),list(\"obuolys\"), list(\"bananas\"), list(\"slyva\"), list(\"arbuzas\")\n",
    "# sukuria atskirus 5 sarasus paraidziui\n",
    "print(vaisiai1)\n",
    "print(vaisiai2)\n",
    "print(vaisiai1[2])\n",
    "print(vaisiai1[-3])"
   ]
  },
  {
   "cell_type": "markdown",
   "metadata": {},
   "source": [
    "---\n",
    "\n",
    "# Sąrašų Iškarpymas (slicing)\n",
    "\n",
    "- „Python“ kalboje galite iškirpti arba iškarpyti sąrašą, norėdami gauti tik jo dalį. \n",
    "- Tam naudojamas simbolis \"`:`\" \n",
    "- Laužtiniuose skliaustuose galite nurodyti pradinį ir galinį indeksus.\n",
    "\n",
    "**Pavyzdžiai:**"
   ]
  },
  {
   "cell_type": "code",
   "execution_count": 17,
   "metadata": {},
   "outputs": [
    {
     "name": "stdout",
     "output_type": "stream",
     "text": [
      "['obuolys', 'kriaušė', 'bananas']\n",
      "['bananas', 'apelsinas', 'lotosas']\n",
      "['kriaušė', 'bananas', 'apelsinas']\n",
      "['bananas', 'apelsinas', 'lotosas']\n"
     ]
    }
   ],
   "source": [
    "# 1. Jei turite tokį vaisių sąrašą:\n",
    "vaisiai = ['obuolys', 'kriaušė', 'bananas', 'apelsinas', 'lotosas']\n",
    "\n",
    "# Norėdami gauti pirmuosius tris vaisius, galite naudoti iškarpymą taip:\n",
    "print(vaisiai[:3])  # Tai atspausdins ['obuolys', 'kriaušė', 'bananas']\n",
    "\n",
    "# 2. Norint gauti vaisius nuo trečio iki galo, galite naudoti tai:\n",
    "print(vaisiai[2:])  # Tai atspausdins ['bananas', 'apelsinas', 'lotosas']\n",
    "\n",
    "# 3. Jei norite antrą, trečią ir ketvirtą vaisius, galite nurodyti tiek pradinį, tiek galinį indeksus taip:\n",
    "print(vaisiai[1:4])  # Tai atspausdins ['kriaušė', 'bananas', 'apelsinas']\n",
    "\n",
    "# 4. Taip pat galite naudoti neigiamus indeksus, kad pradėtumėte skaičiavimą nuo galo. \n",
    "# Pavyzdžiui, norėdami gauti paskutinius tris vaisius:\n",
    "print(vaisiai[-3:])  # Tai atspausdins ['bananas', 'apelsinas', 'lotosas']"
   ]
  },
  {
   "cell_type": "markdown",
   "metadata": {},
   "source": [
    "Taip pat galite nurodyti trečiąjį argumentą, vadinamą žingsniu. Jis nurodo, kiek elementų „Python“ kalboje praleisti tarp pasirinktų elementų."
   ]
  },
  {
   "cell_type": "code",
   "execution_count": 18,
   "metadata": {},
   "outputs": [
    {
     "name": "stdout",
     "output_type": "stream",
     "text": [
      "['obuolys', 'bananas', 'lotosas']\n"
     ]
    }
   ],
   "source": [
    "vaisiai = ['obuolys', 'kriaušė', 'bananas', 'apelsinas', 'lotosas']\n",
    "\n",
    "# Šiuo atveju žingsnio dydis yra 2, todėl praleidžia kiekvieną antrą elementą, pradedant nuo pradinio indekso:\n",
    "print(vaisiai[::2])  # Tai atspausdins ['obuolys', 'bananas', 'lotosas']"
   ]
  },
  {
   "cell_type": "code",
   "execution_count": 43,
   "metadata": {},
   "outputs": [
    {
     "name": "stdout",
     "output_type": "stream",
     "text": [
      "['lotosas', 'apelsinas', 'bananas']\n",
      "['lotosas', 'apelsinas']\n"
     ]
    }
   ],
   "source": [
    "vaisiai = ['obuolys', 'kriaušė', 'bananas', 'apelsinas', 'lotosas']\n",
    "print(vaisiai[4:1:-1]) # spausdina nuo galo ir nuo 4 (lotosas) iki 1 (kriause), bet neitraukia kriauses\n",
    "print(vaisiai[4:2:-1]) # spausdina nuo galo ir nuo 4 (lotosas) iki 2 (bananas), bet neitraukia bananas"
   ]
  },
  {
   "cell_type": "markdown",
   "metadata": {},
   "source": [
    "MANO"
   ]
  },
  {
   "cell_type": "code",
   "execution_count": 77,
   "metadata": {},
   "outputs": [
    {
     "name": "stdout",
     "output_type": "stream",
     "text": [
      "['lotosas', 'apelsinas', 'bananas', 'kriaušė', 'obuolys']\n",
      "['lotosas', 'bananas', 'obuolys']\n",
      "['lotosas', 'kriaušė']\n"
     ]
    }
   ],
   "source": [
    "vaisiai = ['obuolys', 'kriaušė', 'bananas', 'apelsinas', 'lotosas']\n",
    "print(vaisiai[::-1]) # kas viena zingsni nuo galo\n",
    "print(vaisiai[::-2]) # kas du zingsnius nuo galo\n",
    "print(vaisiai[::-3]) # kas tris zingsnius nuo galo"
   ]
  },
  {
   "cell_type": "markdown",
   "metadata": {},
   "source": [
    "- Taigi, naudojant iškarpymą „Python“ kalboje, galite gauti tik tam tikrą sąrašo dalį, nurodydami pradžios, pabaigos ir žingsnio indeksus. Galima tai lyginti su pyrago supjaustymu į skiltelės, kur tiksliai nurodote, kurią dalį norite pasiimti!"
   ]
  },
  {
   "cell_type": "markdown",
   "metadata": {},
   "source": [
    "---\n",
    "\n",
    "# Sąrašo elementų keitimas\n",
    "\n",
    "„Python“ kalboje galite pakeisti sąrašo elementus priskirdami naują reikšmę tam tikram indeksui. Pažiūrėkime į keletą pavyzdžių:\n",
    "\n",
    "**Pavyzdys 1:**\n",
    "\n",
    "Tarkime, turite vaisių sąrašą šiuo būdu:"
   ]
  },
  {
   "cell_type": "code",
   "execution_count": 52,
   "metadata": {},
   "outputs": [],
   "source": [
    "vaisiai = ['obuolys', 'kriaušė', 'bananas']"
   ]
  },
  {
   "cell_type": "markdown",
   "metadata": {},
   "source": [
    "Jei norite pakeisti antrą vaisių, '`kriaušę`', į '`avokadą`', galite tai padaryti taip:"
   ]
  },
  {
   "cell_type": "code",
   "execution_count": 54,
   "metadata": {},
   "outputs": [
    {
     "name": "stdout",
     "output_type": "stream",
     "text": [
      "['obuolys', 'avokadas', 'arbuzas']\n",
      "['obuolys', 'avokadas', 'arbuzas']\n",
      "['obuolys-0', 'kriaušė-1', 'vynuoges', 'melonas-3']\n"
     ]
    }
   ],
   "source": [
    "vaisiai[1] = 'avokadas'\n",
    "print(vaisiai)  # Tai atspausdins ['obuolys', 'avokadas', 'bananas']\n",
    "vaisiai[2] = 'arbuzas'\n",
    "print(vaisiai)\n",
    "vaisiai1 = ['obuolys-0', 'kriaušė-1', 'bananas-2', 'melonas-3']\n",
    "vaisiai1[2] = 'vynuoges' # pakeicia 'bananas-2' nes jis yra index = 2, t.y. antras sarase nuo kaires: 0,1,2,3\n",
    "print(vaisiai1) "
   ]
  },
  {
   "cell_type": "markdown",
   "metadata": {},
   "source": [
    "Paprastai naudojate indeksą [1], kad pasiektumėte antrą elementą, ir priskiriate jam naują reikšmę 'avokadas'.\n",
    "\n",
    "**Pavyzdys 2**: \n",
    "\n",
    "Galite keisti daugiau nei vieną elementą vienu metu, naudodami iškarpymą. \n",
    "\n",
    "Pavyzdžiui, apsvarstykite šį vaisių sąrašą:"
   ]
  },
  {
   "cell_type": "code",
   "execution_count": 109,
   "metadata": {},
   "outputs": [],
   "source": [
    "vaisiai = ['obuolys', 'kriaušė', 'bananas', 'apelsinas', 'lotosas']"
   ]
  },
  {
   "cell_type": "markdown",
   "metadata": {},
   "source": [
    "Jei norite pakeisti '`kriaušę`', '`bananą`' ir '`apelsiną`' į '`ananasą`' ir '`mangą`', \n",
    "\n",
    "galite tai padaryti taip:"
   ]
  },
  {
   "cell_type": "code",
   "execution_count": 57,
   "metadata": {},
   "outputs": [
    {
     "name": "stdout",
     "output_type": "stream",
     "text": [
      "['obuolys', 'ananasas', 'mangas', 'lotosas']\n",
      "['obuolys', 'kriaušė', 'arbuzas']\n",
      "['obuolys', 'kriaušė', 'bananas', 'apelsinas', 'melionas']\n"
     ]
    }
   ],
   "source": [
    "vaisiai = ['obuolys', 'kriaušė', 'bananas', 'apelsinas', 'lotosas']\n",
    "vaisiai[1:4] = ['ananasas', 'mangas']\n",
    "print(vaisiai)  # Tai atspausdins ['obuolys', 'ananasas', 'mangas', 'lotosas']\n",
    "\n",
    "vaisiai = ['obuolys', 'kriaušė', 'bananas', 'apelsinas', 'lotosas']\n",
    "vaisiai[-3:] = [\"arbuzas\"] #norint kaisti sarase keleta reiksmiu i viena, ji turi buti [] siuose skliaustuose\n",
    "print(vaisiai)\n",
    "\n",
    "vaisiai = ['obuolys', 'kriaušė', 'bananas', 'apelsinas', 'lotosas']\n",
    "vaisiai[-1] = \"melionas\" # jeigu keiciame tik viena reiksme, jokiu sklaiustu nereikia\n",
    "print(vaisiai)"
   ]
  },
  {
   "cell_type": "code",
   "execution_count": 62,
   "metadata": {},
   "outputs": [
    {
     "name": "stdout",
     "output_type": "stream",
     "text": [
      "['obuolys', 'kriaušė', 'bananas', 'apelsinas', 'lotosas', 'abrikosas']\n",
      "['obuolys', 'kriaušė', 'bananas', 'apelsinas', 'lotosas', 'abrikosas', 'abrikosas']\n",
      "['p', 'e', 'r', 's', 'i', 'k', 'a', 's', 'bananas', 'apelsinas', 'lotosas', 'abrikosas', 'abrikosas']\n",
      "['persikas', 'r', 's', 'i', 'k', 'a', 's', 'bananas', 'apelsinas', 'lotosas', 'abrikosas', 'abrikosas']\n"
     ]
    }
   ],
   "source": [
    "vaisiai = ['obuolys', 'kriaušė', 'bananas', 'apelsinas', 'lotosas']\n",
    "vaisiai += ['abrikosas'] # sutrumpinta apacios versija, \"abrikosas\" turi buti [] skliaustiuose\n",
    "print(vaisiai)\n",
    "\n",
    "vaisiai = vaisiai + [\"abrikosas\"] # pridesime  dar viena \"abrikosas\" ir turi buti [] skliaustiuose\n",
    "print(vaisiai)\n",
    "\n",
    "vaisiai[0:2] = 'persikas' # pakeis obuolys ir kriause i persikas paraidziui kaip sarasa kiekviena raide\n",
    "print(vaisiai)\n",
    "\n",
    "vaisiai[0:2] = ['persikas'] # pakeis 'p' ir 'e' i persikas kaip sarasa vienas zodis\n",
    "print(vaisiai)"
   ]
  },
  {
   "cell_type": "markdown",
   "metadata": {},
   "source": [
    "- Šiuo atveju naudojamas iškarpymas `[1:4]`, kad būtų pasirinkti keičiami elementai, ir tai iškarpai priskiriame naują sąrašą `['ananasas', 'mangas']`. \n",
    "- Taigi, sąrašo elementų keitimas „Python“ kalboje yra tiek paprastas, kiek prieigą prie elemento, kurį norite pakeisti pagal jo indeksą, ir jam priskirti naują reikšmę. \n",
    "- Taip pat galite pakeisti kelis elementus vienu metu, naudodami iškarpymą."
   ]
  },
  {
   "cell_type": "markdown",
   "metadata": {},
   "source": [
    "# `Greita Užduotis 3: Sąrašų Iškarpymas ir Keitimas`\n",
    "\n",
    "**Instrukcijos:**\n",
    "\n",
    "1. Atspausdinkite sąrašo pirmuosius tris elementus.\n",
    "2. Atspausdinkite sąrašo paskutinius du elementus.\n",
    "3. Atspausdinkite tris elementus iš sąrašo vidurio.\n",
    "4. Atspausdinkite kasantrą sąrašo elementą.\n",
    "\n",
    "**Patarimai:**\n",
    "\n",
    "- Norėdami atspausdinti pirmuosius tris elementus, galite naudoti sąrašo iškarpymą su [:3].\n",
    "- Paskutiniams dviejams elementams galite naudoti neigiamus indeksus, kaip antrokiams [-2:].\n",
    "- Norėdami atspausdinti tris elementus iš vidurio, raskite vidurinį indeksą ir naudokite iškarpymą.\n",
    "- Kiekvieną antrą elementą galite atspausdinti naudodami iškarpymą [::2]."
   ]
  },
  {
   "cell_type": "code",
   "execution_count": 55,
   "metadata": {},
   "outputs": [
    {
     "name": "stdout",
     "output_type": "stream",
     "text": [
      "['obuolys', 'kriaušė', 'bananas']\n",
      "['apelsinas', 'lotosas']\n",
      "['kriaušė', 'bananas', 'apelsinas']\n",
      "['obuolys', 'bananas', 'lotosas']\n",
      "['bananas']\n"
     ]
    }
   ],
   "source": [
    "# Vaisių sąrašas\n",
    "fruits = ['obuolys', 'kriaušė', 'bananas', 'apelsinas', 'lotosas']\n",
    "\n",
    "# Jūsų kodas čia\n",
    "print(fruits[0:3])\n",
    "print(fruits[3:5])\n",
    "print(fruits[1:4])\n",
    "print(fruits[::2])\n",
    "print(fruits[2::3])"
   ]
  },
  {
   "cell_type": "markdown",
   "metadata": {},
   "source": [
    "---\n",
    "\n",
    "# Sąrašo metodai Python kalboje\n",
    "\n",
    "1. `append()`\n",
    "- Metodas `append()` naudojamas norint pridėti elementą sąrašo pabaigoje. Tai paprastas būdas išplėsti sąrašą vienu elementu."
   ]
  },
  {
   "cell_type": "code",
   "execution_count": 67,
   "metadata": {},
   "outputs": [
    {
     "name": "stdout",
     "output_type": "stream",
     "text": [
      "[1, 2, 3, 4]\n",
      "[1, 2, 3, 4]\n",
      "[1, 2, 3, 4, 'valio', 9]\n",
      "[1, 2, 3, 4, 'valio', 9, 'valio', 9]\n"
     ]
    }
   ],
   "source": [
    "my_list = [1, 2, 3]\n",
    "my_list.append(4)\n",
    "print(my_list)\n",
    "# Dabar my_list yra [1, 2, 3, 4]\n",
    "\n",
    "my_list = [1, 2, 3] #galima dadeti 4 ir auksciau aptartu budu\n",
    "my_list = my_list + [4]\n",
    "print(my_list)\n",
    "\n",
    "my_list.append(\"valio\") # arba my_list = my_list + ['valio'], su append bus . ir ()\n",
    "my_list.append(9) # arba my_list = my_list + [9] su append bus . ir ()\n",
    "print(my_list)\n",
    "\n",
    "my_list = my_list + ['valio'] + [9] # prides dar karta valio ir 9\n",
    "print(my_list)"
   ]
  },
  {
   "cell_type": "markdown",
   "metadata": {},
   "source": [
    "2. `extend()`\n",
    "- Metodas `extend()` naudojamas pridėti elementus iš iteruojamojo objekto (dažniausiai kito sąrašo) į esamą sąrašą gale."
   ]
  },
  {
   "cell_type": "code",
   "execution_count": 68,
   "metadata": {},
   "outputs": [
    {
     "name": "stdout",
     "output_type": "stream",
     "text": [
      "[1, 2, 3, 7, 4, 5, 6, 8]\n",
      "[1, 2, 3, 7, 4, 5, 6, 8, 4, 5, 6, 8]\n"
     ]
    }
   ],
   "source": [
    "my_list = [1, 2, 3]\n",
    "my_list.append(7)\n",
    "another_list = [4, 5, 6] # naujas sarasas []\n",
    "another_list.append(8) # pridedame prie naujo saraso 8 \n",
    "my_list.extend(another_list) # pridedame nauja visa sarasa prie seno saraso: my_list \n",
    "print(my_list)\n",
    "# Dabar my_list yra [1, 2, 3, 7, 4, 5, 6, 8]\n",
    "my_list = my_list + another_list # prie esamo saraso: my_list su another_list pridedame dar karta another_list\n",
    "print(my_list)"
   ]
  },
  {
   "cell_type": "markdown",
   "metadata": {},
   "source": [
    "3. `insert()`\n",
    "- Metodas `insert()` leidžia įterpti elementą į konkretų sąrašo indeksą."
   ]
  },
  {
   "cell_type": "code",
   "execution_count": 74,
   "metadata": {},
   "outputs": [
    {
     "name": "stdout",
     "output_type": "stream",
     "text": [
      "[1, 4, 2, 3]\n",
      "[1, 4, 2, 'obuolys', 3]\n",
      "[1, 4, 2, 'obuolys', 3, 'Tomas']\n",
      "['Petras', 1, 4, 2, 'obuolys', 3, 'Tomas']\n"
     ]
    }
   ],
   "source": [
    "my_list = [1, 2, 3]\n",
    "my_list.insert(1, 4)  # Įterpti 4 į indeksą 1\n",
    "print(my_list)\n",
    "# Dabar my_list yra [1, 4, 2, 3]\n",
    "my_list.insert(3, \"obuolys\")\n",
    "print(my_list)\n",
    "my_list.insert(8, 'Tomas') # nesvarbu kad sarase yra tik 4 indeksai, 'Tomas' tiesiog ives paskutini \n",
    "print(my_list)\n",
    "my_list.insert(0, 'Petras') # pirma reiksme - INDEKSAS(vieta sarase), antra reiksme - REIKSME i kuria keiciame\n",
    "print(my_list)"
   ]
  },
  {
   "cell_type": "markdown",
   "metadata": {},
   "source": [
    "4. `remove()`\n",
    "- Metodas `remove()` naudojamas pašalinti pirmąjį konkretaus elemento sąraše pasirodymą."
   ]
  },
  {
   "cell_type": "code",
   "execution_count": 77,
   "metadata": {},
   "outputs": [
    {
     "name": "stdout",
     "output_type": "stream",
     "text": [
      "[1, 3, 2]\n",
      "[3, 2]\n",
      "[3, 2, 9]\n",
      "[3, 2, 9, 'a', 'b', 'c']\n",
      "[3, 2, 8, 9, 'a', 'b', 'c']\n",
      "['jonas', 'petras', 6, 'actas']\n",
      "['jonas', 'petras', 6]\n"
     ]
    }
   ],
   "source": [
    "my_list = [1, 2, 3, 2]\n",
    "my_list.remove(2)  # Pašalina pirmąjį 2 pasirodymą - KONKRECIA REIKSME, o ne indeksa\n",
    "print(my_list)\n",
    "# Dabar my_list yra [1, 3, 2]\n",
    "\n",
    "my_list.remove(1)\n",
    "print(my_list)\n",
    "\n",
    "my_list.append(9)\n",
    "print(my_list)\n",
    "\n",
    "mano_naujas_sarasa = [\"a\", \"b\", \"c\"]\n",
    "my_list.extend(mano_naujas_sarasa)\n",
    "print(my_list)\n",
    "\n",
    "my_list.insert(2, 8)\n",
    "print(my_list)\n",
    "\n",
    "my_list5 = ['jonas', 'petras', 6, 99, 'actas']\n",
    "my_list5.remove(99) # nurodeme konkrecia reiksme isimti, jei daugiau - isime pirma reiksme! siuo atveju - 99\n",
    "print(my_list5) \n",
    "my_list5.pop(3) # nurodome konrecia vieta (indeksa) isimti, o ne reiksme! - siuo atveju 'actas', nes 99 jau nebera\n",
    "print(my_list5)\n"
   ]
  },
  {
   "cell_type": "markdown",
   "metadata": {},
   "source": [
    "5. `pop()`\n",
    "- Metodas `pop()` naudojamas pašalinti ir grąžinti elementą iš konkretaus sąrašo indekso.\n",
    "- Jei indeksas nėra nurodytas, šis metodas pašalins ir grąžins paskutinį sąrašo elementą."
   ]
  },
  {
   "cell_type": "code",
   "execution_count": 1,
   "metadata": {},
   "outputs": [
    {
     "name": "stdout",
     "output_type": "stream",
     "text": [
      "iš sąrašo [1, 2, 3, 1] ištraukėm 2\n"
     ]
    }
   ],
   "source": [
    "my_list = [1, 2, 3, 2, 1]\n",
    "popped_element = my_list.pop(3)  # Pašalina ir grąžina elementą su indeksu 1 (2)\n",
    "# Dabar my_list yra [1, 2, 3, 1], ir popped_element yra 2 arba trecias INDEKSAS \n",
    "print(f\"iš sąrašo {my_list} ištraukėm {popped_element}\")"
   ]
  },
  {
   "cell_type": "markdown",
   "metadata": {},
   "source": [
    "6. `index()`\n",
    "- Metodas `index()` grąžina pirmo konkretaus elemento indeksą sąraše."
   ]
  },
  {
   "cell_type": "code",
   "execution_count": 12,
   "metadata": {},
   "outputs": [
    {
     "name": "stdout",
     "output_type": "stream",
     "text": [
      "1\n",
      "9\n",
      "9\n",
      "8\n",
      "6\n"
     ]
    }
   ],
   "source": [
    "my_list = [1, 2, 3, 2, 6, 8, 9, 5, \"obuolys\", \"Tomas\"]\n",
    "index_of_2 = my_list.index(2)  # Randamas pirmojo 2 pasirodymo indeksas\n",
    "# index_of_2 yra 1\n",
    "print(index_of_2)\n",
    "\n",
    "tomas_tomas_tomas = my_list.index(\"Tomas\") # reikia nurodyti reiksme, kad atspausdintu tos reiksmes VIETA sarase\n",
    "print(tomas_tomas_tomas)\n",
    "\n",
    "mano_indeksas = my_list.index(\"Tomas\") # reikia nurodyti reiksme, kad atspausdintu tos reiksmes VIETA sarase\n",
    "print(mano_indeksas)\n",
    "\n",
    "obuolys = my_list.index('obuolys') # reikia nurodyti reiksme, kad atspausdintu tos reiksmes VIETA sarase\n",
    "print(obuolys)\n",
    "\n",
    "my_list = my_list.index(9) # pakeiteme my_list kintamaji, todel zemiau nebeveiks pagal sena kintamaji!!!\n",
    "print(my_list)\n",
    "\n"
   ]
  },
  {
   "cell_type": "code",
   "execution_count": 14,
   "metadata": {},
   "outputs": [
    {
     "name": "stdout",
     "output_type": "stream",
     "text": [
      "antro dvejeto pozicija/indeksas: 3\n",
      "\n",
      "iš sąrašo [1, 2, 3, 6, 8, 9, 5, 'obuolys', 'Tomas'] išmetėm 2\n"
     ]
    }
   ],
   "source": [
    "my_list = [1, 2, 3, 2, 6, 8, 9, 5, \"obuolys\", \"Tomas\"]\n",
    "index_of_2 = my_list.index(2)\n",
    "\n",
    "another_io2 = my_list.index(2, index_of_2+1) # nurodo antros tos pacios reiksmes pozicija, kuri yra trecia  \n",
    "print(\"antro dvejeto pozicija/indeksas:\", another_io2)\n",
    "print() #tarpas\n",
    "antras_2 = my_list.pop(another_io2)\n",
    "print(f\"iš sąrašo {my_list} išmetėm {antras_2}\")"
   ]
  },
  {
   "cell_type": "markdown",
   "metadata": {},
   "source": [
    "7. `count()`\n",
    "- Metodas `count()` naudojamas suskaičiuoti konkretaus elemento pasirodymus sąraše."
   ]
  },
  {
   "cell_type": "code",
   "execution_count": 4,
   "metadata": {},
   "outputs": [
    {
     "name": "stdout",
     "output_type": "stream",
     "text": [
      "2 2s in [1, 2, 3, 5, 2, 6, 1, 5, 3, 5, 5]\n",
      "2 du kartus yra sarase [1, 2, 3, 5, 2, 6, 1, 5, 3, 5, 5]\n",
      "Penketuku is viso yra: 4 mano sarase [1, 2, 3, 5, 2, 6, 1, 5, 3, 5, 5]\n",
      "Penketuku is viso yra: 4 mano sarase [1, 2, 3, 5, 2, 6, 1, 5, 3, 5, 5]\n"
     ]
    }
   ],
   "source": [
    "my_list = [1, 2, 3, 5, 2, 6, 1, 5, 3, 5, 5]\n",
    "count_of_reiksmes_2 = my_list.count(2)  # Suskaičiuoja 2 pasirodymus\n",
    "# count_of_2 yra 2\n",
    "print(count_of_reiksmes_2, \"2s in\", my_list)\n",
    "print(f\"{count_of_reiksmes_2} du kartus yra sarase {my_list}\")\n",
    "\n",
    "\n",
    "suskaiciuoti_mano = my_list.count(5)\n",
    "print(\"Penketuku is viso yra:\", suskaiciuoti_mano, \"mano sarase\", my_list)\n",
    "print(f\"Penketuku is viso yra: {suskaiciuoti_mano} mano sarase {my_list}\")"
   ]
  },
  {
   "cell_type": "code",
   "execution_count": 10,
   "metadata": {},
   "outputs": [
    {
     "name": "stdout",
     "output_type": "stream",
     "text": [
      "4 kartai po 5 yra sarase [1, 2, 3, 5, 2, 6, 1, 5, 3, 5, 5]\n",
      "4\n"
     ]
    }
   ],
   "source": [
    "my_list = [1, 2, 3, 5, 2, 6, 1, 5, 3, 5, 5]\n",
    "count_of_reiksmes_5 = my_list.count(5)\n",
    "print(f\"{count_of_reiksmes_5} kartai po 5 yra sarase {my_list}\")\n",
    "print(count_of_reiksmes_5)"
   ]
  },
  {
   "cell_type": "markdown",
   "metadata": {},
   "source": [
    "8. `sort()`\n",
    "- Metodas `sort()` surūšiuoja sąrašą didėjimo tvarka. \n",
    "- Taip pat galite nurodyti papildomus argumentus, norėdami pritaikyti rūšiavimo elgesį."
   ]
  },
  {
   "cell_type": "code",
   "execution_count": 13,
   "metadata": {},
   "outputs": [
    {
     "name": "stdout",
     "output_type": "stream",
     "text": [
      "[-5, -2, 0, 1, 1, 2, 3, 4, 5, 8, 9]\n",
      "[-5, -2, 0, 1, 1, 2, 3, 4, 5, 8, 9]\n"
     ]
    }
   ],
   "source": [
    "my_list = [3, 1, 4, 1, 5, 9, 2, 0, -2, 8, -5]\n",
    "my_list.sort()\n",
    "# Dabar my_list yra [-5, -2, 1, 1, 2, 3, 4, 5, 9]\n",
    "print(my_list)\n",
    "my_list.sort()\n",
    "print(my_list)"
   ]
  },
  {
   "cell_type": "markdown",
   "metadata": {},
   "source": [
    "9. `reverse()`\n",
    "- Metodas `reverse()` apverčia sąrašo elementus vietoje."
   ]
  },
  {
   "cell_type": "code",
   "execution_count": 149,
   "metadata": {},
   "outputs": [
    {
     "name": "stdout",
     "output_type": "stream",
     "text": [
      "[1, 2, 5, 7, 4, 3, 2, 1]\n"
     ]
    }
   ],
   "source": [
    "my_list = [1, 2, 3, 4, 7, 5, 2, 1]\n",
    "my_list.reverse()\n",
    "# Dabar my_list yra [4, 3, 2, 1]\n",
    "print(my_list)"
   ]
  },
  {
   "cell_type": "code",
   "execution_count": 150,
   "metadata": {},
   "outputs": [
    {
     "name": "stdout",
     "output_type": "stream",
     "text": [
      "[1, 1, 2, 2, 3, 4, 5, 7]\n",
      "[7, 5, 4, 3, 2, 2, 1, 1]\n"
     ]
    }
   ],
   "source": [
    "my_list.sort()\n",
    "print(my_list)\n",
    "my_list.reverse()\n",
    "print(my_list)"
   ]
  },
  {
   "cell_type": "markdown",
   "metadata": {},
   "source": [
    "10. `copy()`\n",
    "- Metodas `copy()` sukuria sąrašo paviršinę kopiją. \n",
    "- Pakeitimai originaliame sąraše neturės įtakos nukopijuotam sąrašui, ir atvirkščiai."
   ]
  },
  {
   "cell_type": "code",
   "execution_count": 151,
   "metadata": {},
   "outputs": [
    {
     "name": "stdout",
     "output_type": "stream",
     "text": [
      "[1, 2, 3] ['a', 'b', 'c']\n"
     ]
    }
   ],
   "source": [
    "original_list = [1, 2, 3]\n",
    "second_list = [\"a\", \"b\", \"c\"]\n",
    "copied_list_numbers = original_list.copy()\n",
    "copied_list_letters = second_list.copy()\n",
    "print(copied_list_numbers, copied_list_letters)"
   ]
  },
  {
   "cell_type": "code",
   "execution_count": 93,
   "metadata": {},
   "outputs": [
    {
     "name": "stdout",
     "output_type": "stream",
     "text": [
      "['obuolys', 'bananas', 'ananasas']\n",
      "['obuolys', 'persikas', 'ananasas']\n"
     ]
    }
   ],
   "source": [
    "vaisiai = ['obuolys', 'bananas', 'ananasas']\n",
    "seni_vaisiai = vaisiai.copy()\n",
    "seni_vaisiai[1] = \"persikas\"\n",
    "print(vaisiai)\n",
    "print(seni_vaisiai)"
   ]
  },
  {
   "cell_type": "markdown",
   "metadata": {},
   "source": [
    "11. `replace()`\n",
    "- Metodas `replace()` pakeicia norima simboli i kita\n",
    "- Skliaustuose pirmas simbolis ka keiciame, antra i koki"
   ]
  },
  {
   "cell_type": "code",
   "execution_count": 24,
   "metadata": {},
   "outputs": [
    {
     "name": "stdout",
     "output_type": "stream",
     "text": [
      "bananas bxnxnxs\n",
      "baYaYas\n",
      "BANANAT\n"
     ]
    }
   ],
   "source": [
    "bananas1 = \"bananas\"\n",
    "bananas2 = \"bananas\"\n",
    "bananas2 = bananas2.replace('a', 'x') # pirma reiksme = nurodo ka keisime, antra reiksme = i ka keisime\n",
    "print(bananas1, bananas2)\n",
    "\n",
    "bananas3 = 'bananas'\n",
    "bananas3 = bananas3.replace('n', 'Y') # reikia nurodyti nauja kintamaji arba ta pati jeigu norime gauti kitokia kintamojo reiksme\n",
    "print(bananas3)\n",
    "\n",
    "bananas4 = 'BANANAS'\n",
    "bananas4 = bananas4.replace('s', 'T') # nera ka pakeisti, mazosios \"s\" nera\n",
    "bananas4 = bananas4.replace('S', 'T') # dabar pakeis S i T\n",
    "print(bananas4)"
   ]
  },
  {
   "cell_type": "code",
   "execution_count": 25,
   "metadata": {},
   "outputs": [
    {
     "name": "stdout",
     "output_type": "stream",
     "text": [
      "['bananas', 'bananas']\n",
      "['bananas', 'abrikosas']\n"
     ]
    }
   ],
   "source": [
    "bananai = [bananas1, bananas1]\n",
    "print(bananai)\n",
    "bananai[1] = \"abrikosas\" # pakeis antra bananai1, nes nurodome indeksa 1 \n",
    "print(bananai)\n",
    "# bananai = [bananas1, \"abrikosas\"]"
   ]
  },
  {
   "cell_type": "markdown",
   "metadata": {},
   "source": [
    "Šie yra esminiai sąrašų metodai Python kalboje, suteikiantys jums galingus įrankius efektyviam sąrašų manipuliavimui. Šių metodų įsisavinimas yra būtinas efektyviam sąrašų manipuliavimui jūsų Python programose."
   ]
  },
  {
   "cell_type": "markdown",
   "metadata": {},
   "source": [
    "# `Greita Užduotis 4`:\n",
    "\n",
    "TODO: išskaidyti užduotimis po kiekvieno metodo\n",
    "\n",
    "**Instrukcijos:** \n",
    "\n",
    "Atlikite žemiau nurodytus veiksmus su duotu sąrašu, o po kiekvieno veiksmo atspausdinkite sąrašą:\n",
    "\n",
    "1. Pridėkite dar vieną mėgstamo maisto pavadinimą į sąrašo galą.\n",
    "2. Įterpkite naują maisto elementą į sąrašo ketvirtąją poziciją.\n",
    "3. Pakeiskite sąrašo antrąjį elementą kita mėgstamo maisto pavadinimu.\n",
    "4. Pašalinkite sąrašo pirmąjį elementą.\n",
    "5. Pašalinkite sąrašo trečiąjį elementą.\n",
    "6. Atraskite bet kurio elemento indeksą sąraše.\n",
    "7. Atspausdinkite sąrašą atvirkštine tvarka.\n",
    "8. Pasirinktinai išbandykite ir kitus metodus."
   ]
  },
  {
   "cell_type": "code",
   "execution_count": 6,
   "metadata": {},
   "outputs": [
    {
     "name": "stdout",
     "output_type": "stream",
     "text": [
      "['pizza', 'sushi', 'burgeris', 'makaronai', 'ledai', 'sriuba']\n",
      "['pizza', 'sushi', 'burgeris', 'makaronai', 'kotletas', 'ledai', 'sriuba']\n",
      "['pizza', 'balandeliai', 'burgeris', 'makaronai', 'kotletas', 'ledai', 'sriuba']\n",
      "['balandeliai', 'burgeris', 'makaronai', 'kotletas', 'ledai', 'sriuba']\n",
      "['balandeliai', 'burgeris', 'kotletas', 'ledai', 'sriuba']\n",
      "4\n",
      "['sriuba', 'ledai', 'kotletas', 'burgeris', 'balandeliai']\n",
      "5\n"
     ]
    }
   ],
   "source": [
    "# Duotas mėgstamų maisto pavadinimų sąrašas\n",
    "favorite_foods = ['pizza', 'sushi', 'burgeris', 'makaronai', 'ledai']\n",
    "\n",
    "# Jūsų kodas čia\n",
    "#1 - ['pizza', 'sushi', 'burgeris', 'makaronai', 'ledai', 'sriuba']\n",
    "favorite_foods.append(\"sriuba\")\n",
    "print(favorite_foods)\n",
    "#2 - ['pizza', 'sushi', 'burgeris', 'makaronai', 'kotletas', 'ledai', 'sriuba']\n",
    "favorite_foods.insert(4, \"kotletas\")\n",
    "print(favorite_foods)\n",
    "#3 - ['pizza', 'balandeliai', 'burgeris', 'makaronai', 'kotletas', 'ledai', 'sriuba']\n",
    "favorite_foods[1] = (\"balandeliai\")\n",
    "print(favorite_foods)\n",
    "#4 - ['balandeliai', 'burgeris', 'makaronai', 'kotletas', 'ledai', 'sriuba']\n",
    "favorite_foods.remove(\"pizza\")\n",
    "print(favorite_foods)\n",
    "#5 - ['balandeliai', 'burgeris', 'kotletas', 'ledai', 'sriuba']\n",
    "favorite_foods.remove(\"makaronai\")\n",
    "print(favorite_foods)\n",
    "#6 - 4\n",
    "favorite_dish_index = favorite_foods.index(\"sriuba\")\n",
    "print(favorite_dish_index)\n",
    "#7 - ['sriuba', 'ledai', 'kotletas', 'burgeris', 'balandeliai']\n",
    "favorite_foods.reverse()\n",
    "print(favorite_foods)\n",
    "#8\n",
    "\n",
    "#extra\n",
    "favorite_foods = len(favorite_foods)\n",
    "print(favorite_foods)"
   ]
  },
  {
   "cell_type": "markdown",
   "metadata": {},
   "source": [
    "---\n",
    "\n",
    "## Funkcija len()\n",
    "\n",
    "Funkcija `len()` naudojama rasti elementų skaičių sąraše."
   ]
  },
  {
   "cell_type": "code",
   "execution_count": 101,
   "metadata": {},
   "outputs": [
    {
     "name": "stdout",
     "output_type": "stream",
     "text": [
      "5\n"
     ]
    }
   ],
   "source": [
    "my_list = [1, 2, 3, 4, 5]\n",
    "saraso_ilgis = len(my_list)  # Rasti elementų skaičių sąraše\n",
    "# saraso_ilgis yra 5\n",
    "print(saraso_ilgis)"
   ]
  },
  {
   "cell_type": "markdown",
   "metadata": {},
   "source": [
    "IS MANO SARARO UZDUOTRS 4"
   ]
  },
  {
   "cell_type": "code",
   "execution_count": 37,
   "metadata": {},
   "outputs": [
    {
     "name": "stdout",
     "output_type": "stream",
     "text": [
      "(5, 8)\n"
     ]
    }
   ],
   "source": [
    "#extra\n",
    "favorite_foods = ['pica', 'sushi', 'burgeris', 'pasta', 'ledai']\n",
    "favorite_foods = len(favorite_foods), len(list('burgeris')) # nurodo kiek yra reiksmiu ir kiek yra simboliu 'burgeris\n",
    "print(favorite_foods)"
   ]
  },
  {
   "cell_type": "markdown",
   "metadata": {},
   "source": [
    "- Galite naudoti `len()` su bet kuriuo iteruojamu objektu, ne tik su sąrašais, norėdami nustatyti jų ilgį. \n",
    "- Ši funkcija ypač naudinga, kai reikia peržiūrėti sąrašą ar atlikti operacijas pagal jo ilgį."
   ]
  },
  {
   "cell_type": "markdown",
   "metadata": {},
   "source": [
    "# `Greita Užduotis 5:`\n",
    "**Instrukcijos:**\n",
    "\n",
    "1. Patikrinkite sąrašo ilgį.\n",
    "2. Atspausdinkite sąrašą"
   ]
  },
  {
   "cell_type": "code",
   "execution_count": 7,
   "metadata": {},
   "outputs": [
    {
     "name": "stdout",
     "output_type": "stream",
     "text": [
      "5\n"
     ]
    }
   ],
   "source": [
    "# Duotas vaisių sąrašas\n",
    "fruits = [\"obuolys\", \"bananas\", \"vyšnia\", \"datulė\", \"svarainis\"]\n",
    "\n",
    "# Jūsų kodas čia\n",
    "fruits = len(fruits)\n",
    "print(fruits)"
   ]
  },
  {
   "cell_type": "markdown",
   "metadata": {},
   "source": [
    "---\n",
    "\n",
    "## `'in'` Raktazodis „Python“ kalboje\n",
    "\n",
    "Raktazodis `'in'` naudojamas tikrinti, ar nurodytas elementas yra esamas iteruojamojoje struktūroje, tokioje kaip sąrašas, tuple, aibė ar žodynas. \n",
    "- Grąžina `True`, jei elementas egzistuoja iteruojamojoje struktūroje, ir `False`, jei ne.\n"
   ]
  },
  {
   "cell_type": "code",
   "execution_count": 10,
   "metadata": {},
   "outputs": [
    {
     "name": "stdout",
     "output_type": "stream",
     "text": [
      "True\n",
      "False\n"
     ]
    }
   ],
   "source": [
    "my_list = [1, 2, 3, 4, 5]\n",
    "\n",
    "# Patikrinti, ar elementas yra sąraše\n",
    "rezultatas1 = 3 in my_list  # True\n",
    "rezultatas2 = 6 in my_list  # False\n",
    "\n",
    "print(rezultatas1)\n",
    "print(rezultatas2)"
   ]
  },
  {
   "cell_type": "markdown",
   "metadata": {},
   "source": [
    "- Šiame pavyzdyje `rezultatas1 yra True`, nes elementas 3 yra sąraše my_list, tuo tarpu `rezultatas2 yra False`, nes 6 nėra sąraše.\n",
    "\n",
    "Taip pat galite naudoti 'not in' raktazodį, kad patikrintumėte, ar elementas nėra iteruojamojoje struktūroje:"
   ]
  },
  {
   "cell_type": "code",
   "execution_count": 11,
   "metadata": {},
   "outputs": [
    {
     "name": "stdout",
     "output_type": "stream",
     "text": [
      "False\n",
      "True\n"
     ]
    }
   ],
   "source": [
    "rezultatas3 = 3 not in my_list  # False (3 yra sąraše)\n",
    "rezultatas4 = 6 not in my_list  # True (6 nėra sąraše)\n",
    "\n",
    "print(rezultatas3)\n",
    "print(rezultatas4)"
   ]
  },
  {
   "cell_type": "markdown",
   "metadata": {},
   "source": [
    "- '`in`' ir '`not in`' operatoriai yra naudingi sąlyginai tikrinant, ar elementas yra kolekcijos dalis prieš atliekant tam tikras operacijas su juo.\n",
    "- Jie dažnai naudojami kontrolinėse struktūrose, pvz., if sąlygose ir cikluose, priimant sprendimus pagal konkretaus elemento buvimą ar nebuvimą iteruojamojoje struktūroje."
   ]
  },
  {
   "cell_type": "markdown",
   "metadata": {},
   "source": [
    "# `Greita Užduotis 6: Tikrinti Maisto Produktą`\n",
    "**Instrukcijos:**\n",
    "\n",
    "1. Pasirinkite maisto produktą, kurio nėra sąraše (pavyzdžiui, \"braškė\").\n",
    "2. Naudodami `in` operatorių, patikrinkite, ar pasirinktas maisto produktas yra sąraše.\n",
    "3. Atspausdinkite rezultatą (True, jei produktas yra sąraše, arba False, jei jo nėra).\n"
   ]
  },
  {
   "cell_type": "code",
   "execution_count": 14,
   "metadata": {},
   "outputs": [
    {
     "name": "stdout",
     "output_type": "stream",
     "text": [
      "False\n",
      "True\n"
     ]
    }
   ],
   "source": [
    "# Maisto produktų sąrašas\n",
    "food_products = [\"obuolys\", \"bananas\", \"vyšnia\", \"datulė\", \"juoduju serbentų uogienė\"]\n",
    "\n",
    "# Jūsų kodas čia\n",
    "#1\n",
    "braske = \"braske\" in food_products\n",
    "print(braske)\n",
    "#2\n",
    "bananas = \"bananas\" in food_products\n",
    "print(bananas)\n",
    "#3#\n"
   ]
  },
  {
   "cell_type": "code",
   "execution_count": null,
   "metadata": {},
   "outputs": [],
   "source": []
  }
 ],
 "metadata": {
  "kernelspec": {
   "display_name": "venv",
   "language": "python",
   "name": "python3"
  },
  "language_info": {
   "codemirror_mode": {
    "name": "ipython",
    "version": 3
   },
   "file_extension": ".py",
   "mimetype": "text/x-python",
   "name": "python",
   "nbconvert_exporter": "python",
   "pygments_lexer": "ipython3",
   "version": "3.11.7"
  }
 },
 "nbformat": 4,
 "nbformat_minor": 2
}
