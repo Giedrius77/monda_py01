{
 "cells": [
  {
   "cell_type": "markdown",
   "metadata": {},
   "source": [
    "# `for` Ciklai\n",
    "Kas yra `for` ciklas?\n",
    "\n",
    "`for` ciklas Python programavimo kalboje yra valdymo srauto teiginys, leidžiantis iteruoti per nustatytą elementų rinkinį, tokių kaip sąrašai, žodynai ir kt.\n",
    "Iteracija yra bendrasis terminas, naudojamas programavimo ir informatikos srityse, kuris apibūdina procesą, kai seka veiksmų arba instrukcijų pakartotinai vykdoma tam tikruose elementuose, dažniausiai po vieną. Tai yra pagrindinė programavimo sąvoka ir naudojama peržiūrėti, apdoroti arba manipuliuoti duomenų strukt8roms.\n",
    "\n",
    "- `for` cikle nurodomas kintamasis, kuriame saugomas kiekvieno žingsnio iteracijos elementas. Ciklo blokas yra atitrauktas į dešinę ir vykdomas kiekvienam nustatytos iteracijos žingsniui.\n",
    "\n",
    "## `for` ciklo pritaikymas `sąraše`:\n",
    "\n",
    "Pavyzdžiui, jei turime skaičių sąrašą ir norime atspausdinti kiekvieną skaičių, galime naudoti for ciklą:\n"
   ]
  },
  {
   "cell_type": "code",
   "execution_count": 2,
   "metadata": {},
   "outputs": [
    {
     "name": "stdout",
     "output_type": "stream",
     "text": [
      "1\n",
      "2\n",
      "3\n",
      "4\n",
      "5\n"
     ]
    }
   ],
   "source": [
    "skaiciai = [1, 2, 3, 4, 5] # ciklo sarasas naudojamas [], ciklo zodynas naudojamas {}\n",
    "\n",
    "for skaicius in skaiciai: # for kintamasis turi atspindeti saraso reiksmes\n",
    "    print(skaicius)"
   ]
  },
  {
   "cell_type": "code",
   "execution_count": 9,
   "metadata": {},
   "outputs": [
    {
     "name": "stdout",
     "output_type": "stream",
     "text": [
      "one\n",
      "two\n",
      "three\n",
      "four\n",
      "five\n",
      "\n",
      "['one', 'two', 'three', 'four', 'five']\n"
     ]
    }
   ],
   "source": [
    "skaiciai = ['one', 'two', 'three', 'four', 'five'] # ciklo sarasas naudojamas [], ciklo zodynas naudojamas {}\n",
    "\n",
    "for zodinis_skaicius in skaiciai: # for kintamasis turi atspindeti saraso reiksmes, taip sukurdamas nauja kintamaji\n",
    "    print(zodinis_skaicius) # print ivykdis PENKIS kartus\n",
    "print() # tarpas\n",
    "print(skaiciai)"
   ]
  },
  {
   "cell_type": "markdown",
   "metadata": {},
   "source": [
    "Atkreipkite dėmesį, kad kitose programavimo kalbose `skaicius` kintamąjį dažnai pakeičia `i`, kuris dažnai naudojamas kaip kintamasis cikluose. Tai yra konvencija ir reiškia \"indeksą\" arba \"iteraciją\". '`i`' kintamasis dažnai naudojamas valdyti iteracijų skaičių arba pasiekti elementus masyve ar sąraše. '`i`' plačiai suprantamas ir pripažįstamas ciklo kontekste. Python'e `for` ciklo žingsnio kintamasis įgauna elemento reikšmę, ne indeksą, ir geriausia, kad kintamojo pavadinimas reprezentuotų tą reikšmę, pvz. `skaicius`.\n",
    "\n",
    "`for` ciklas, kai jis taikomas aibėms ir tuplams, elgiasi taip pat kaip ir sąrašašuose. Apie juos vėliau."
   ]
  },
  {
   "cell_type": "markdown",
   "metadata": {},
   "source": [
    "### Greitas Uždavinys 1\n",
    "\n",
    "1. Sukurkite sąrašą su bent penkiais elementais\n",
    "1. Atspausdinkite jį naudodami `for` ciklą"
   ]
  },
  {
   "cell_type": "markdown",
   "metadata": {},
   "source": [
    "## Giedrius - uzduotis"
   ]
  },
  {
   "cell_type": "code",
   "execution_count": 6,
   "metadata": {},
   "outputs": [
    {
     "name": "stdout",
     "output_type": "stream",
     "text": [
      "Tomas\n",
      "Agne\n",
      "Saulius\n",
      "Tadas\n",
      "Rokas\n",
      "Ema\n"
     ]
    }
   ],
   "source": [
    "# jusu kodo vieta\n",
    "vardai = [\"Tomas\", \"Agne\", \"Saulius\", \"Tadas\", \"Rokas\", \"Ema\"]\n",
    "for vardas in vardai:\n",
    "    print(vardas)\n"
   ]
  },
  {
   "cell_type": "code",
   "execution_count": 18,
   "metadata": {},
   "outputs": [
    {
     "name": "stdout",
     "output_type": "stream",
     "text": [
      "Alytus,A,s\n",
      "Vilnius,V,s\n",
      "Kaunas,K,s\n",
      "Utena,U,a\n"
     ]
    }
   ],
   "source": [
    "miestai = ['Alytus', 'Vilnius', 'Kaunas', 'Utena']\n",
    "for miesto_pavadinimas in miestai:\n",
    "    print(miesto_pavadinimas, miesto_pavadinimas[0], miesto_pavadinimas[-1], sep=',') \n",
    "    # atspausdins: miestus, pirmas raides, paskutines raides ir viska per kableli"
   ]
  },
  {
   "cell_type": "markdown",
   "metadata": {},
   "source": [
    "---\n",
    "\n",
    "## `for` ciklo pritaikymas žodynui\n",
    "\n",
    "Taip pat galime naudoti `for` ciklą su žodynu. Yra keletas būdų tai padaryti.\n",
    "\n",
    "Šis ciklas iteruos per žodyno raktus ir grąžins kiekvieną raktą atskirai. \n",
    "\n",
    "**Pavyzdžiui**:\n"
   ]
  },
  {
   "cell_type": "code",
   "execution_count": 28,
   "metadata": {},
   "outputs": [
    {
     "name": "stdout",
     "output_type": "stream",
     "text": [
      "Rokas\n",
      "20\n",
      "Rokas 20\n",
      "Andrius\n",
      "34\n",
      "Andrius 34\n",
      "Laura\n",
      "25\n",
      "Laura 25\n"
     ]
    }
   ],
   "source": [
    "zmones = {'Rokas': 20, 'Andrius': 34, 'Laura': 25} # ciklo zodynas naudojamas {}, ciklo sarasas []\n",
    "\n",
    "for zmogus in zmones:\n",
    "    print(zmogus) # atspausdins tik zodyno rakta\n",
    "    print(zmones[zmogus]) # atspausdins tik zodyno rakto reiksme\n",
    "    print(zmogus, zmones[zmogus]) # astpausdins ir rakta ir reiksme"
   ]
  },
  {
   "cell_type": "code",
   "execution_count": 10,
   "metadata": {},
   "outputs": [
    {
     "name": "stdout",
     "output_type": "stream",
     "text": [
      "Rokas 20\n",
      "Andrius 34\n",
      "Laura 25\n"
     ]
    }
   ],
   "source": [
    "zmones = {'Rokas': 20, 'Andrius': 34, 'Laura': 25} # ciklo zodynas naudojamas {}, ciklo sarasas []\n",
    "\n",
    "for zmogus in zmones:\n",
    "    print(zmogus, zmones[zmogus]) # astpausdins ir rakta ir reiksme"
   ]
  },
  {
   "cell_type": "code",
   "execution_count": 11,
   "metadata": {},
   "outputs": [
    {
     "name": "stdout",
     "output_type": "stream",
     "text": [
      "20\n",
      "34\n",
      "25\n"
     ]
    }
   ],
   "source": [
    "zmones = {'Rokas': 20, 'Andrius': 34, 'Laura': 25} # ciklo zodynas naudojamas {}, ciklo sarasas []\n",
    "\n",
    "for zmogus in zmones:\n",
    "    print(zmones[zmogus]) # atspausdins tik zodyno rakto reiksme"
   ]
  },
  {
   "cell_type": "code",
   "execution_count": 12,
   "metadata": {},
   "outputs": [
    {
     "name": "stdout",
     "output_type": "stream",
     "text": [
      "Rokas\n",
      "Andrius\n",
      "Laura\n"
     ]
    }
   ],
   "source": [
    "zmones = {'Rokas': 20, 'Andrius': 34, 'Laura': 25} # ciklo zodynas naudojamas {}, ciklo sarasas []\n",
    "\n",
    "for zmogus in zmones:\n",
    "    print(zmogus) # atspausdins tik zodyno rakta"
   ]
  },
  {
   "cell_type": "markdown",
   "metadata": {},
   "source": [
    "### Greitas uždavinys 2\n",
    "\n",
    "Sukurkite vaisių žodyną, nurodydami kiekius kaip reikšmes, ir išspausdinkite visų vaisių raktinius žodžius"
   ]
  },
  {
   "cell_type": "markdown",
   "metadata": {},
   "source": [
    "Giedriaus uzdavinys"
   ]
  },
  {
   "cell_type": "code",
   "execution_count": 18,
   "metadata": {},
   "outputs": [
    {
     "name": "stdout",
     "output_type": "stream",
     "text": [
      "Obuolys 10\n",
      "Kriause 12\n",
      "Slyva 15\n",
      "Arbuzas 2\n"
     ]
    }
   ],
   "source": [
    "vaisiai = {\"Obuolys\": 10, \"Kriause\": 12, \"Slyva\": 15, \"Arbuzas\": 2}\n",
    "for vaisius in vaisiai:\n",
    "    print(vaisius, vaisiai[vaisius])"
   ]
  },
  {
   "cell_type": "code",
   "execution_count": 23,
   "metadata": {},
   "outputs": [
    {
     "name": "stdout",
     "output_type": "stream",
     "text": [
      "10\n",
      "12\n",
      "15\n",
      "2\n"
     ]
    }
   ],
   "source": [
    "vaisiai = {\"Obuolys\": 10, \"Kriause\": 12, \"Slyva\": 15, \"Arbuzas\": 2}\n",
    "for vaisius in vaisiai.values(): # yra metodas ir turi buti per TASKA su KABUTEMIS\n",
    "    print(vaisius)"
   ]
  },
  {
   "cell_type": "markdown",
   "metadata": {},
   "source": [
    "---\n",
    "\n",
    "Naudodami `.values()` žodyno metodus cikle, ciklas iteruos per žodyno vertybes ir grąžins kiekvieną vertę atskirai.\n",
    "\n",
    "`.values()` yra metodas ir turi buti per TASKA . su KABUTEMIS ()\n",
    "\n",
    "Pavyzdžiui:"
   ]
  },
  {
   "cell_type": "code",
   "execution_count": 25,
   "metadata": {},
   "outputs": [
    {
     "name": "stdout",
     "output_type": "stream",
     "text": [
      "20\n",
      "34\n",
      "25\n",
      "\n",
      "Rokas\n",
      "Andrius\n",
      "Laura\n",
      "\n",
      "Rokas\n",
      "Andrius\n",
      "Laura\n",
      "\n",
      "('Rokas', 20)\n",
      "('Andrius', 34)\n",
      "('Laura', 25)\n",
      "\n",
      "Rokas 20\n",
      "Andrius 34\n",
      "Laura 25\n",
      "\n",
      "20\n",
      "54\n",
      "79\n",
      "\n",
      "79\n"
     ]
    }
   ],
   "source": [
    "zmones = {'Rokas': 20, 'Andrius': 34, 'Laura': 25}\n",
    "\n",
    "for zmogaus_amzius in zmones.values(): # spausdins tik metus\n",
    "    print(zmogaus_amzius)\n",
    "print()\n",
    "for zmogaus_vardas in zmones: # spausdins tik varda\n",
    "    print(zmogaus_vardas)\n",
    "print()\n",
    "for zmogaus_vardas1 in zmones.keys(): # spausdins tik varda taip pat\n",
    "    print(zmogaus_vardas1)\n",
    "print()\n",
    "for zmogaus_info in zmones.items(): # spausdins varda, metus SKLIAUSTUOSE jei naudojame .items() ir priskiriame tik viena kintamaji\n",
    "    print(zmogaus_info)\n",
    "print()\n",
    "for zmogaus_info in zmones: # spausdins varda, metus: BE SKLIAUSTU\n",
    "    print(zmogaus_info, zmones[zmogaus_info]) \n",
    "print()\n",
    "suma = 0\n",
    "for metai in zmones:\n",
    "    suma += zmones[metai]\n",
    "    print(suma) # bendra metus suma\n",
    "print()\n",
    "print(suma) # bendra metu suma\n"
   ]
  },
  {
   "cell_type": "markdown",
   "metadata": {},
   "source": [
    "### Greitas uždavinys 3\n",
    "\n",
    "Susumuokite visus GU2 sukurto vaisių sąrašo vaisių kiekius, iteruodami žodyno reikšmes, ir išspausdinkite rezultatą po ciklo"
   ]
  },
  {
   "cell_type": "markdown",
   "metadata": {},
   "source": [
    "Giedriaus uzdavinys - su pagalba destytojo"
   ]
  },
  {
   "cell_type": "code",
   "execution_count": 52,
   "metadata": {},
   "outputs": [
    {
     "name": "stdout",
     "output_type": "stream",
     "text": [
      "\n",
      "39\n"
     ]
    }
   ],
   "source": [
    "vaisiai = {\"Obuolys\": 10, \"Kriause\": 12, \"Slyva\": 15, \"Arbuzas\": 2}\n",
    "\n",
    "# GU2 - Greita Uzduotis 2 pasirinkimai\n",
    "\n",
    "suma = 0 # reikia pradinio tasko nuo kurio prades skaiciavima\n",
    "for vaisius in vaisiai:\n",
    "    suma += vaisiai[vaisius]\n",
    "    print(suma) # spausdins kiekviena pridedamas kita jeigu print vienoje linijoje \n",
    "print() # tuscia eilute\n",
    "print(suma) # spausdins bendra suma jeigu print atitraukta i kaire!\n"
   ]
  },
  {
   "cell_type": "code",
   "execution_count": 60,
   "metadata": {},
   "outputs": [
    {
     "name": "stdout",
     "output_type": "stream",
     "text": [
      "35\n",
      "122\n",
      "177\n",
      "177\n"
     ]
    }
   ],
   "source": [
    "# QA 3 - destytojo atsakymas\n",
    "kruopos = {'mieziai': 35, 'zirniai': 87, 'pupos': 55}\n",
    "suma = 0\n",
    "for kose in kruopos:\n",
    "    suma += kruopos[kose]\n",
    "    print(suma) # prideda po viena i bendra suma\n",
    "print(suma) # sudeda visus is kart\n"
   ]
  },
  {
   "cell_type": "markdown",
   "metadata": {},
   "source": [
    "---\n",
    "\n",
    "Naudodami `.count()` žodyno metodus cikle, apskaiciuos pasikartojancius tuos pacius dalykus.\n",
    " - reikia nurodyti () reiksme skliaustuose\n",
    "\n",
    "Pavyzdžiui:"
   ]
  },
  {
   "cell_type": "code",
   "execution_count": 62,
   "metadata": {},
   "outputs": [
    {
     "name": "stdout",
     "output_type": "stream",
     "text": [
      "2 2s in [1, 2, 3, 2]\n"
     ]
    }
   ],
   "source": [
    "#pavyzdys\n",
    "\n",
    "my_list = [1, 2, 3, 2]\n",
    "count_of_2 = my_list.count(2)  # Suskaičiuoja 2 pasirodymus\n",
    "# count_of_2 yra 2\n",
    "print(count_of_2, \"2s in\", my_list)"
   ]
  },
  {
   "cell_type": "code",
   "execution_count": null,
   "metadata": {},
   "outputs": [],
   "source": [
    "raides = ['a', 'a', 'b', 'c', 'a', 'd', 'a', 'b']\n",
    "suskaiciuoti_a = raides.count('a') # apskaiciuos kiek a raidziu yra, reikia priskirti nauja kintamaji\n",
    "print(\"Raidziu a bus:\", suskaiciuoti_a) \n",
    "print()\n",
    "raides = raides.count('a') # taip apskaiciuos kiek radziu yra a, bet pakeis kintamaji \"raides\" i kita reiksme\n",
    "print(\"Raidziu a bus:\", raides)\n",
    "print()\n",
    "raides = raides.count('b') # nebeveiks, nes kintamasis buvo pakeistas\n",
    "print(\"Raidziu b bus:\", raides)"
   ]
  },
  {
   "cell_type": "markdown",
   "metadata": {},
   "source": [
    "---\n",
    "\n",
    "Kai nurodome raktą, vertę ir `.items()`, ciklas iteruos per žodyno raktus, vertes ir grąžins kiekvieną raktą ir vertę atskirai. \n",
    "\n",
    "**Pavyzdžiui**:"
   ]
  },
  {
   "cell_type": "code",
   "execution_count": 26,
   "metadata": {},
   "outputs": [
    {
     "name": "stdout",
     "output_type": "stream",
     "text": [
      "('Rokas', 20)\n",
      "('Andrius', 34)\n",
      "('Laura', 25)\n",
      "20\n",
      "34\n",
      "25\n",
      "Rokas\n",
      "Andrius\n",
      "Laura\n",
      "Rokas 20\n",
      "Andrius 34\n",
      "Laura 25\n"
     ]
    }
   ],
   "source": [
    "zmones = {'Rokas': 20, 'Andrius': 34, 'Laura': 25}\n",
    "\n",
    "for vardas in zmones.items(): # FOR tik vienas kintamasis\n",
    "    print(vardas) # atspausdins kaip TUPLE skliaustuose ir rakta ir reiksme\n",
    "for vardas, amzius in zmones.items(): # FOR priskiriam du kintamuosius: pirmas - raktas, antras - reiksme\n",
    "    print(amzius) # atspausdins tik pasirinkta nauja kintamaji - amzius (value)\n",
    "for vardas, amzius in zmones.items():\n",
    "    print(vardas) # atspausdins tik pasirinkta nauja kintamaji - vardas (key)\n",
    "for vardas, amzius in zmones.items(): \n",
    "    print(vardas, amzius) # atspausdins abu"
   ]
  },
  {
   "cell_type": "markdown",
   "metadata": {},
   "source": [
    "Svarbu pažymėti, kad šį kartą indekso kintamasis buvo pakeistas į kintamuosius '`vardas`' ir '`amzius`', atitinkamai reprezentuojant žodyno elementus."
   ]
  },
  {
   "cell_type": "markdown",
   "metadata": {},
   "source": [
    "### Greitas uždavinys 4\n",
    "\n",
    "Panaudojant `items()` žodyno metodą ir `for` ciklą, suformatuotai išspausdinkite vaisių sąrašą su kiekiais, kiekius kaip stulpelį lygiuodami iš dešinės"
   ]
  },
  {
   "cell_type": "markdown",
   "metadata": {},
   "source": [
    "Giedrius - su copy/paste is atsakymo"
   ]
  },
  {
   "cell_type": "code",
   "execution_count": 85,
   "metadata": {},
   "outputs": [
    {
     "name": "stdout",
     "output_type": "stream",
     "text": [
      "Obuolys 10\n",
      "Obuolys                      10\n",
      "Kriause 12\n",
      "Kriause                      12\n",
      "Slyva 15\n",
      "Slyva                        15\n",
      "Arbuzas 2\n",
      "Arbuzas                       2\n"
     ]
    }
   ],
   "source": [
    "vaisiai = {\"Obuolys\": 10, \"Kriause\": 12, \"Slyva\": 15, \"Arbuzas\": 2}\n",
    "\n",
    "# QA 4 - destytojo atsakymas\n",
    "\n",
    "for vaisius, kiekis in vaisiai.items():\n",
    "    print(vaisius, kiekis) # atspausdins rakta ir reiksme salia\n",
    "    print(f\"{vaisius:20} {kiekis:>10g}\") #g (gneral) - nurodo tarpa/zingsni kitam irasui. g - nebutina rasyti"
   ]
  },
  {
   "cell_type": "markdown",
   "metadata": {},
   "source": [
    "---\n",
    "\n",
    "Galima kreiptis į žodyno elementus su raktu cikle, naudojant `keys()` metodą. Pavyzdys su gerąja praktika keičiant elemento reikšmę:"
   ]
  },
  {
   "cell_type": "code",
   "execution_count": 89,
   "metadata": {},
   "outputs": [
    {
     "name": "stdout",
     "output_type": "stream",
     "text": [
      "Dabar Rokas 20\n",
      "Po pakeitimo Rokas 21\n",
      "Dabar Andrius 34\n",
      "Po pakeitimo Andrius 35\n",
      "Dabar Laura 25\n",
      "Po pakeitimo Laura 26\n"
     ]
    }
   ],
   "source": [
    "zmones = {'Rokas': 20, 'Andrius': 34, 'Laura': 25}\n",
    "\n",
    "for zmogus in zmones.keys(): # spausdins tik raktus\n",
    "    print(\"Dabar\", zmogus, zmones[zmogus]) # spausdins raktus, bet paprasysime ir reiksme []\n",
    "    zmones[zmogus] += 1 # prides viena prie reiksmes\n",
    "    print(\"Po pakeitimo\", zmogus, zmones[zmogus])"
   ]
  },
  {
   "cell_type": "markdown",
   "metadata": {},
   "source": [
    "### Greitas uždavinys 5\n",
    "\n",
    "Sumažinkite visus vaisius per 10. Jeigu vaisiaus kiekis tapo mažesnis už 0, nustatykite tą reikšmę kaip teigiamą panaudojant `abs()` funkcija."
   ]
  },
  {
   "cell_type": "markdown",
   "metadata": {},
   "source": [
    "Giedrius - su destytojo atsakymu"
   ]
  },
  {
   "cell_type": "code",
   "execution_count": 90,
   "metadata": {},
   "outputs": [
    {
     "name": "stdout",
     "output_type": "stream",
     "text": [
      "{'Obuolys': 0, 'Kriause': 2, 'Slyva': 5, 'Arbuzas': -8}\n"
     ]
    }
   ],
   "source": [
    "vaisiai = {\"Obuolys\": 10, \"Kriause\": 12, \"Slyva\": 15, \"Arbuzas\": 2}\n",
    "\n",
    "# QA 5 - destytojo atsakymas\n",
    "\n",
    "for vaisius in vaisiai.keys(): # keys - rakto reiksme: Obuolys - RAKTAS, 10 - REIKSME\n",
    "    vaisiai[vaisius] -= 10 # atspausdintu su - zenklu\n",
    "    if vaisiai[vaisius] < 0: # paversime '-' i '+'\n",
    "        vaisiai[vaisius] = abs(vaisiai[vaisius]) # abs - pakeicia neigiama skaiciu i teigiama\n",
    "print(vaisiai)"
   ]
  },
  {
   "cell_type": "markdown",
   "metadata": {},
   "source": [
    "---\n",
    "\n",
    "## `for` ciklas su `range()` funkcija\n",
    "\n",
    "`range()` funkcija generuoja skaičių seka nuo pradžios iki pabaigos. Galime naudoti `for` ciklą su `range` funkcija, kad atliktume veiksmus su kiekvienu skaičiumi sekoje."
   ]
  },
  {
   "cell_type": "code",
   "execution_count": 15,
   "metadata": {},
   "outputs": [
    {
     "name": "stdout",
     "output_type": "stream",
     "text": [
      "1\n",
      "2\n",
      "3\n",
      "4\n",
      "5\n"
     ]
    }
   ],
   "source": [
    "for skaicius in range(1, 6): # nebutinai reikia naudoti funkcijai kintamaji, bet rezultata is kart jam priskiriant nauja kintamaji\n",
    "    print(skaicius)"
   ]
  },
  {
   "cell_type": "code",
   "execution_count": 37,
   "metadata": {},
   "outputs": [
    {
     "name": "stdout",
     "output_type": "stream",
     "text": [
      "0\n",
      "1\n",
      "2\n",
      "3\n",
      "4\n",
      "5\n"
     ]
    }
   ],
   "source": [
    "for skaicius in range(6):\n",
    "    print(skaicius)"
   ]
  },
  {
   "cell_type": "code",
   "execution_count": 40,
   "metadata": {},
   "outputs": [
    {
     "name": "stdout",
     "output_type": "stream",
     "text": [
      "3\n",
      "4\n",
      "5\n",
      "6\n"
     ]
    }
   ],
   "source": [
    "for skaicius in range(3, 7):\n",
    "    print(skaicius)"
   ]
  },
  {
   "cell_type": "markdown",
   "metadata": {},
   "source": [
    "### Greitas uždavinys 6\n",
    "\n",
    "Parašykite ciklą, skaičiuojantį nuo 10 iki 0 atbulyn."
   ]
  },
  {
   "cell_type": "code",
   "execution_count": 42,
   "metadata": {},
   "outputs": [
    {
     "name": "stdout",
     "output_type": "stream",
     "text": [
      "10\n",
      "9\n",
      "8\n",
      "7\n",
      "6\n",
      "5\n",
      "4\n",
      "3\n",
      "2\n",
      "1\n",
      "0\n",
      "1\n",
      "2\n",
      "3\n",
      "4\n",
      "5\n",
      "6\n",
      "7\n",
      "8\n",
      "9\n",
      "10\n"
     ]
    }
   ],
   "source": [
    "# QA 6\n",
    "\n",
    "for step in range(10, 0, -1):\n",
    "    print(step)\n",
    "for step in range(0, 11):\n",
    "    print(step)"
   ]
  },
  {
   "cell_type": "markdown",
   "metadata": {},
   "source": [
    "---\n",
    "\n",
    "## Ciklo nutraukimo komanda `break` - dazniausiai naudojamas 'while' cikluose\n",
    "Komandą `break` naudojame, norėdami nutraukti `for` ciklą ir tęsti su sekančia kodo dalimi."
   ]
  },
  {
   "cell_type": "code",
   "execution_count": 29,
   "metadata": {},
   "outputs": [
    {
     "name": "stdout",
     "output_type": "stream",
     "text": [
      "1\n",
      "2\n",
      "radau 3\n"
     ]
    }
   ],
   "source": [
    "skaiciai = [1, 2, 3, 4, 5] #sarasas - []\n",
    "\n",
    "for skaicius in skaiciai:\n",
    "    if skaicius == 3: # jei skaicius lygus TRIMS, ciklas sustos\n",
    "        radau = 3\n",
    "        break\n",
    "    print(skaicius)\n",
    "print('radau', radau)"
   ]
  },
  {
   "cell_type": "markdown",
   "metadata": {},
   "source": [
    "Kaip matote, programa nutraukė ciklą pasiekusi skaičių \"`3`\" ir nespausdino kitų skaičių, kurie buvo išvardyti po jo."
   ]
  },
  {
   "cell_type": "code",
   "execution_count": 43,
   "metadata": {},
   "outputs": [
    {
     "name": "stdout",
     "output_type": "stream",
     "text": [
      "1\n",
      "2\n"
     ]
    }
   ],
   "source": [
    "skaiciai = [1, 2, 3, 4, 5]\n",
    "\n",
    "for skaicius in skaiciai:\n",
    "    if skaicius >= 3: # jei skaicius lygus arbs didesnis nei Trys, ciklas sustos\n",
    "        break\n",
    "    print(skaicius)"
   ]
  },
  {
   "cell_type": "code",
   "execution_count": 47,
   "metadata": {},
   "outputs": [
    {
     "name": "stdout",
     "output_type": "stream",
     "text": [
      "1\n",
      "2\n",
      "3\n",
      "4\n",
      "5\n"
     ]
    }
   ],
   "source": [
    "skaiciai = [1, 2, 3, 4, 5]\n",
    "\n",
    "for skaicius in skaiciai:\n",
    "    if skaicius <= 0: # jei skaicius lygus arbs didesnis nei 0, ciklas sustos atspausdinus visas reiksmes\n",
    "        break\n",
    "    print(skaicius)"
   ]
  },
  {
   "cell_type": "markdown",
   "metadata": {},
   "source": [
    "### Greitas uždavinys 7\n",
    "\n",
    "Iterkuokite vaisių žodyną tol, kol rasite konkretų vaisių, pvz. obuolius. Radę, išspausdinkite to vaisiaus kiekį ir nutraukite ciklą. Taip pat išspausdinkite vaisių pavadinimus, kuriuos palietėte ieškojimo metu, be kiekių."
   ]
  },
  {
   "cell_type": "code",
   "execution_count": 101,
   "metadata": {},
   "outputs": [
    {
     "name": "stdout",
     "output_type": "stream",
     "text": [
      "Obuolys\n",
      "Kriause\n",
      "obuoliai 20\n",
      "\n",
      "Obuolys\n",
      "Kriause\n",
      "obuoliai\n",
      "Slyva\n",
      "Arbuzas\n"
     ]
    }
   ],
   "source": [
    "vaisiai = {\"Obuolys\": 10, \"Kriause\": 12, \"obuoliai\": 20, \"Slyva\": 15, \"Arbuzas\": 2} # zodynas - {}\n",
    "\n",
    "# QA 7\n",
    "\n",
    "for vaisius in vaisiai:\n",
    "    if vaisius == 'obuoliai':\n",
    "        print(vaisius, vaisiai[vaisius])\n",
    "        break\n",
    "    print(vaisius) # nespausdins nes surado \"obuoliai\"\n",
    "print()\n",
    "for vaisius in vaisiai:\n",
    "    if vaisius == 'Vynuoge':\n",
    "        print(vaisius, vaisiai[vaisius])\n",
    "        break\n",
    "    print(vaisius) # atspausdins visus, nes nerado \"Vynuoge\""
   ]
  },
  {
   "cell_type": "markdown",
   "metadata": {},
   "source": [
    "---\n",
    "\n",
    "## Ciklo pratęsimo komanda `continue`\n",
    "\n",
    "Kai naudojame pratęsimo komandą `continue`, programa praleidžia šią iteraciją ir tęsia su kitu elementu kolekcijoje. \n",
    "\n",
    "Pavyzdžiui:"
   ]
  },
  {
   "cell_type": "code",
   "execution_count": 104,
   "metadata": {},
   "outputs": [
    {
     "name": "stdout",
     "output_type": "stream",
     "text": [
      "1\n",
      "3\n",
      "7\n",
      "9\n",
      "\n",
      "1\n",
      "2\n",
      "4\n",
      "5\n",
      "7\n",
      "8\n"
     ]
    }
   ],
   "source": [
    "skaiciai = [1, 2, 3, 4, 5, 6, 7, 8, 9]\n",
    "\n",
    "for skaicius in skaiciai:\n",
    "    if skaicius % 2 == 0:\n",
    "        continue # prates funkcija be skaiciu kurie pasidalino is %2: 2, 4, 6, 8 - trumpai tariant juos pasalins\n",
    "    if skaicius == 5: # prates funkcija be skaiciu kurie == 5: 5 - trumpai tariant 5 pasalins\n",
    "        continue\n",
    "    print(skaicius) # atspausdins likusius: 1, 3, 7, 9\n",
    "print()\n",
    "for skaicius in skaiciai:\n",
    "    if skaicius %3 == 0: # prates funkcija be skaiciu kurie pasidalino is %3: 3, 6, 9 - trumpai tariant juos pasalins ir nespausdins\n",
    "        continue\n",
    "    print(skaicius)"
   ]
  },
  {
   "cell_type": "markdown",
   "metadata": {},
   "source": [
    "Kaip matote, programa praleido lyginius skaičius ir 5, ir tęsė su spausdinimą likusių skaičių sąraše. Veliau praleido skaicius kurie dalinosi is 3"
   ]
  },
  {
   "cell_type": "markdown",
   "metadata": {},
   "source": [
    "### Greitas uždavinys 8\n",
    "\n",
    "Iteruojant per vaisių žodyną, išspausdinkite tik tų vaisių pavadinimus, kurių kiekis yra daugiau negu 10. Sprendime panaudokite `continue`."
   ]
  },
  {
   "cell_type": "code",
   "execution_count": 54,
   "metadata": {},
   "outputs": [
    {
     "name": "stdout",
     "output_type": "stream",
     "text": [
      "Kriause            12\n",
      "Slyva              15\n"
     ]
    }
   ],
   "source": [
    "vaisiai = {\"Obuolys\": 10, \"Kriause\": 12, \"Slyva\": 15, \"Arbuzas\": 2}\n",
    "\n",
    "# QA 8\n",
    "\n",
    "for vaisius, kiekis in vaisiai.items():\n",
    "    if kiekis <= 10:\n",
    "        continue\n",
    "    print(f\"{vaisius:10} {kiekis:>10g}\")"
   ]
  },
  {
   "cell_type": "markdown",
   "metadata": {},
   "source": [
    "---\n",
    "\n",
    "## `else` blokas `for` cikle\n",
    "\n",
    "`else` blokas naudojamas atlikti tam tikrus veiksmus, kai `for` ciklas pasiekia savo pabaigą."
   ]
  },
  {
   "cell_type": "code",
   "execution_count": 51,
   "metadata": {},
   "outputs": [
    {
     "name": "stdout",
     "output_type": "stream",
     "text": [
      "1\n",
      "2\n",
      "3\n",
      "4\n",
      "5\n",
      "for ciklo pabaiga.\n"
     ]
    }
   ],
   "source": [
    "skaiciai = [1, 2, 3, 4, 5] # sarasas []\n",
    "\n",
    "for skaicius in skaiciai:\n",
    "    print(skaicius)\n",
    "else:\n",
    "    print('for ciklo pabaiga.')"
   ]
  },
  {
   "cell_type": "code",
   "execution_count": 107,
   "metadata": {},
   "outputs": [
    {
     "name": "stdout",
     "output_type": "stream",
     "text": [
      "1\n",
      "2\n",
      "3\n",
      "4\n",
      "5\n",
      "for ciklo pabaiga.\n"
     ]
    }
   ],
   "source": [
    "skaiciai = [1, 2, 3, 4, 5] # sarasas []\n",
    "\n",
    "for skaicius in skaiciai:\n",
    "    if not type(skaicius) == int: # galime dadeti kazkokia salyga\n",
    "        break\n",
    "    print(skaicius)\n",
    "else:\n",
    "    print('for ciklo pabaiga.')"
   ]
  },
  {
   "cell_type": "code",
   "execution_count": 52,
   "metadata": {},
   "outputs": [
    {
     "name": "stdout",
     "output_type": "stream",
     "text": [
      "1\n",
      "2\n",
      "3\n",
      "4\n"
     ]
    }
   ],
   "source": [
    "skaiciai = [1, 2, 3, 4, 'triuksmas', 5]\n",
    "\n",
    "for skaicius in skaiciai:\n",
    "    if not type(skaicius) == int: \n",
    "        break # ciklas sustoja ties 'triuksmas'\n",
    "    print(skaicius)\n",
    "else:\n",
    "    print('for ciklo pabaiga.')"
   ]
  },
  {
   "cell_type": "code",
   "execution_count": 54,
   "metadata": {},
   "outputs": [
    {
     "name": "stdout",
     "output_type": "stream",
     "text": [
      "1\n",
      "2\n",
      "3\n",
      "4\n",
      "5\n",
      "for ciklo pabaiga.\n"
     ]
    }
   ],
   "source": [
    "skaiciai = [1, 2, 'labas', 3, 4, 'triuksmas', 5]\n",
    "\n",
    "for skaicius in skaiciai:\n",
    "    if not type(skaicius) == int: \n",
    "        continue # ciklas prasites be 'labas' ir 'triuksmas' nes jie yra str - stringas (raides)\n",
    "    print(skaicius)\n",
    "else:\n",
    "    print('for ciklo pabaiga.')"
   ]
  },
  {
   "cell_type": "markdown",
   "metadata": {},
   "source": [
    "Jei ciklą nutrauksime naudodami `break` komandą, `else` sąlygos blokas nebus vykdomas."
   ]
  },
  {
   "cell_type": "code",
   "execution_count": 50,
   "metadata": {},
   "outputs": [
    {
     "name": "stdout",
     "output_type": "stream",
     "text": [
      "1\n",
      "2\n",
      "4\n",
      "5\n",
      "Skaiciu 3 nespausdins\n"
     ]
    }
   ],
   "source": [
    "skaiciai = [1, 2, 3, 4, 5] #sarasas - []\n",
    "\n",
    "for skaicius in skaiciai:\n",
    "    if skaicius == 3: # jei skaicius lygus TRIMS, ciklas tesis be 3\n",
    "        continue\n",
    "    print(skaicius)\n",
    "else:\n",
    "    print(f\"Skaiciu 3 nespausdins\")"
   ]
  },
  {
   "cell_type": "markdown",
   "metadata": {},
   "source": [
    "### Greitas uždavinys 9\n",
    "\n",
    "Sutikrinkite, ar visų vaisių kiekiai yra pozityvūs skaičiai. Jeigu taip, išspausdinkite pranešimą, kad vaisių sąrašas tvarkingas. Radę klaidą, išspausdinkite klaidos pranešimą. Fiktyviai pamodifikuokite vaisių žodyną, kad iššaukti klaidą."
   ]
  },
  {
   "cell_type": "code",
   "execution_count": 109,
   "metadata": {},
   "outputs": [
    {
     "name": "stdout",
     "output_type": "stream",
     "text": [
      "Kriause vaisiaus kiekis \"12.5\" yra blogas\n"
     ]
    }
   ],
   "source": [
    "vaisiai = {\"Obuolys\": 10, \"Kriause\": 12.5, \"Slyva\": 15, \"Arbuzas\": 2}\n",
    "\n",
    "# QA 9\n",
    "\n",
    "for vaisius, kiekis in vaisiai.items():\n",
    "    if not type(kiekis) in (int, float) or kiekis < 0:\n",
    "        print(f\"{vaisius} vaisiaus kiekis \\\"{kiekis}\\\" yra blogas\")\n",
    "        break\n",
    "else:\n",
    "    print(\"visi vaisių kiekiai tvarkingi\")"
   ]
  },
  {
   "cell_type": "code",
   "execution_count": 112,
   "metadata": {},
   "outputs": [
    {
     "name": "stdout",
     "output_type": "stream",
     "text": [
      "Kriause vaisiaus kiekis \"du\" yra blogas\n"
     ]
    }
   ],
   "source": [
    "vaisiai = {\"Obuolys\": 10, \"Kriause\": 'du', \"Slyva\": 15, \"Arbuzas\": 2}\n",
    "\n",
    "# QA 9\n",
    "\n",
    "for vaisius, kiekis in vaisiai.items():\n",
    "    if not type(kiekis) in (int, float) or kiekis < 0:\n",
    "        print(f\"{vaisius} vaisiaus kiekis \\\"{kiekis}\\\" yra blogas\")\n",
    "        break\n",
    "else:\n",
    "    print(\"visi vaisių kiekiai tvarkingi\")"
   ]
  },
  {
   "cell_type": "markdown",
   "metadata": {},
   "source": [
    "---\n",
    "\n",
    "## Sąrašo iteracija su indeksu\n",
    "\n",
    "`enumerate()` funkcija, naudojama kartu su `for` ciklu, grąžina poras, kur pirmasis kiekvienos poros elementas yra elemento indeksas, o antrasis - pats sąrašo elementas. \n",
    "\n",
    "Pavyzdžiui:"
   ]
  },
  {
   "cell_type": "code",
   "execution_count": 45,
   "metadata": {},
   "outputs": [
    {
     "name": "stdout",
     "output_type": "stream",
     "text": [
      "0 ananasas\n",
      "1 bananas\n",
      "2 citrika\n",
      "3 datulė\n"
     ]
    }
   ],
   "source": [
    "vaisiai = ['ananasas', 'bananas', 'citrika', 'datulė']\n",
    "for indeksas, vaisius in enumerate(vaisiai): # butina nurodyti nauja kintamaji indeksavimui\n",
    "    print(indeksas, vaisius)"
   ]
  },
  {
   "cell_type": "code",
   "execution_count": 58,
   "metadata": {},
   "outputs": [
    {
     "name": "stdout",
     "output_type": "stream",
     "text": [
      "1 ananasas\n",
      "2 bananas\n",
      "3 citrika\n",
      "4 datulė\n"
     ]
    }
   ],
   "source": [
    "vaisiai = ['ananasas', 'bananas', 'citrika', 'datulė']\n",
    "for eiles_numeris, vaisius in enumerate(vaisiai): # butina nurodyti nauja kintamaji indeksavimui\n",
    "    print(eiles_numeris + 1, vaisius) # pridejus +1 sunumeruos vaisius nuo 1 iki 4, zmogui skaitoma kalba. Kitu atveju ir visada nuo NULIO!"
   ]
  },
  {
   "cell_type": "code",
   "execution_count": 126,
   "metadata": {},
   "outputs": [
    {
     "name": "stdout",
     "output_type": "stream",
     "text": [
      "0 Tomas\n",
      "1 Saulius\n",
      "2 Lina\n"
     ]
    }
   ],
   "source": [
    "vardai = {'Tomas': 20, 'Saulius': 35, 'Lina': 39} # neveikia su zodynu, atspausdina tik raktus\n",
    "for eiles_numeris, vardas in enumerate(vardai):\n",
    "    print(eiles_numeris, vardas)"
   ]
  },
  {
   "cell_type": "markdown",
   "metadata": {},
   "source": [
    "### Greitas uždavinys 10\n",
    "\n",
    "Sukurkite sąrašą knygų, kurias vis neprisiruošiate perskaityti, ir atspausdinkite jų sunumeruotą sąrašą."
   ]
  },
  {
   "cell_type": "code",
   "execution_count": 132,
   "metadata": {},
   "outputs": [
    {
     "name": "stdout",
     "output_type": "stream",
     "text": [
      "0: \"Homo Deus: A Brief History of Tomorrow\" by: Yuval Noah Harari\n",
      "1: \"Children of Time\" by: Adrian Tchaikovsky\n",
      "2: \"We Are Legion (We Are Bob): Bobiverse, Book 1\" by: Dennis E. Taylor\n",
      "3: \"Guns, Germs and Steel: The Fate of Human Societies\" by: Jared Diamond\n"
     ]
    }
   ],
   "source": [
    "# QA 10\n",
    "\n",
    "knygos = [\n",
    "    '\"Homo Deus: A Brief History of Tomorrow\" by: Yuval Noah Harari',\n",
    "    '\"Children of Time\" by: Adrian Tchaikovsky',\n",
    "    '\"We Are Legion (We Are Bob): Bobiverse, Book 1\" by: Dennis E. Taylor',\n",
    "    '\"Guns, Germs and Steel: The Fate of Human Societies\" by: Jared Diamond',\n",
    "]\n",
    "for eile, knyga in enumerate(knygos):\n",
    "    print(f'{eile}: {knyga}')"
   ]
  },
  {
   "cell_type": "code",
   "execution_count": null,
   "metadata": {},
   "outputs": [],
   "source": [
    "# jusu kodo vieta"
   ]
  },
  {
   "cell_type": "markdown",
   "metadata": {},
   "source": [
    "Valdemaro kodas"
   ]
  },
  {
   "cell_type": "code",
   "execution_count": 129,
   "metadata": {},
   "outputs": [
    {
     "name": "stdout",
     "output_type": "stream",
     "text": [
      " 01 - Futurum Est Nostrum\n",
      " 02 - God Save The Rave\n",
      " 03 - Never Stop The Show\n",
      " 04 - We Love Hardcore\n",
      " 05 - Paul Is Dead\n",
      " 06 - Bassdrum\n",
      " 07 - Which Light Switch Is Which?\n",
      " 08 - FCK 2020\n",
      " 09 - Groundhog Day\n",
      " 10 - Hang The DJ\n",
      " 11 - Rave Teacher Rave Teacher (Somebody Like Me) (Album Edit)\n",
      " 12 - Анастасия\n",
      " 13 - Devil's Symphony\n",
      " 14 - These Days\n",
      " 15 - Wand'rin Star\n"
     ]
    }
   ],
   "source": [
    "tracklist = ['Futurum Est Nostrum', 'God Save The Rave', 'Never Stop The Show', 'We Love Hardcore', 'Paul Is Dead',\n",
    "'Bassdrum', 'Which Light Switch Is Which?', 'FCK 2020', 'Groundhog Day', 'Hang The DJ', 'Rave Teacher Rave Teacher (Somebody Like Me) (Album Edit)', 'Анастасия', \"Devil's Symphony\", 'These Days', \"Wand'rin Star\"]\n",
    "for indeksas, reikšmė in enumerate(tracklist):\n",
    "    print(f' {(indeksas+1):02d} - {reikšmė}') # :02d indeksuos 01, 02 ir t.t."
   ]
  },
  {
   "cell_type": "markdown",
   "metadata": {},
   "source": [
    "Zano kodas"
   ]
  },
  {
   "cell_type": "code",
   "execution_count": 22,
   "metadata": {},
   "outputs": [
    {
     "name": "stdout",
     "output_type": "stream",
     "text": [
      "Word 1: labas, Length: 5\n",
      "Word 2: viso, Length: 4\n",
      "Word 3: aciu, Length: 4\n",
      "Word 4: iki, Length: 3\n",
      "Word 5: sudie, Length: 5\n"
     ]
    }
   ],
   "source": [
    "words = []\n",
    "for i in range(5):\n",
    "    user_input = input(f\"Enter number/word {i + 1} : \")\n",
    "    words.append(user_input)\n",
    "\n",
    "for i in range(len(words)):\n",
    "    word = words[i]\n",
    "    print(f\"Word {i + 1}: {word}, Length: {len(word)}\")"
   ]
  },
  {
   "cell_type": "markdown",
   "metadata": {},
   "source": [
    "Evaldo kodas"
   ]
  },
  {
   "cell_type": "code",
   "execution_count": 25,
   "metadata": {},
   "outputs": [
    {
     "name": "stdout",
     "output_type": "stream",
     "text": [
      "0: namas kurio ilgis yra: 5\n",
      "1: sodas kurio ilgis yra: 5\n",
      "2: butas kurio ilgis yra: 5\n",
      "3: kaimas kurio ilgis yra: 6\n",
      "4: kelias kurio ilgis yra: 6\n"
     ]
    }
   ],
   "source": [
    "my_list = []\n",
    "for i in range(1,6):\n",
    "    a = input('iveskite zodi: ')\n",
    "    my_list.append(a)\n",
    "for indeksas, zodis in enumerate(my_list):\n",
    "    print(f'{indeksas}: {zodis} kurio ilgis yra: {len(zodis)}')"
   ]
  },
  {
   "cell_type": "markdown",
   "metadata": {},
   "source": [
    "# `Greitas Uždavinys 3`\n",
    "\n",
    "Parašykite programą. kuri atspausdintų visus keliamuosius metus nuo 1900 iki 2100."
   ]
  },
  {
   "cell_type": "code",
   "execution_count": null,
   "metadata": {},
   "outputs": [],
   "source": [
    "# jusu kodo vieta"
   ]
  },
  {
   "cell_type": "markdown",
   "metadata": {},
   "source": [
    "TODO: perrašyti greitas užduotis kiekvienam medžiagos punktui, o dabartinius GU 2-3 įdėti kaip uždutis medžiagos gale."
   ]
  },
  {
   "cell_type": "markdown",
   "metadata": {},
   "source": [
    "---\n",
    "\n",
    "## Įterptinė (nested) `for` ciklo Konstrukcija\n",
    "\n",
    "Įterptinė(nested) `for` ciklo konstrukcija leidžia kurti ciklus, kuriuose vienas ar daugiau vidinių ciklų vykdomi kiekvienai išorinio ciklo iteracijai. \n",
    "- Tai ypač naudinga, kai turime duomenų struktūrą, kurią reikia analizuoti arba apdoroti sudėtingu būdu. \n",
    "\n",
    "**Pavyzdžiui**:"
   ]
  },
  {
   "cell_type": "code",
   "execution_count": 50,
   "metadata": {},
   "outputs": [
    {
     "name": "stdout",
     "output_type": "stream",
     "text": [
      "žalia ąžuolas yra gražus\n",
      "žalia beržas yra gražus\n",
      "žalia liepa yra gražus\n",
      "geltona ąžuolas yra gražus\n",
      "geltona beržas yra gražus\n",
      "geltona liepa yra gražus\n",
      "raudona ąžuolas yra gražus\n",
      "raudona beržas yra gražus\n",
      "raudona liepa yra gražus\n"
     ]
    }
   ],
   "source": [
    "spalvos = ['žalias', 'geltonas', 'raudonas']\n",
    "medziai = ['ąžuolas', 'beržas', 'uosis']\n",
    "\n",
    "for spalva in spalvos:\n",
    "    for medis in medziai:\n",
    "        print(spalva, medis, 'yra gražus')"
   ]
  },
  {
   "cell_type": "markdown",
   "metadata": {},
   "source": [
    "### Greitas uždavinys 11\n",
    "\n",
    "Čia yra mokinių ir jų pažymių žodynas:"
   ]
  },
  {
   "cell_type": "code",
   "execution_count": 59,
   "metadata": {},
   "outputs": [],
   "source": [
    "mokinio_pazymiai = {\n",
    "    'Alicija': {'Matematika': 85, 'Mokslas': 92, 'Istorija': 88},\n",
    "    'Bobas': {'Matematika': 78, 'Mokslas': 85, 'Istorija': 90},\n",
    "    'Charlis': {'Matematika': 92, 'Mokslas': 88, 'Istorija': 76}\n",
    "}"
   ]
  },
  {
   "cell_type": "code",
   "execution_count": 62,
   "metadata": {},
   "outputs": [
    {
     "name": "stdout",
     "output_type": "stream",
     "text": [
      "Alicija\n",
      "Bobas\n",
      "Charlis\n"
     ]
    }
   ],
   "source": [
    "# QA 11 sarasas sarase\n",
    "\n",
    "mokinio_pazymiai = {\n",
    "    'Alicija': {'Matematika': 85, 'Mokslas': 92, 'Istorija': 88},\n",
    "    'Bobas': {'Matematika': 78, 'Mokslas': 85, 'Istorija': 90},\n",
    "    'Charlis': {'Matematika': 92, 'Mokslas': 88, 'Istorija': 76}\n",
    "}\n",
    "\n",
    "for mokinys, dalykai in mokinio_pazymiai.items():\n",
    "    print(mokinys) # atspausdins tik mokynio varda"
   ]
  },
  {
   "cell_type": "code",
   "execution_count": 63,
   "metadata": {},
   "outputs": [
    {
     "name": "stdout",
     "output_type": "stream",
     "text": [
      "Alicija {'Matematika': 85, 'Mokslas': 92, 'Istorija': 88}\n",
      "Bobas {'Matematika': 78, 'Mokslas': 85, 'Istorija': 90}\n",
      "Charlis {'Matematika': 92, 'Mokslas': 88, 'Istorija': 76}\n"
     ]
    }
   ],
   "source": [
    "# QA 11 sarasas sarase\n",
    "\n",
    "mokinio_pazymiai = {\n",
    "    'Alicija': {'Matematika': 85, 'Mokslas': 92, 'Istorija': 88},\n",
    "    'Bobas': {'Matematika': 78, 'Mokslas': 85, 'Istorija': 90},\n",
    "    'Charlis': {'Matematika': 92, 'Mokslas': 88, 'Istorija': 76}\n",
    "}\n",
    "\n",
    "for mokinys, dalykai in mokinio_pazymiai.items(): # nes .items sarase 'mokinio_pazymiai' yra DU kintamieji: mokinys - vardas ir mokinio_pazymiai - sarasas {} \n",
    "    print(mokinys, dalykai) # atspausdins tik mokynio varda ir dalykai (visa sarase), nes sarasas yra ANTRAS .items"
   ]
  },
  {
   "cell_type": "code",
   "execution_count": 61,
   "metadata": {},
   "outputs": [
    {
     "name": "stdout",
     "output_type": "stream",
     "text": [
      "Alicija\n",
      "- Matematika 85\n",
      "- Mokslas 92\n",
      "- Istorija 88\n",
      "Bobas\n",
      "- Matematika 78\n",
      "- Mokslas 85\n",
      "- Istorija 90\n",
      "Charlis\n",
      "- Matematika 92\n",
      "- Mokslas 88\n",
      "- Istorija 76\n"
     ]
    }
   ],
   "source": [
    "# QA 11 sarasas sarase\n",
    "\n",
    "mokinio_pazymiai = {\n",
    "    'Alicija': {'Matematika': 85, 'Mokslas': 92, 'Istorija': 88},\n",
    "    'Bobas': {'Matematika': 78, 'Mokslas': 85, 'Istorija': 90},\n",
    "    'Charlis': {'Matematika': 92, 'Mokslas': 88, 'Istorija': 76}\n",
    "}\n",
    "\n",
    "for mokinys, dalykai in mokinio_pazymiai.items():\n",
    "    print(mokinys) # atspausdins PIRMA .item (mokinys) - jo varda \n",
    "    for dalykas, pazymys in dalykai.items(): # dabar .items isskaidys sarasa 'dalykai' i DU kintamuosius: dalykas ir pazymys\n",
    "        print('-', dalykas, pazymys)\n",
    "    "
   ]
  },
  {
   "cell_type": "markdown",
   "metadata": {},
   "source": [
    "Sukurkite įterptinį `for` ciklą, kuris atspausdintų mokinio vardą ir dalykus su pažymiais."
   ]
  },
  {
   "cell_type": "markdown",
   "metadata": {},
   "source": [
    "## MANO - pagal Balio pavyzdi!!!"
   ]
  },
  {
   "cell_type": "code",
   "execution_count": 15,
   "metadata": {},
   "outputs": [
    {
     "name": "stdout",
     "output_type": "stream",
     "text": [
      "Alicija pazymiai:\n",
      "Matematika: 85\n",
      "Mokslas: 92\n",
      "Istorija: 88\n",
      "\n",
      "Bobas pazymiai:\n",
      "Matematika: 78\n",
      "Mokslas: 85\n",
      "Istorija: 90\n",
      "\n",
      "Charlis pazymiai:\n",
      "Matematika: 92\n",
      "Mokslas: 88\n",
      "Istorija: 76\n",
      "\n"
     ]
    }
   ],
   "source": [
    "mokinio_pazymiai = {\n",
    "    'Alicija': {'Matematika': 85, 'Mokslas': 92, 'Istorija': 88},\n",
    "    'Bobas': {'Matematika': 78, 'Mokslas': 85, 'Istorija': 90},\n",
    "    'Charlis': {'Matematika': 92, 'Mokslas': 88, 'Istorija': 76}\n",
    "}\n",
    "\n",
    "# jusu kodo vieta\n",
    "for vardas, pazymiai in mokinio_pazymiai.items():\n",
    "    print(f\"{vardas} pazymiai:\")\n",
    "    for dalykas, pazymys in pazymiai.items():\n",
    "        print(f\"{dalykas}: {pazymys}\") \n",
    "    print()"
   ]
  },
  {
   "cell_type": "markdown",
   "metadata": {},
   "source": [
    "## Pavyzdys"
   ]
  },
  {
   "cell_type": "code",
   "execution_count": 26,
   "metadata": {},
   "outputs": [
    {
     "name": "stdout",
     "output_type": "stream",
     "text": [
      "Dabar Rokas 20\n",
      "Po pakeitimo Rokas 21\n",
      "Dabar Andrius 34\n",
      "Po pakeitimo Andrius 35\n",
      "Dabar Laura 25\n",
      "Po pakeitimo Laura 26\n"
     ]
    }
   ],
   "source": [
    "zmones = {'Rokas': 20, 'Andrius': 34, 'Laura': 25}\n",
    "\n",
    "for zmogus in zmones.keys():\n",
    "    print(\"Dabar\", zmogus, zmones[zmogus])\n",
    "\n",
    "    \n",
    "    zmones[zmogus] += 1\n",
    "    print(\"Po pakeitimo\", zmogus, zmones[zmogus])"
   ]
  },
  {
   "cell_type": "markdown",
   "metadata": {},
   "source": [
    "Balio pavyzdys"
   ]
  },
  {
   "cell_type": "code",
   "execution_count": 11,
   "metadata": {},
   "outputs": [
    {
     "name": "stdout",
     "output_type": "stream",
     "text": [
      "Alice grades:\n",
      "Math: 85\n",
      "Science: 92\n",
      "History: 88\n",
      "\n",
      "Bob grades:\n",
      "Math: 78\n",
      "Science: 85\n",
      "History: 90\n",
      "\n",
      "Charlie grades:\n",
      "Math: 92\n",
      "Science: 88\n",
      "History: 76\n",
      "\n"
     ]
    }
   ],
   "source": [
    "student_grades = {\n",
    "    'Alice': {'Math': 85, 'Science': 92, 'History': 88},\n",
    "    'Bob': {'Math': 78, 'Science': 85, 'History': 90},\n",
    "    'Charlie': {'Math': 92, 'Science': 88, 'History': 76}\n",
    "}\n",
    "\n",
    "for student, grades in student_grades.items():\n",
    "    print(f'{student} grades:')\n",
    "    for subject, grade in grades.items():\n",
    "        print(f'{subject}: {grade}')\n",
    "    print()"
   ]
  },
  {
   "cell_type": "markdown",
   "metadata": {},
   "source": [
    "Jolitos pavyzdys"
   ]
  },
  {
   "cell_type": "code",
   "execution_count": 17,
   "metadata": {},
   "outputs": [
    {
     "name": "stdout",
     "output_type": "stream",
     "text": [
      "Alicija balai:\n",
      "Matematika: 85\n",
      "Mokslas: 92\n",
      "Istorija: 88\n",
      "\n",
      "Bobas balai:\n",
      "Matematika: 78\n",
      "Mokslas: 85\n",
      "Istorija: 90\n",
      "\n",
      "Charlis balai:\n",
      "Matematika: 92\n",
      "Mokslas: 88\n",
      "Istorija: 76\n",
      "\n"
     ]
    }
   ],
   "source": [
    "mokinio_pazymiai = {\n",
    "    'Alicija': {'Matematika': 85, 'Mokslas': 92, 'Istorija': 88},\n",
    "    'Bobas': {'Matematika': 78, 'Mokslas': 85, 'Istorija': 90},\n",
    "    'Charlis': {'Matematika': 92, 'Mokslas': 88, 'Istorija': 76}\n",
    "}\n",
    "\n",
    "for mokiniai, pazymiai in mokinio_pazymiai.items():\n",
    "    print(f\"{mokiniai} balai:\")\n",
    "    for dalykas, balas in pazymiai.items():\n",
    "        print(f\"{dalykas}: {balas}\")\n",
    "    print()"
   ]
  },
  {
   "cell_type": "markdown",
   "metadata": {},
   "source": [
    "---\n",
    "\n",
    "## Užduotis 1\n",
    "\n",
    "Sukurkite programėlę, kuri:\n",
    "\n",
    "1. Leistu vartotojui įvesti 5 žodžius po vieną\n",
    "1. Pridėtų įvestus žodžius į sąrašą\n",
    "1. Atspausdintų kiekvieną žodį, jo ilgį ir eilės numerį sąraše (pradedant nuo 1)\n",
    "Papildoma: Leiskite programėlei įvesti tiek žodžių, kiek jums reikia. \n",
    "\n",
    "Patarimas: Naudokite `sąrašą`, ciklą `for`, funkcijas `len` ir `index`"
   ]
  },
  {
   "cell_type": "code",
   "execution_count": null,
   "metadata": {},
   "outputs": [],
   "source": []
  },
  {
   "cell_type": "code",
   "execution_count": 58,
   "metadata": {},
   "outputs": [
    {
     "name": "stdout",
     "output_type": "stream",
     "text": [
      "1     5 Tadas\n",
      "2     5 Tomas\n",
      "3     5 Ignas\n",
      "4     7 Saulius\n",
      "5     6 Petras\n"
     ]
    }
   ],
   "source": [
    "# A1\n",
    "\n",
    "zodziai = []\n",
    "for kelintas in range(1, 6):\n",
    "    zodis = input(f'Įveskite {kelintas} žodį: ')\n",
    "    zodziai.append(zodis)\n",
    "for eile, zodis in enumerate(zodziai):\n",
    "    print(f'{eile+1} {len(zodis):>5} {zodis}')"
   ]
  },
  {
   "cell_type": "markdown",
   "metadata": {},
   "source": [
    "---\n",
    "\n",
    "## Užduotis 2\n",
    "\n",
    "Parašykite programą. kuri atspausdintų visus keliamuosius metus nuo 1900 iki 2100."
   ]
  },
  {
   "cell_type": "code",
   "execution_count": null,
   "metadata": {},
   "outputs": [],
   "source": []
  },
  {
   "cell_type": "code",
   "execution_count": 59,
   "metadata": {},
   "outputs": [
    {
     "name": "stdout",
     "output_type": "stream",
     "text": [
      "1904\n",
      "1908\n",
      "1912\n",
      "1916\n",
      "1920\n",
      "1924\n",
      "1928\n",
      "1932\n",
      "1936\n",
      "1940\n",
      "1944\n",
      "1948\n",
      "1952\n",
      "1956\n",
      "1960\n",
      "1964\n",
      "1968\n",
      "1972\n",
      "1976\n",
      "1980\n",
      "1984\n",
      "1988\n",
      "1992\n",
      "1996\n",
      "2000\n",
      "2004\n",
      "2008\n",
      "2012\n",
      "2016\n",
      "2020\n",
      "2024\n",
      "2028\n",
      "2032\n",
      "2036\n",
      "2040\n",
      "2044\n",
      "2048\n",
      "2052\n",
      "2056\n",
      "2060\n",
      "2064\n",
      "2068\n",
      "2072\n",
      "2076\n",
      "2080\n",
      "2084\n",
      "2088\n",
      "2092\n",
      "2096\n"
     ]
    }
   ],
   "source": [
    "# A2\n",
    "\n",
    "visi_metai = range(1900, 2101)\n",
    "for metai in visi_metai:\n",
    "    if metai % 4 == 0 and metai % 100 != 0 or metai % 400 == 0:\n",
    "        print(metai)"
   ]
  }
 ],
 "metadata": {
  "kernelspec": {
   "display_name": "venv",
   "language": "python",
   "name": "python3"
  },
  "language_info": {
   "codemirror_mode": {
    "name": "ipython",
    "version": 3
   },
   "file_extension": ".py",
   "mimetype": "text/x-python",
   "name": "python",
   "nbconvert_exporter": "python",
   "pygments_lexer": "ipython3",
   "version": "3.11.7"
  }
 },
 "nbformat": 4,
 "nbformat_minor": 2
}
