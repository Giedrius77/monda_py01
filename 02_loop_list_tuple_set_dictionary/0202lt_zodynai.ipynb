{
 "cells": [
  {
   "cell_type": "markdown",
   "metadata": {},
   "source": [
    "# Žodynas\n",
    "\n",
    "Žodynas yra viena iš pagrindinių duomenų struktūrų „Python“ kalboje, kuri leidžia jums saugoti raktų ir reikšmių porų kolekcijas.\n",
    "\n",
    "- Žodyne kiekvienas raktas yra susietas su reikšme, ir šią reikšmę galite pasiekti naudodami raktą.\n",
    "- „Python“ kalboje žodynai yra nepaprastai naudingi įvairioms užduotims, tokiose kaip informacijos saugojimas, duomenų organizavimas ir greitas reikšmių gavimas, susietų su konkrečiais raktais."
   ]
  },
  {
   "cell_type": "markdown",
   "metadata": {},
   "source": [
    "## Žodynų kūrimas\n",
    "\n",
    "- Žodynai „Python“ kalboje gali būti sukurti naudojant laužtinius skliaustus `{}`.\n",
    "- Kiekvieną raktą ir reikšmę atskiria dvitaškiai, o daugiau raktų ir reikšmių porų skiria kableliai. \n",
    "\n",
    "**Pavyzdys**:"
   ]
  },
  {
   "cell_type": "code",
   "execution_count": 17,
   "metadata": {},
   "outputs": [
    {
     "name": "stdout",
     "output_type": "stream",
     "text": [
      "{'raktas1': 'reiksme1', 'raktas2': 'reiksme2'}\n"
     ]
    }
   ],
   "source": [
    "zodynas = {'raktas1': 'reiksme1', 'raktas2': 'reiksme2'}\n",
    "print(zodynas)  # {'raktas1': 'reiksme1', 'raktas2': 'reiksme2'}"
   ]
  },
  {
   "cell_type": "code",
   "execution_count": 18,
   "metadata": {},
   "outputs": [
    {
     "name": "stdout",
     "output_type": "stream",
     "text": [
      "{'Kaledos': 'Gruodžio 25-26', 'Nauji Metai': 'Sausio 1', 'Vėlykos': 'Pavasary'}\n"
     ]
    }
   ],
   "source": [
    "sventes = {'Kaledos': 'Gruodžio 25-26', 'Nauji Metai': 'Sausio 1', 'Vėlykos': 'Pavasary'}\n",
    "print(sventes)"
   ]
  },
  {
   "cell_type": "markdown",
   "metadata": {},
   "source": [
    "### `Greita užduotis 1: žodyno kūrimas`\n",
    "\n",
    "**Instrukcijos:**\n",
    "\n",
    "1. Sukurkite žodyną su bent trimis augintinių vardais ir jų amžiais.\n",
    "1. Atspausdinkite visą žodyną.\n",
    "\n",
    "**Patarimas**\n",
    "- Naudokite bet kokį savo pasirinkto pavadinimo kintamąjį."
   ]
  },
  {
   "cell_type": "markdown",
   "metadata": {},
   "source": [
    "MANO"
   ]
  },
  {
   "cell_type": "code",
   "execution_count": 3,
   "metadata": {},
   "outputs": [
    {
     "name": "stdout",
     "output_type": "stream",
     "text": [
      "{'dogas': 'Barnis yra 4 metu', 'kolis': 'Lisa yra 10 metu', 'taksas': 'Zaibas jau 6 metu'}\n"
     ]
    }
   ],
   "source": [
    "# jusu kodo vieta\n",
    "sunys = {\"dogas\": \"Barnis yra 4 metu\", \"kolis\": \"Lisa yra 10 metu\", \"taksas\": \"Zaibas jau 6 metu\"}\n",
    "print(sunys)"
   ]
  },
  {
   "cell_type": "markdown",
   "metadata": {},
   "source": [
    "---\n",
    "\n",
    "## Prieiga prie konkretaus žodyno įrašo\n",
    "\n",
    "- Norėdami pasiekti konkretų įrašą žodyne, tiesiog turite nurodyti raktą laužtiniuose `[]` skliaustuose:"
   ]
  },
  {
   "cell_type": "code",
   "execution_count": 5,
   "metadata": {},
   "outputs": [
    {
     "name": "stdout",
     "output_type": "stream",
     "text": [
      "32\n",
      "24\n",
      "Petras turi: 32\n"
     ]
    }
   ],
   "source": [
    "zmones = {'Jonas': 24, 'Petras': 32}\n",
    "print(zmones['Petras']) # Petras yra raktas [\"\"], atspausdins - 32 \n",
    "print(zmones['Jonas']) # 24\n",
    "\n",
    "petras = zmones['Petras']\n",
    "print(\"Petras turi:\", petras)"
   ]
  },
  {
   "cell_type": "code",
   "execution_count": 21,
   "metadata": {},
   "outputs": [
    {
     "name": "stdout",
     "output_type": "stream",
     "text": [
      "Gruodžio 25-26\n"
     ]
    }
   ],
   "source": [
    "print(sventes['Kaledos'])"
   ]
  },
  {
   "cell_type": "markdown",
   "metadata": {},
   "source": [
    "MANO"
   ]
  },
  {
   "cell_type": "code",
   "execution_count": 14,
   "metadata": {},
   "outputs": [
    {
     "name": "stdout",
     "output_type": "stream",
     "text": [
      "Zaibas jau 6 metu\n",
      "Barnis yra 4 metu\n"
     ]
    }
   ],
   "source": [
    "sunys = {\"dogas\": \"Barnis yra 4 metu\", \"kolis\": \"Lisa yra 10 metu\", \"taksas\": \"Zaibas jau 6 metu\"}\n",
    "print(sunys[\"taksas\"])\n",
    "print(sunys[\"dogas\"])"
   ]
  },
  {
   "cell_type": "markdown",
   "metadata": {},
   "source": [
    "# `Greita užduotis 2: Konkretaus žodyno įrašo pasiekimas`\n",
    "\n",
    "**Instrukcijos:**\n",
    "\n",
    "1. Atspausdinkite bet kurio gyvūno amžių iš žodyno, sukurto `Greitosios užduoties 1` metu."
   ]
  },
  {
   "cell_type": "code",
   "execution_count": 22,
   "metadata": {},
   "outputs": [],
   "source": [
    "# jusu kodo vieta"
   ]
  },
  {
   "cell_type": "markdown",
   "metadata": {},
   "source": [
    "---\n",
    "\n",
    "## Įtraukti įrašą į žodyną\n",
    "- Į žodyną galite įtraukti įrašą naudodami paprastą priskyrimo operatorių `=`, \n",
    "- nurodydami raktą laužtiniuose skliaustuose `[]` po žodyno kintamojo pavadinimo. \n",
    "\n",
    "**Pavyzdys:**"
   ]
  },
  {
   "cell_type": "code",
   "execution_count": 6,
   "metadata": {},
   "outputs": [
    {
     "name": "stdout",
     "output_type": "stream",
     "text": [
      "{'Jonas': 24, 'Petras': 32, 'Ona': 28, 'Pravarde': 'Ponas'}\n"
     ]
    }
   ],
   "source": [
    "zmones = {'Jonas': 24, 'Petras': 32}\n",
    "zmones['Ona'] = 28\n",
    "zmones[\"Pravarde\"] = \"Ponas\"\n",
    "print(zmones)  # {'Jonas': 24, 'Petras': 32, 'Ona': 28}"
   ]
  },
  {
   "cell_type": "code",
   "execution_count": 24,
   "metadata": {},
   "outputs": [
    {
     "name": "stdout",
     "output_type": "stream",
     "text": [
      "{'Kaledos': 'Gruodžio 25-26', 'Nauji Metai': 'Sausio 1', 'Vėlykos': 'Pavasary', 'Joninės': 'Birželio 24'}\n"
     ]
    }
   ],
   "source": [
    "sventes['Joninės'] = 'Birželio 24'\n",
    "print(sventes)"
   ]
  },
  {
   "cell_type": "markdown",
   "metadata": {},
   "source": [
    "### `Greita užduotis 3: Įrašo pridėjimas prie žodyno`\n",
    "\n",
    "**Instrukcijos:**\n",
    "\n",
    "1. Pridėkite naują gyvūną prie žodyno, sukūrto `Greitosios užduoties 1` metu.\n",
    "1. Atspausdinkite atnaujintą žodyną."
   ]
  },
  {
   "cell_type": "markdown",
   "metadata": {},
   "source": [
    "Giedrius - dadeda nauja zodina"
   ]
  },
  {
   "cell_type": "code",
   "execution_count": 16,
   "metadata": {},
   "outputs": [
    {
     "name": "stdout",
     "output_type": "stream",
     "text": [
      "{'dogas': 'Barnis yra 4 metu', 'kolis': 'Lisa yra 10 metu', 'taksas': 'Zaibas jau 6 metu', 'buldogas': 'Tedis jau senas ir 33 metu'}\n"
     ]
    }
   ],
   "source": [
    "# jusu kodo vieta\n",
    "sunys = {\"dogas\": \"Barnis yra 4 metu\", \"kolis\": \"Lisa yra 10 metu\", \"taksas\": \"Zaibas jau 6 metu\"}\n",
    "sunys[\"buldogas\"] = \"Tedis jau senas ir 33 metu\"\n",
    "print(sunys)"
   ]
  },
  {
   "cell_type": "markdown",
   "metadata": {},
   "source": [
    "---\n",
    "\n",
    "## Konkretaus žodyno įrašo keitimas\n",
    "\n",
    "- Norint pakeisti konkretaus žodyno įrašą, reikia nurodyti esamą raktą laužtiniuose skliaustuose `[]` po žodyno kintamojo pavadinimo ir priskirti jam naują reikšmę:"
   ]
  },
  {
   "cell_type": "code",
   "execution_count": 7,
   "metadata": {},
   "outputs": [
    {
     "name": "stdout",
     "output_type": "stream",
     "text": [
      "{'Jonas': 24, 'Petras': 33, 'Ona': 28}\n"
     ]
    }
   ],
   "source": [
    "people = {'Jonas': 24, 'Petras': 32, 'Ona': 28}\n",
    "people['Petras'] = 33\n",
    "print(people)  # {'Jonas': 24, 'Petras': 33, 'Ona': 28}"
   ]
  },
  {
   "cell_type": "code",
   "execution_count": 8,
   "metadata": {},
   "outputs": [
    {
     "data": {
      "text/plain": [
       "{'Jonas': 26, 'Petras': 33, 'Ona': 28}"
      ]
     },
     "execution_count": 8,
     "metadata": {},
     "output_type": "execute_result"
    }
   ],
   "source": [
    "people['Jonas'] += 2\n",
    "people"
   ]
  },
  {
   "cell_type": "markdown",
   "metadata": {},
   "source": [
    "### `Greita užduotis 4: Konkretaus žodyno įrašo keitimas`\n",
    "\n",
    "**Instrukcijos:**\n",
    "\n",
    "1. Pakeiskite bet kurio gyvūno amžių iš sukurtos sąrašo `užduoties 1`.\n",
    "1. Atspausdinkite atnaujintą žodyną."
   ]
  },
  {
   "cell_type": "markdown",
   "metadata": {},
   "source": [
    "Giedrius - pakeite amziu bei dadejo \"buldogas\", taciau reikia rasyti pilna israiska"
   ]
  },
  {
   "cell_type": "code",
   "execution_count": 19,
   "metadata": {},
   "outputs": [
    {
     "name": "stdout",
     "output_type": "stream",
     "text": [
      "{'dogas': 'Barnis yre 12 metu', 'kolis': 'Lisa yra 10 metu', 'taksas': 'Zaibas jau 6 metu', 'buldogas': 'Zaibas jau 25 met'}\n"
     ]
    }
   ],
   "source": [
    "# jusu kodo vieta\n",
    "sunys = {\"dogas\": \"Barnis yra 4 metu\", \"kolis\": \"Lisa yra 10 metu\", \"taksas\": \"Zaibas jau 6 metu\"}\n",
    "sunys[\"buldogas\"] = \"Tedis jau senas ir 33 metu\"\n",
    "sunys[\"buldogas\"] = \"Zaibas jau 25 met\"\n",
    "sunys[\"dogas\"] = \"Barnis yre 12 metu\"\n",
    "print(sunys)"
   ]
  },
  {
   "cell_type": "markdown",
   "metadata": {},
   "source": [
    "---\n",
    "\n",
    "## Konkretaus žodyno įrašo trinimas\n",
    "\n",
    "- Norint ištrinti žodyno įrašą, galite naudoti `del` komandą, po to seka žodyno kintamojo pavadinimas ir raktas laužtiniuose skliaustuose, kurio reikšmę norite pašalinti iš žodyno."
   ]
  },
  {
   "cell_type": "code",
   "execution_count": 29,
   "metadata": {},
   "outputs": [
    {
     "name": "stdout",
     "output_type": "stream",
     "text": [
      "{'Jonas': 24, 'Petras': 32}\n"
     ]
    }
   ],
   "source": [
    "people = {'Jonas': 24, 'Petras': 32, 'Ona': 28}\n",
    "del people['Ona']\n",
    "print(people)  # {'Jonas': 24, 'Petras': 32}"
   ]
  },
  {
   "cell_type": "markdown",
   "metadata": {},
   "source": [
    "### `Greita užduotis 5: konkretaus žodyno įrašo ištrynimas`\n",
    "\n",
    "Dabar praktikuosimės greitai trinti žodyno įrašus:\n",
    "\n",
    "**Instrukcijos:**\n",
    "\n",
    "1. Naudokite `del` komandą, kad pašalintumėte vieną iš augintinių ir jo kiekį iš sukurtos žodyno `greitosios užduoties 1`.\n",
    "1. Atspausdinkite augintinių žodyną dar kartą, kad pamatytumėte rezultatą."
   ]
  },
  {
   "cell_type": "markdown",
   "metadata": {},
   "source": [
    "Giedrius - istryne \"buldogas\" (bet ji pirmiausiai dadejo, pakeite metus) ir \"kolis\""
   ]
  },
  {
   "cell_type": "code",
   "execution_count": 21,
   "metadata": {},
   "outputs": [
    {
     "name": "stdout",
     "output_type": "stream",
     "text": [
      "{'dogas': 'Barnis yre 12 metu', 'buldogas': 'Zaibas jau 25 met'}\n"
     ]
    }
   ],
   "source": [
    "# jusu kodo vieta\n",
    "sunys = {\"dogas\": \"Barnis yra 4 metu\", \"kolis\": \"Lisa yra 10 metu\", \"taksas\": \"Zaibas jau 6 metu\"}\n",
    "sunys[\"buldogas\"] = \"Tedis jau senas ir 33 metu\"\n",
    "sunys[\"buldogas\"] = \"Zaibas jau 25 met\"\n",
    "sunys[\"dogas\"] = \"Barnis yre 12 metu\"\n",
    "del sunys[\"taksas\"]\n",
    "del sunys[\"kolis\"]\n",
    "print(sunys)"
   ]
  },
  {
   "cell_type": "code",
   "execution_count": 14,
   "metadata": {},
   "outputs": [
    {
     "name": "stdout",
     "output_type": "stream",
     "text": [
      "{'Tomas': 32, 'Saule': 44}\n",
      "{'Tomas': 32, 'Saule': 44, 'Petras': 65}\n",
      "{'Tomas': 32, 'Saule': 48, 'Petras': 65}\n",
      "{'Tomas': 101, 'Saule': 48, 'Petras': 65}\n",
      "{'Saule': 48, 'Petras': 65}\n",
      "dict_keys(['Saule', 'Petras'])\n"
     ]
    }
   ],
   "source": [
    "amzius = {\"Tomas\": 32, \"Saule\": 44} # zodynas - list\n",
    "print(amzius)\n",
    "amzius[\"Petras\"] = 65 # ikels nauja reiksme \"Petras\": 65\n",
    "print(amzius)\n",
    "amzius[\"Saule\"] += 4 # prides prie Saules 4\n",
    "print(amzius)\n",
    "amzius[\"Tomas\"] = 101 # pakeis Tomo amziu is 32 i 101\n",
    "print(amzius)\n",
    "del amzius[\"Tomas\"] # istrins visa rakta kartu su reiksme\n",
    "print(amzius)\n",
    "\n",
    "raktas = amzius.keys() # tik raktai\n",
    "print(raktas)"
   ]
  },
  {
   "cell_type": "markdown",
   "metadata": {},
   "source": [
    "---\n",
    "\n",
    "## Žodyno metodai\n",
    "\n",
    "Žodyno metodai leidžia atlikti veiksmus su žodynu ir manipuliuoti jo turiniu. Štai keletas dažniausiai naudojamų metodų:\n",
    "\n",
    "`.keys()` Grąžina visus raktus žodyne."
   ]
  },
  {
   "cell_type": "code",
   "execution_count": 13,
   "metadata": {},
   "outputs": [
    {
     "name": "stdout",
     "output_type": "stream",
     "text": [
      "dict_keys(['Jonas', 'Petras', 'Ona'])\n"
     ]
    }
   ],
   "source": [
    "people = {'Jonas': 24, 'Petras': 32, 'Ona': 28}\n",
    "raktiniai_zodziai = people.keys()\n",
    "print(raktiniai_zodziai)  # dict_keys(['Jonas', 'Petras', 'Ona'])"
   ]
  },
  {
   "cell_type": "markdown",
   "metadata": {},
   "source": [
    "`.values()` Grąžina visas žodyno reikšmes."
   ]
  },
  {
   "cell_type": "code",
   "execution_count": 30,
   "metadata": {},
   "outputs": [
    {
     "name": "stdout",
     "output_type": "stream",
     "text": [
      "dict_values([24, 32, 28])\n"
     ]
    }
   ],
   "source": [
    "people = {'Jonas': 24, 'Petras': 32, 'Ona': 28}\n",
    "reiksmiu_zodziai = people.values()\n",
    "print(reiksmiu_zodziai)  # dict_values([24, 32, 28])\n"
   ]
  },
  {
   "cell_type": "markdown",
   "metadata": {},
   "source": [
    "`.items()` Grąžina `sąrašą`, kuriame yra visi žodyno raktai ir jų atitinkamos reikšmės."
   ]
  },
  {
   "cell_type": "code",
   "execution_count": 17,
   "metadata": {},
   "outputs": [
    {
     "name": "stdout",
     "output_type": "stream",
     "text": [
      "dict_items([('Jonas', 24), ('Petras', 32), ('Ona', 28)])\n"
     ]
    }
   ],
   "source": [
    "people = {'Jonas': 24, 'Petras': 32, 'Ona': 28}\n",
    "items = people.items()\n",
    "print(items)  # dict_items([('Jonas', 24), ('Petras', 32), ('Ona', 28)])"
   ]
  },
  {
   "cell_type": "code",
   "execution_count": 28,
   "metadata": {},
   "outputs": [
    {
     "name": "stdout",
     "output_type": "stream",
     "text": [
      "dict_items([('Jonas', 24), ('Petras', 32), ('Ona', 28)])\n",
      "\n",
      "[('Jonas', 24), ('Petras', 32), ('Ona', 28)]\n",
      "24\n"
     ]
    }
   ],
   "source": [
    "people = {'Jonas': 24, 'Petras': 32, 'Ona': 28}\n",
    "items = people.items()\n",
    "print(items)\n",
    "print()\n",
    "items = list(items)\n",
    "print(items)\n",
    "print(items[0][1])"
   ]
  },
  {
   "cell_type": "markdown",
   "metadata": {},
   "source": [
    "`.get()` Grąžina reikšmę, kuri atitinka nurodytą raktą. Jei raktas nerastas, gali grąžinti numatytąją reikšmę (nurodytą kaip atskiras argumentas) arba None."
   ]
  },
  {
   "cell_type": "code",
   "execution_count": 42,
   "metadata": {},
   "outputs": [
    {
     "name": "stdout",
     "output_type": "stream",
     "text": [
      "32 \n",
      "\n",
      "24\n",
      "24 \n",
      "\n",
      "None\n"
     ]
    }
   ],
   "source": [
    "people = {'Jonas': 24, 'Petras': 32, 'Ona': 28}\n",
    "print(people['Petras'],\"\\n\") # su tarpu i sekancia eilute \\n\n",
    "value1 = people.get('Jonas')\n",
    "print(value1)  # 24\n",
    "print(people['Jonas'],\"\\n\") # beveik vienodai, bet skiriasi, patrumpinta versija nereikia naujo kintamojo!!!\n",
    "value2 = people.get('ema') # nerado, atspausdins NONE\n",
    "print(value2)\n"
   ]
  },
  {
   "cell_type": "markdown",
   "metadata": {},
   "source": [
    "`.get` metodas negrąžina reikšmės, jeigu neranda rakto. Galima nurodyti standartinę reikšmę, kurią grąžintų `.get()` neradus rakto žodyne, kaip antrą argumentą."
   ]
  },
  {
   "cell_type": "code",
   "execution_count": 46,
   "metadata": {},
   "outputs": [
    {
     "name": "stdout",
     "output_type": "stream",
     "text": [
      "0\n",
      "None\n"
     ]
    }
   ],
   "source": [
    "people = {'Jonas': 24, 'Petras': 32, 'Ona': 28}\n",
    "print(people.get('Juozas', 0))  # 0\n",
    "print(people.get('Juozas'))  # None"
   ]
  },
  {
   "cell_type": "markdown",
   "metadata": {},
   "source": [
    "`.pop()` Pašalina ir grąžina reikšmę, susietą su nurodytu raktu. Jei raktas nerastas, gali grąžinti numatytąją reikšmę (nurodytą kaip atskiras argumentas) arba sukelti klaidą."
   ]
  },
  {
   "cell_type": "code",
   "execution_count": 3,
   "metadata": {},
   "outputs": [
    {
     "name": "stdout",
     "output_type": "stream",
     "text": [
      "32\n",
      "0\n",
      "{'Jonas': 24, 'Ona': 28}\n"
     ]
    }
   ],
   "source": [
    "people = {'Jonas': 24, 'Petras': 32, 'Ona': 28}\n",
    "value_reiksme = people.pop('Petras')\n",
    "print(value_reiksme)  # 32\n",
    "\n",
    "not_found = people.pop('Juozas', 0)\n",
    "print(not_found)  # 0\n",
    "\n",
    "print(people)  # {'Jonas': 24, 'Ona': 28}"
   ]
  },
  {
   "cell_type": "markdown",
   "metadata": {},
   "source": [
    "`.clear()` Išvalo žodyno turinį, jį padarant tuščiu žodynu."
   ]
  },
  {
   "cell_type": "code",
   "execution_count": 12,
   "metadata": {},
   "outputs": [
    {
     "name": "stdout",
     "output_type": "stream",
     "text": [
      "{}\n"
     ]
    }
   ],
   "source": [
    "people = {'Jonas': 24, 'Petras': 32, 'Ona': 28}\n",
    "people.clear()\n",
    "print(people)  # {}"
   ]
  },
  {
   "cell_type": "markdown",
   "metadata": {},
   "source": [
    "Pastaba dėl \"`del`\" ir \"`pop()`\" skirtumo:\n",
    "\n",
    "Abu metodai leidžia pašalinti įrašą iš žodyno, tačiau yra šiek tiek skirtumų:\n",
    "\n",
    "- jei norite tik pašalinti įrašą be galimybės grąžinti reikšmę, turėtumėte naudoti `del`. \n",
    "- Jei norite ir pašalinti, ir grąžinti reikšmę, `pop()` yra geresnis pasirinkimas, ypač jei turite numatytąją reikšmę raktui neradus."
   ]
  },
  {
   "cell_type": "markdown",
   "metadata": {},
   "source": [
    "# `Greita užduotis 6: žodyno metodai`\n",
    "\n",
    "Dabar išbandykime naudodami šiuos žodyno metodus:\n",
    "\n",
    "1. Atspausdinkite gyvūnų žodyno reikšmes.\n",
    "1. Naudokite `.items()` metodą, kad atspausdintumėte visų raktų ir reikšmių sąrašą gyvūnų žodyne.\n",
    "1. Naudokite `.get()` metodą, kad gautumėte vieno gyvūno amžių, nurodant numatytąją vertę, jei gyvūno nėra.\n",
    "1. Naudokite `.pop()` metodą, kad pašalintumėte vieną gyvūną ir jo amžių iš žodyno.\n",
    "1. Išvalykite gyvūnų žodyno turinį, naudodami `.clear()` metodą, ir atspausdinkite tuščią žodyną."
   ]
  },
  {
   "cell_type": "code",
   "execution_count": 13,
   "metadata": {},
   "outputs": [
    {
     "name": "stdout",
     "output_type": "stream",
     "text": [
      "{'liutas': 25, 'zirafa': 14, 'begemotas': 52}\n",
      "dict_items([('liutas', 25), ('zirafa', 14), ('begemotas', 52)])\n",
      "25\n",
      "{'liutas': 25, 'zirafa': 14}\n",
      "{}\n",
      "None\n"
     ]
    }
   ],
   "source": [
    "# jusu kodo vieta\n",
    "#1\n",
    "gyvunai = {\"liutas\": 25, \"zirafa\": 14, \"begemotas\": 52}\n",
    "print(gyvunai)\n",
    "#2\n",
    "print(gyvunai.items())\n",
    "#3\n",
    "print(gyvunai.get(\"liutas\"))\n",
    "#4\n",
    "begemotas = gyvunai.pop(\"begemotas\")\n",
    "print(gyvunai)\n",
    "#5\n",
    "gyvunai.clear()\n",
    "print(gyvunai)\n",
    "#5\n",
    "print(gyvunai.clear()) # ???? kodel spausdina None\n"
   ]
  },
  {
   "cell_type": "markdown",
   "metadata": {},
   "source": [
    "## `.update()` metodas\n",
    "atnaujina žodyną - esamas reikšmes pakeičia, naujas prideda. Senų nepašalina."
   ]
  },
  {
   "cell_type": "code",
   "execution_count": 22,
   "metadata": {},
   "outputs": [
    {
     "name": "stdout",
     "output_type": "stream",
     "text": [
      "{'Jonas': 33, 'Petras': 32, 'Ona': 28, 'Kęstutis': 40}\n",
      "\n",
      "{'Jonas': 33, 'Petras': 32, 'Ona': 21, 'Kęstutis': 40, 'Marco': 2, 'Maija': 3}\n",
      "\n",
      "{'Jonas': 33, 'Petras': 100, 'Ona': 21, 'Kęstutis': 40, 'Marco': 2, 'Maija': 3}\n"
     ]
    }
   ],
   "source": [
    "people = {'Jonas': 24, 'Petras': 32, 'Ona': 28}\n",
    "people.update({\"Kęstutis\": 40, \"Jonas\": 33})\n",
    "print(people)\n",
    "print()\n",
    "atnaujinimas = {\"Marco\": 2, \"Maija\": 3, \"Ona\": 21}\n",
    "people.update(atnaujinimas)\n",
    "print(people)\n",
    "print()\n",
    "people.update({\"Petras\": 100})\n",
    "print(people)"
   ]
  },
  {
   "cell_type": "markdown",
   "metadata": {},
   "source": [
    "# `Papildoma Užduotis`\n",
    "\n",
    "Sukurkite tuščią žodyną pavadinimu \"cars\" ir pridėkite informaciją apie tris skirtingus automobilius. Nebijokite naudoti savo kūrybiškumo ir įtraukti įvairių gamintojų, modelių, metų, spalvų ir variklių tipų.\n",
    "\n",
    "1. Atvaizduokite informaciją apie vieną automobilį iš žodyno.\n",
    "1. Pakeiskite informaciją apie vieną automobilį (pavyzdžiui, pakeiskite variklio tipą).\n",
    "1. Pridėkite naują automobilį į žodyną.\n",
    "1. Pašalinkite informaciją apie vieną automobilį iš žodyno.\n",
    "1. Atvaizduokite bendrą automobilių skaičių žodyne.\n",
    "1. Patikrinkite, ar konkretus automobilis yra žodyne.\n",
    "1. Išvalykite žodyną.\n",
    "1. Sukurkite žodyno atnaujinimą, atnaujinkite žodyną"
   ]
  },
  {
   "cell_type": "code",
   "execution_count": 47,
   "metadata": {},
   "outputs": [
    {
     "name": "stdout",
     "output_type": "stream",
     "text": [
      "{'Gamintojas1': 'Japonija', 'Modelis1': 'Toyota', 'Metai1': 2002, 'Spalva1': 'balta', 'variklio tipas1': 'dyzelinis'}\n",
      "\n",
      "{'Gamintojas3': 'Italija', 'Modelis3': 'Ferrari', 'Metai3': 1995, 'Spalva3': 'raudona', 'variklio tipas3': 'azotas'}\n",
      "\n",
      "{'Gamintojas4': 'Vokietija', 'Modelis4': 'BMW', 'Metai4': 2023, 'Spalva4': 'pilka', 'variklio tipas4': 'dujos'}\n"
     ]
    }
   ],
   "source": [
    "cars1 = {\"Gamintojas1\": \"Japonija\", \"Modelis1\": \"Toyota\", \"Metai1\": 2002, \"Spalva1\": \"balta\", \"variklio tipas1\": \"dyzelinis\"}\n",
    "cars2 = {\"Gamintojas2\": \"USA\", \"Modelis2\": \"Tesla\", \"Metai2\": 2022, \"Spalva2\": \"juoda\", \"variklio tipas2\": \"elektrinis\"}\n",
    "cars3 = {\"Gamintojas3\": \"Italija\", \"Modelis3\": \"Ferrari\", \"Metai3\": 1995, \"Spalva3\": \"raudona\", \"variklio tipas3\": \"benzininis\"}\n",
    "#1\n",
    "print(cars1)\n",
    "print()\n",
    "#2\n",
    "cars3[\"variklio tipas3\"] = \"azotas\"\n",
    "print(cars3)\n",
    "print()\n",
    "#3\n",
    "cars4 = {\"Gamintojas4\": \"Vokietija\", \"Modelis4\": \"BMW\", \"Metai4\": 2023, \"Spalva4\": \"pilka\", \"variklio tipas4\": \"dujos\"}\n",
    "print(cars4)\n",
    "print()\n",
    "#4\n"
   ]
  },
  {
   "cell_type": "code",
   "execution_count": null,
   "metadata": {},
   "outputs": [],
   "source": []
  },
  {
   "cell_type": "code",
   "execution_count": null,
   "metadata": {},
   "outputs": [],
   "source": []
  },
  {
   "cell_type": "code",
   "execution_count": 1,
   "metadata": {},
   "outputs": [
    {
     "name": "stdout",
     "output_type": "stream",
     "text": [
      "{'brand': 'Mazda', 'year': 1996, 'horse power': 700, 'car type': 'Coupe', 'wheel size': 18}\n",
      "[19, 20, 24]\n",
      "{'brand': 'Smart', 'year': '2014', 'horse power': '77', 'car type': 'hatchback', 'wheel size': '13'}\n",
      "[{'brand': 'BMW', 'year': 2012, 'horse power': 240, 'car type': 'Coupe', 'wheel size': 19}, {'brand': 'Mazda', 'year': 1996, 'horse power': 700, 'car type': 'Coupe', 'wheel size': 18}, {'brand': 'Tesla', 'year': 2023, 'horse power': 1200, 'car type': 'Truck', 'wheel size': 24}]\n",
      "3\n",
      "True\n",
      "[]\n"
     ]
    }
   ],
   "source": [
    "# kazkurio studento kodo pavyzdys\n",
    "#1\n",
    "brand = [\"BMW\", \"Mazda\", \"Tesla\"]\n",
    "year = [2012, 1996, 2023]\n",
    "horse_power = [240, 700, 1200]\n",
    "car_type = [\"Coupe\", \"Coupe\", \"Truck\"]\n",
    "wheel_size = [19 ,18 ,24]\n",
    "car1 = [brand[0], year[0], horse_power[0], car_type[0], wheel_size[0]]\n",
    "car2 = [brand[1], year[1], horse_power[1], car_type[0], wheel_size[1]]\n",
    "car3 = [brand[2], year[2], horse_power[2], car_type[2], wheel_size[2]]       \n",
    "#2\n",
    "cars =  [\n",
    "    {'brand': brand[0], 'year': year[0], 'horse power': horse_power[0], 'car type': car_type[0], 'wheel size': wheel_size[0]},\n",
    "    {'brand': brand[1], 'year': year[1], 'horse power': horse_power[1], 'car type': car_type[1], 'wheel size': wheel_size[1]},\n",
    "    {'brand': brand[2], 'year': year[2], 'horse power': horse_power[2], 'car type': car_type[2], 'wheel size': wheel_size[2]}\n",
    "        ]\n",
    "print(cars[1])\n",
    "#3\n",
    "wheel_size.pop(1)\n",
    "wheel_size.insert(1, 20)\n",
    "print(wheel_size)\n",
    "#4\n",
    "brand.append(\"Smart\")\n",
    "year.append(\"2014\")\n",
    "horse_power.append(\"77\")\n",
    "car_type.append(\"hatchback\")\n",
    "wheel_size.append(\"13\")\n",
    "cars.append({'brand': brand[3], 'year': year[3], 'horse power': horse_power[3], 'car type': car_type[3], 'wheel size': wheel_size[3]})\n",
    "print(cars[3])\n",
    "#5\n",
    "cars.pop(3)\n",
    "print(cars)\n",
    "#6\n",
    "print(len(cars))\n",
    "#7\n",
    "print(\"BMW\" in brand)\n",
    "#8\n",
    "cars.clear()\n",
    "print(cars)"
   ]
  }
 ],
 "metadata": {
  "kernelspec": {
   "display_name": "venv",
   "language": "python",
   "name": "python3"
  },
  "language_info": {
   "codemirror_mode": {
    "name": "ipython",
    "version": 3
   },
   "file_extension": ".py",
   "mimetype": "text/x-python",
   "name": "python",
   "nbconvert_exporter": "python",
   "pygments_lexer": "ipython3",
   "version": "3.11.7"
  }
 },
 "nbformat": 4,
 "nbformat_minor": 2
}
